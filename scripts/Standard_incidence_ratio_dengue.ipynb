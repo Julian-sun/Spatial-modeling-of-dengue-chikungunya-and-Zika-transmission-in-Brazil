{
 "cells": [
  {
   "cell_type": "code",
   "execution_count": 1,
   "metadata": {
    "scrolled": true
   },
   "outputs": [],
   "source": [
    "import pandas as pd\n",
    "from pandas import DataFrame\n",
    "import numpy as np\n",
    "import datetime\n",
    "from datetime import datetime, timedelta\n",
    "#import plotly.graph_objs as go\n",
    "import matplotlib.pyplot as plt\n",
    "import csv\n",
    "import seaborn as sns\n",
    "%matplotlib inline\n",
    "sns.set()\n",
    "from PIL import Image"
   ]
  },
  {
   "cell_type": "markdown",
   "metadata": {},
   "source": [
    "# Dengue dataset:\n",
    "\n",
    "The dataset is just the filtered confirmed cases, using spark, of the original dataset (see SINAN_extracao_dengue)"
   ]
  },
  {
   "cell_type": "markdown",
   "metadata": {},
   "source": [
    "# Confirmed Cases"
   ]
  },
  {
   "cell_type": "code",
   "execution_count": 2,
   "metadata": {
    "scrolled": false
   },
   "outputs": [
    {
     "data": {
      "text/plain": [
       "['/Users/julianeoliveira/Desktop/hard_disc/Datalake/SINAN/Dengue/Dengue_confirmado/dengueconf2014.csv',\n",
       " '/Users/julianeoliveira/Desktop/hard_disc/Datalake/SINAN/Dengue/Dengue_confirmado/dengueconf2015_A.csv',\n",
       " '/Users/julianeoliveira/Desktop/hard_disc/Datalake/SINAN/Dengue/Dengue_confirmado/dengueconf2017.csv',\n",
       " '/Users/julianeoliveira/Desktop/hard_disc/Datalake/SINAN/Dengue/Dengue_confirmado/dengueconf2015_C.csv',\n",
       " '/Users/julianeoliveira/Desktop/hard_disc/Datalake/SINAN/Dengue/Dengue_confirmado/dengueconf2015_B.csv',\n",
       " '/Users/julianeoliveira/Desktop/hard_disc/Datalake/SINAN/Dengue/Dengue_confirmado/dengueconf2016.csv',\n",
       " '/Users/julianeoliveira/Desktop/hard_disc/Datalake/SINAN/Dengue/Dengue_confirmado/dengueconf2012.csv',\n",
       " '/Users/julianeoliveira/Desktop/hard_disc/Datalake/SINAN/Dengue/Dengue_confirmado/dengueconf2013_a.csv',\n",
       " '/Users/julianeoliveira/Desktop/hard_disc/Datalake/SINAN/Dengue/Dengue_confirmado/dengueconf2011.csv',\n",
       " '/Users/julianeoliveira/Desktop/hard_disc/Datalake/SINAN/Dengue/Dengue_confirmado/dengueconf2013_b.csv',\n",
       " '/Users/julianeoliveira/Desktop/hard_disc/Datalake/SINAN/Dengue/Dengue_confirmado/dengueconf2010.csv',\n",
       " '/Users/julianeoliveira/Desktop/hard_disc/Datalake/SINAN/Dengue/Dengue_confirmado/dengueconf2018.csv',\n",
       " '/Users/julianeoliveira/Desktop/hard_disc/Datalake/SINAN/Dengue/Dengue_confirmado/dengueconf2019.csv']"
      ]
     },
     "execution_count": 2,
     "metadata": {},
     "output_type": "execute_result"
    }
   ],
   "source": [
    "import sys\n",
    "import glob\n",
    "\n",
    "path = r'/Users/julianeoliveira/Desktop/hard_disc/Datalake/SINAN/Dengue/Dengue_confirmado/'\n",
    "filenames = glob.glob(path + \"/*.csv\")\n",
    "filenames"
   ]
  },
  {
   "cell_type": "markdown",
   "metadata": {},
   "source": [
    "### Clean data of 2019"
   ]
  },
  {
   "cell_type": "code",
   "execution_count": 3,
   "metadata": {},
   "outputs": [
    {
     "data": {
      "text/plain": [
       "'/Users/julianeoliveira/Desktop/hard_disc/Datalake/SINAN/Dengue/Dengue_confirmado/dengueconf2019.csv'"
      ]
     },
     "execution_count": 3,
     "metadata": {},
     "output_type": "execute_result"
    }
   ],
   "source": [
    "filenames[-1]"
   ]
  },
  {
   "cell_type": "code",
   "execution_count": 4,
   "metadata": {},
   "outputs": [],
   "source": [
    "df1 = pd.read_csv(filenames[-1], low_memory = False, encoding=\"iso-8859-1\")"
   ]
  },
  {
   "cell_type": "code",
   "execution_count": 5,
   "metadata": {},
   "outputs": [
    {
     "name": "stdout",
     "output_type": "stream",
     "text": [
      "tp_not\n",
      "id_agravo\n",
      "sg_uf_not\n",
      "id_municip\n",
      "dt_notific\n",
      "sem_not\n",
      "classi_fin\n",
      "nu_ano\n",
      "criterio\n",
      "dt_sin_pri\n",
      "sem_pri\n",
      "cs_sexo\n",
      "nu_idade_n\n",
      "dt_nasc\n",
      "codmunres\n",
      "sg_uf\n"
     ]
    }
   ],
   "source": [
    "for value in df1.columns:\n",
    "    print(value)"
   ]
  },
  {
   "cell_type": "code",
   "execution_count": 6,
   "metadata": {
    "scrolled": false
   },
   "outputs": [
    {
     "data": {
      "text/plain": [
       "0          19770302.0\n",
       "1          19860730.0\n",
       "2          19870129.0\n",
       "3          19991010.0\n",
       "4          20071006.0\n",
       "              ...    \n",
       "1310404    19960609.0\n",
       "1310405    19850306.0\n",
       "1310406    20180725.0\n",
       "1310407    19850626.0\n",
       "1310408    20180321.0\n",
       "Name: dt_nasc, Length: 1310409, dtype: float64"
      ]
     },
     "execution_count": 6,
     "metadata": {},
     "output_type": "execute_result"
    }
   ],
   "source": [
    "df1['dt_nasc']"
   ]
  },
  {
   "cell_type": "code",
   "execution_count": 7,
   "metadata": {
    "scrolled": true
   },
   "outputs": [
    {
     "name": "stdout",
     "output_type": "stream",
     "text": [
      "<class 'pandas.core.frame.DataFrame'>\n",
      "RangeIndex: 1310409 entries, 0 to 1310408\n",
      "Data columns (total 16 columns):\n",
      " #   Column      Non-Null Count    Dtype  \n",
      "---  ------      --------------    -----  \n",
      " 0   tp_not      1309902 non-null  float64\n",
      " 1   id_agravo   1309901 non-null  object \n",
      " 2   sg_uf_not   1309905 non-null  float64\n",
      " 3   id_municip  1309906 non-null  object \n",
      " 4   dt_notific  1309901 non-null  object \n",
      " 5   sem_not     1309903 non-null  object \n",
      " 6   classi_fin  1310409 non-null  int64  \n",
      " 7   nu_ano      1309904 non-null  object \n",
      " 8   criterio    1310406 non-null  object \n",
      " 9   dt_sin_pri  1309906 non-null  object \n",
      " 10  sem_pri     1309906 non-null  float64\n",
      " 11  cs_sexo     1309900 non-null  object \n",
      " 12  nu_idade_n  14 non-null       float64\n",
      " 13  dt_nasc     1293601 non-null  float64\n",
      " 14  codmunres   1309897 non-null  object \n",
      " 15  sg_uf       1309904 non-null  float64\n",
      "dtypes: float64(6), int64(1), object(9)\n",
      "memory usage: 160.0+ MB\n"
     ]
    }
   ],
   "source": [
    "df1.info()"
   ]
  },
  {
   "cell_type": "code",
   "execution_count": 8,
   "metadata": {},
   "outputs": [],
   "source": [
    "#df1['dt_nasc'] = df1['dt_nasc'].replace('        ', '16771001')"
   ]
  },
  {
   "cell_type": "code",
   "execution_count": 9,
   "metadata": {},
   "outputs": [],
   "source": [
    "df1['dt_nasc'] = df1['dt_nasc'].fillna(0)"
   ]
  },
  {
   "cell_type": "code",
   "execution_count": 10,
   "metadata": {},
   "outputs": [],
   "source": [
    "df1['dt_nasc'] = df1['dt_nasc'].astype(int)"
   ]
  },
  {
   "cell_type": "code",
   "execution_count": 11,
   "metadata": {},
   "outputs": [],
   "source": [
    "df1['date']= pd.to_datetime(df1['dt_nasc'].astype(str), errors='coerce')"
   ]
  },
  {
   "cell_type": "code",
   "execution_count": 12,
   "metadata": {
    "scrolled": false
   },
   "outputs": [
    {
     "data": {
      "text/plain": [
       "0         1977-03-02\n",
       "1         1986-07-30\n",
       "2         1987-01-29\n",
       "3         1999-10-10\n",
       "4         2007-10-06\n",
       "             ...    \n",
       "1310404   1996-06-09\n",
       "1310405   1985-03-06\n",
       "1310406   2018-07-25\n",
       "1310407   1985-06-26\n",
       "1310408   2018-03-21\n",
       "Name: date, Length: 1310409, dtype: datetime64[ns]"
      ]
     },
     "execution_count": 12,
     "metadata": {},
     "output_type": "execute_result"
    }
   ],
   "source": [
    "df1['date']"
   ]
  },
  {
   "cell_type": "code",
   "execution_count": 13,
   "metadata": {},
   "outputs": [],
   "source": [
    "from datetime import date \n",
    "def calculateAge(born): \n",
    "    today = date(2019, 6, 1)\n",
    "    try:  \n",
    "        birthday = born.replace(year = today.year) \n",
    "  \n",
    "    # raised when birth date is February 29 \n",
    "    # and the current year is not a leap year \n",
    "    except ValueError:  \n",
    "        birthday = born.replace(year = today.year, \n",
    "                  month = born.month + 1, day = 1) \n",
    "  \n",
    "    if birthday > today: \n",
    "        return today.year - born.year - 1\n",
    "    else: \n",
    "        return today.year - born.year "
   ]
  },
  {
   "cell_type": "code",
   "execution_count": 14,
   "metadata": {},
   "outputs": [],
   "source": [
    "nu_age = []\n",
    "for value in df1['date']:\n",
    "    nu_age.append(calculateAge(value))"
   ]
  },
  {
   "cell_type": "code",
   "execution_count": 15,
   "metadata": {},
   "outputs": [],
   "source": [
    "df1['nu_idade_n'] = nu_age"
   ]
  },
  {
   "cell_type": "code",
   "execution_count": 19,
   "metadata": {
    "scrolled": true
   },
   "outputs": [
    {
     "data": {
      "text/plain": [
       "Index(['tp_not', 'id_agravo', 'sg_uf_not', 'id_municip', 'dt_notific',\n",
       "       'sem_not', 'classi_fin', 'nu_ano', 'criterio', 'dt_sin_pri', 'sem_pri',\n",
       "       'cs_sexo', 'nu_idade_n', 'dt_nasc', 'id_mn_resi', 'sg_uf', 'date'],\n",
       "      dtype='object')"
      ]
     },
     "execution_count": 19,
     "metadata": {},
     "output_type": "execute_result"
    }
   ],
   "source": [
    "df1.columns"
   ]
  },
  {
   "cell_type": "code",
   "execution_count": 17,
   "metadata": {
    "scrolled": false
   },
   "outputs": [
    {
     "data": {
      "text/plain": [
       "21.0     27103\n",
       "22.0     26580\n",
       "23.0     26390\n",
       "24.0     26197\n",
       "19.0     25927\n",
       "         ...  \n",
       "112.0        2\n",
       "113.0        1\n",
       "114.0        1\n",
       "117.0        1\n",
       "118.0        1\n",
       "Name: nu_idade_n, Length: 119, dtype: int64"
      ]
     },
     "execution_count": 17,
     "metadata": {},
     "output_type": "execute_result"
    }
   ],
   "source": [
    "df1.nu_idade_n.value_counts()"
   ]
  },
  {
   "cell_type": "code",
   "execution_count": 18,
   "metadata": {},
   "outputs": [],
   "source": [
    "df1= df1.rename(columns={\"codmunres\": \"id_mn_resi\"})"
   ]
  },
  {
   "cell_type": "markdown",
   "metadata": {},
   "source": [
    "### end clean data 2019"
   ]
  },
  {
   "cell_type": "code",
   "execution_count": 20,
   "metadata": {
    "scrolled": true
   },
   "outputs": [
    {
     "name": "stdout",
     "output_type": "stream",
     "text": [
      "/Users/julianeoliveira/Desktop/hard_disc/Datalake/SINAN/Dengue/Dengue_confirmado/dengueconf2014.csv\n",
      "/Users/julianeoliveira/Desktop/hard_disc/Datalake/SINAN/Dengue/Dengue_confirmado/dengueconf2015_A.csv\n",
      "/Users/julianeoliveira/Desktop/hard_disc/Datalake/SINAN/Dengue/Dengue_confirmado/dengueconf2017.csv\n",
      "/Users/julianeoliveira/Desktop/hard_disc/Datalake/SINAN/Dengue/Dengue_confirmado/dengueconf2015_C.csv\n",
      "/Users/julianeoliveira/Desktop/hard_disc/Datalake/SINAN/Dengue/Dengue_confirmado/dengueconf2015_B.csv\n",
      "/Users/julianeoliveira/Desktop/hard_disc/Datalake/SINAN/Dengue/Dengue_confirmado/dengueconf2016.csv\n",
      "/Users/julianeoliveira/Desktop/hard_disc/Datalake/SINAN/Dengue/Dengue_confirmado/dengueconf2012.csv\n",
      "/Users/julianeoliveira/Desktop/hard_disc/Datalake/SINAN/Dengue/Dengue_confirmado/dengueconf2013_a.csv\n",
      "/Users/julianeoliveira/Desktop/hard_disc/Datalake/SINAN/Dengue/Dengue_confirmado/dengueconf2011.csv\n",
      "/Users/julianeoliveira/Desktop/hard_disc/Datalake/SINAN/Dengue/Dengue_confirmado/dengueconf2013_b.csv\n",
      "/Users/julianeoliveira/Desktop/hard_disc/Datalake/SINAN/Dengue/Dengue_confirmado/dengueconf2010.csv\n",
      "/Users/julianeoliveira/Desktop/hard_disc/Datalake/SINAN/Dengue/Dengue_confirmado/dengueconf2018.csv\n",
      "/Users/julianeoliveira/Desktop/hard_disc/Datalake/SINAN/Dengue/Dengue_confirmado/dengueconf2019.csv\n"
     ]
    }
   ],
   "source": [
    "lst_df = []\n",
    "for f in filenames:\n",
    "    print(f)\n",
    "    df = pd.read_csv(f, low_memory = False, encoding=\"iso-8859-1\")    \n",
    "    df.columns= df.columns.str.lower()\n",
    "    lst_df.append(df)"
   ]
  },
  {
   "cell_type": "code",
   "execution_count": 21,
   "metadata": {},
   "outputs": [],
   "source": [
    "lst_df[-1] = df1"
   ]
  },
  {
   "cell_type": "code",
   "execution_count": 22,
   "metadata": {},
   "outputs": [],
   "source": [
    "df = pd.concat(lst_df,sort=True)"
   ]
  },
  {
   "cell_type": "markdown",
   "metadata": {},
   "source": [
    "We will create year and month from  variable 'dt_notific' in order to use in our work. (see dengue_case_file for the problematic relating to the variable tp extract the week)\n",
    "\n",
    "df['Mycol'] =  df['dt_notific'].apply(pd.to_datetime)\n",
    "df['year'] = pd.DatetimeIndex(df['Mycol']).year\n",
    "df['month'] = pd.DatetimeIndex(df['Mycol']).month\n",
    "df.year.value_counts() # number of cases per year"
   ]
  },
  {
   "cell_type": "markdown",
   "metadata": {},
   "source": [
    "### Process to clean age group and padronize following the age category given in population from IBGE"
   ]
  },
  {
   "cell_type": "code",
   "execution_count": 23,
   "metadata": {},
   "outputs": [],
   "source": [
    "df.nu_idade_n = df.nu_idade_n.fillna(0)"
   ]
  },
  {
   "cell_type": "code",
   "execution_count": 24,
   "metadata": {},
   "outputs": [
    {
     "data": {
      "text/plain": [
       "array([ 4.010e+03,  4.012e+03,  4.066e+03,  4.014e+03,  4.016e+03,\n",
       "        4.030e+03,  4.023e+03,  4.032e+03,  4.005e+03,  4.021e+03,\n",
       "        4.049e+03,  4.056e+03,  4.063e+03,  4.022e+03,  4.043e+03,\n",
       "        4.081e+03,  4.024e+03,  4.070e+03,  4.013e+03,  4.009e+03,\n",
       "        4.007e+03,  4.044e+03,  4.037e+03,  4.045e+03,  4.042e+03,\n",
       "        4.040e+03,  4.034e+03,  4.046e+03,  4.052e+03,  4.019e+03,\n",
       "        4.020e+03,  4.029e+03,  4.036e+03,  4.027e+03,  4.039e+03,\n",
       "        4.047e+03,  4.051e+03,  4.077e+03,  4.011e+03,  4.025e+03,\n",
       "        4.026e+03,  4.002e+03,  4.061e+03,  4.038e+03,  4.028e+03,\n",
       "        4.053e+03,  4.072e+03,  4.054e+03,  4.035e+03,  4.033e+03,\n",
       "        4.018e+03,  3.006e+03,  4.058e+03,  4.001e+03,  4.015e+03,\n",
       "        4.006e+03,  4.055e+03,  4.069e+03,  4.073e+03,  4.080e+03,\n",
       "        4.017e+03,  4.008e+03,  4.004e+03,  4.031e+03,  4.048e+03,\n",
       "        4.064e+03,  3.010e+03,  4.057e+03,  4.062e+03,  3.005e+03,\n",
       "        2.001e+03,  4.041e+03,  4.068e+03,  4.059e+03,  4.003e+03,\n",
       "        4.050e+03,  4.076e+03,  4.083e+03,  4.065e+03,  3.001e+03,\n",
       "        4.071e+03,  3.008e+03,  4.060e+03,  4.075e+03,  4.067e+03,\n",
       "        4.087e+03,  4.085e+03,  2.009e+03,  3.003e+03,  2.004e+03,\n",
       "        4.078e+03,  4.092e+03,  4.074e+03,  3.009e+03,  2.002e+03,\n",
       "        4.084e+03,  3.007e+03,  4.079e+03,  3.002e+03,  2.008e+03,\n",
       "        4.094e+03,  4.088e+03,  2.007e+03,  3.004e+03,  2.040e+03,\n",
       "        2.015e+03,  4.089e+03,  4.086e+03,  2.005e+03,  4.093e+03,\n",
       "        4.090e+03,  4.099e+03,  3.011e+03,  2.028e+03,  2.017e+03,\n",
       "        2.011e+03,  2.003e+03,  4.082e+03,  4.097e+03,  2.021e+03,\n",
       "        4.100e+03,  4.108e+03,  2.030e+03,  4.403e+03,  4.113e+03,\n",
       "        2.018e+03,  4.102e+03,  2.027e+03,  4.404e+03,  4.091e+03,\n",
       "        4.095e+03,  4.815e+03,  2.016e+03,  4.402e+03,  2.012e+03,\n",
       "        2.013e+03,  2.020e+03,  2.010e+03,  2.025e+03,  2.014e+03,\n",
       "        2.029e+03,  2.023e+03,  2.019e+03,  2.006e+03,  2.022e+03,\n",
       "        2.024e+03,  4.096e+03,  3.026e+03,  4.406e+03,  2.026e+03,\n",
       "        4.401e+03,  4.107e+03,  2.000e+03,  4.098e+03,  4.405e+03,\n",
       "        2.034e+03,  6.800e+01,  4.200e+01,  2.200e+01,  4.400e+03,\n",
       "        4.103e+03,  3.030e+03,  4.101e+03,  4.106e+03,  4.110e+03,\n",
       "        4.407e+03,  4.440e+03,  3.500e+01,  3.053e+03,  2.069e+03,\n",
       "        4.000e+03,  3.021e+03,  3.300e+03,  4.120e+03,  1.120e+03,\n",
       "        4.412e+03,  3.301e+03,  4.112e+03,  1.028e+03,  1.000e+03,\n",
       "        3.012e+03,  3.251e+03,  4.515e+03,  7.000e+01,  4.105e+03,\n",
       "        4.111e+03,  3.027e+03,  4.115e+03,  1.040e+03,  1.076e+03,\n",
       "        1.043e+03,  3.013e+03,  2.052e+03,  2.031e+03,  4.114e+03,\n",
       "        4.800e+01,  1.018e+03,  1.100e+01,  4.104e+03,  3.000e+01,\n",
       "        1.022e+03,  1.800e+01,  2.085e+03,  5.100e+01,  3.200e+01,\n",
       "        2.100e+01,  2.039e+03,  1.015e+03,  3.020e+03,  4.109e+03,\n",
       "        5.600e+01,  1.038e+03,  3.600e+01,  3.082e+03,  2.064e+03,\n",
       "        3.072e+03,  3.049e+03,  1.075e+03,  3.066e+03,  2.080e+03,\n",
       "        1.027e+03,  3.050e+03,  3.016e+03,  3.019e+03,  3.061e+03,\n",
       "        4.117e+03,  3.041e+03,  2.068e+03,  1.084e+03,  4.116e+03,\n",
       "        1.056e+03,  3.000e+00,  6.000e+00,  2.000e+00,  3.017e+03,\n",
       "        1.900e+01,  3.046e+03,  2.059e+03,  1.016e+03,  2.300e+01,\n",
       "        3.071e+03,  2.600e+01,  3.300e+01,  5.700e+01,  4.814e+03,\n",
       "        1.000e+00,  1.300e+01,  4.600e+01,  2.400e+01,  2.054e+03,\n",
       "        1.099e+03,  1.035e+03,  1.400e+01,  4.408e+03,  3.800e+01,\n",
       "        2.066e+03,  3.400e+01,  1.200e+01,  4.900e+01,  6.500e+01,\n",
       "        4.000e+00,  3.058e+03,  3.039e+03,  1.037e+03,  1.032e+03,\n",
       "        3.033e+03,  1.055e+03,  3.059e+03,  1.009e+03,  1.039e+03,\n",
       "        7.900e+01,  5.200e+01,  1.021e+03,  3.018e+03,  1.034e+03,\n",
       "        1.033e+03,  3.000e+03,  4.662e+03,  1.042e+03,  1.105e+03,\n",
       "        1.064e+03,  1.062e+03,  4.274e+03,  1.051e+03,  1.054e+03,\n",
       "        1.077e+03,  4.300e+01,  4.181e+03,  4.748e+03,  3.044e+03,\n",
       "        6.300e+01,  2.200e+03,  4.020e+02,  3.056e+03,  4.219e+03,\n",
       "        1.025e+03,  3.014e+03,  3.040e+03,  2.072e+03,  3.022e+03,\n",
       "        3.330e+03,  2.032e+03,  2.046e+03,  3.025e+03,  3.048e+03,\n",
       "        3.045e+03,  3.069e+03,  3.043e+03,  2.036e+03,  2.035e+03,\n",
       "        3.074e+03,  3.028e+03,  1.023e+03,  2.070e+03,  2.043e+03,\n",
       "        2.038e+03,  3.023e+03,  3.060e+03,  2.042e+03,  2.060e+03,\n",
       "        2.044e+03,  2.050e+03,  2.063e+03,  2.053e+03,  2.037e+03,\n",
       "        3.035e+03,  3.037e+03,  3.052e+03,  2.061e+03,  2.062e+03,\n",
       "        2.049e+03,  1.004e+03,  2.045e+03,  3.070e+03,  2.047e+03,\n",
       "        3.029e+03,  3.047e+03,  4.501e+03,  3.051e+03,  4.124e+03,\n",
       "        4.144e+03,  4.769e+03,  2.058e+03,  8.200e+01,  3.042e+03,\n",
       "        3.036e+03,  3.055e+03,  2.051e+03,  3.038e+03,  4.312e+03,\n",
       "        1.010e+03,  3.031e+03,  4.410e+03,  3.068e+03,  3.034e+03,\n",
       "        1.700e+01,  4.999e+03,  4.684e+03,  3.057e+03,  4.500e+01,\n",
       "        3.067e+03,  2.033e+03,  1.001e+03,  1.005e+03,  3.024e+03,\n",
       "        2.067e+03,  3.063e+03,  2.076e+03,  4.663e+03,  4.125e+03,\n",
       "        3.032e+03,  1.008e+03,  2.073e+03,  3.054e+03,  2.057e+03,\n",
       "        1.011e+03,  3.064e+03,  1.006e+03,  8.000e+00,  2.048e+03,\n",
       "        3.062e+03,  3.015e+03,  4.409e+03,  2.075e+03,  3.065e+03,\n",
       "        2.071e+03,  4.130e+03,  2.041e+03,  1.031e+03,  1.013e+03,\n",
       "        4.700e+01,  2.056e+03,  3.076e+03,  1.002e+03,  2.090e+03,\n",
       "        2.078e+03,  3.078e+03,  2.099e+03,  8.000e+01,  1.058e+03,\n",
       "        3.083e+03,  1.000e+01,  2.086e+03,  1.003e+03,  1.500e+01,\n",
       "        8.800e+01,  7.200e+01,  1.046e+03,  4.322e+03,  4.444e+03,\n",
       "        2.055e+03,  3.081e+03,  1.019e+03,  2.074e+03,  2.093e+03,\n",
       "        1.020e+03,  2.065e+03,  2.077e+03,  1.036e+03,  2.081e+03,\n",
       "        3.079e+03,  3.073e+03,  3.075e+03,  2.079e+03,  3.080e+03,\n",
       "        3.077e+03,  4.118e+03,  2.082e+03,  2.098e+03,  3.086e+03,\n",
       "        2.088e+03,  1.050e+03,  4.100e+01,  1.065e+03,  5.900e+01,\n",
       "        7.800e+01,  6.000e+01,  7.600e+01,  5.300e+01,  0.000e+00,\n",
       "        6.100e+01,  2.800e+01,  3.900e+01,  4.400e+01,  2.000e+01,\n",
       "        2.900e+01,  9.000e+00,  3.700e+01,  5.400e+01,  2.500e+01,\n",
       "        1.600e+01,  5.000e+01, -1.000e+00,  2.700e+01,  6.700e+01,\n",
       "        3.100e+01,  8.900e+01,  5.000e+00,  6.600e+01,  4.000e+01,\n",
       "        6.900e+01,  6.400e+01,  7.000e+00,  5.800e+01,  7.700e+01,\n",
       "        8.100e+01,  5.500e+01,  7.100e+01,  7.300e+01,  6.200e+01,\n",
       "        7.400e+01,  8.300e+01,  1.070e+02,  8.700e+01,  7.500e+01,\n",
       "        9.400e+01,  9.000e+01,  8.400e+01,  9.100e+01,  8.600e+01,\n",
       "        9.600e+01,  8.500e+01,  9.700e+01,  9.200e+01,  1.010e+02,\n",
       "        9.500e+01,  9.300e+01,  1.050e+02,  9.800e+01,  9.900e+01,\n",
       "        1.090e+02,  1.030e+02,  1.020e+02,  1.040e+02,  1.000e+02,\n",
       "        1.060e+02,  1.120e+02,  1.160e+02,  1.140e+02,  1.150e+02,\n",
       "        1.080e+02,  1.130e+02,  1.170e+02,  1.190e+02,  1.180e+02])"
      ]
     },
     "execution_count": 24,
     "metadata": {},
     "output_type": "execute_result"
    }
   ],
   "source": [
    "df.nu_idade_n.unique()"
   ]
  },
  {
   "cell_type": "code",
   "execution_count": 25,
   "metadata": {},
   "outputs": [],
   "source": [
    "vector =[]\n",
    "for value in df.nu_idade_n.astype(int).astype(str):\n",
    "    if value == '1': value = 2001\n",
    "    elif value == '2': value = 2001\n",
    "    elif value == '3': value = 3001\n",
    "    elif 4<= int(value) < 10: value = '400'+value\n",
    "    elif len(value) == 2: value = '40' + value\n",
    "    elif len(value) == 3: value = '4' + value\n",
    "    vector.extend([value])"
   ]
  },
  {
   "cell_type": "code",
   "execution_count": 26,
   "metadata": {
    "scrolled": true
   },
   "outputs": [
    {
     "data": {
      "text/plain": [
       "array(['0', '1000', '1001', '1002', '1003', '1004', '1005', '1006',\n",
       "       '1008', '1009', '1010', '1011', '1013', '1015', '1016', '1018',\n",
       "       '1019', '1020', '1021', '1022', '1023', '1025', '1027', '1028',\n",
       "       '1031', '1032', '1033', '1034', '1035', '1036', '1037', '1038',\n",
       "       '1039', '1040', '1042', '1043', '1046', '1050', '1051', '1054',\n",
       "       '1055', '1056', '1058', '1062', '1064', '1065', '1075', '1076',\n",
       "       '1077', '1084', '1099', '1105', '1120', '2000', '2001', '2002',\n",
       "       '2003', '2004', '2005', '2006', '2007', '2008', '2009', '2010',\n",
       "       '2011', '2012', '2013', '2014', '2015', '2016', '2017', '2018',\n",
       "       '2019', '2020', '2021', '2022', '2023', '2024', '2025', '2026',\n",
       "       '2027', '2028', '2029', '2030', '2031', '2032', '2033', '2034',\n",
       "       '2035', '2036', '2037', '2038', '2039', '2040', '2041', '2042',\n",
       "       '2043', '2044', '2045', '2046', '2047', '2048', '2049', '2050',\n",
       "       '2051', '2052', '2053', '2054', '2055', '2056', '2057', '2058',\n",
       "       '2059', '2060', '2061', '2062', '2063', '2064', '2065', '2066',\n",
       "       '2067', '2068', '2069', '2070', '2071', '2072', '2073', '2074',\n",
       "       '2075', '2076', '2077', '2078', '2079', '2080', '2081', '2082',\n",
       "       '2085', '2086', '2088', '2090', '2093', '2098', '2099', '2200',\n",
       "       '3000', '3001', '3002', '3003', '3004', '3005', '3006', '3007',\n",
       "       '3008', '3009', '3010', '3011', '3012', '3013', '3014', '3015',\n",
       "       '3016', '3017', '3018', '3019', '3020', '3021', '3022', '3023',\n",
       "       '3024', '3025', '3026', '3027', '3028', '3029', '3030', '3031',\n",
       "       '3032', '3033', '3034', '3035', '3036', '3037', '3038', '3039',\n",
       "       '3040', '3041', '3042', '3043', '3044', '3045', '3046', '3047',\n",
       "       '3048', '3049', '3050', '3051', '3052', '3053', '3054', '3055',\n",
       "       '3056', '3057', '3058', '3059', '3060', '3061', '3062', '3063',\n",
       "       '3064', '3065', '3066', '3067', '3068', '3069', '3070', '3071',\n",
       "       '3072', '3073', '3074', '3075', '3076', '3077', '3078', '3079',\n",
       "       '3080', '3081', '3082', '3083', '3086', '3251', '3300', '3301',\n",
       "       '3330', '40-1', '4000', '4001', '4002', '4003', '4004', '4005',\n",
       "       '4006', '4007', '4008', '4009', '4010', '4011', '4012', '4013',\n",
       "       '4014', '4015', '4016', '4017', '4018', '4019', '4020', '4021',\n",
       "       '4022', '4023', '4024', '4025', '4026', '4027', '4028', '4029',\n",
       "       '4030', '4031', '4032', '4033', '4034', '4035', '4036', '4037',\n",
       "       '4038', '4039', '4040', '4041', '4042', '4043', '4044', '4045',\n",
       "       '4046', '4047', '4048', '4049', '4050', '4051', '4052', '4053',\n",
       "       '4054', '4055', '4056', '4057', '4058', '4059', '4060', '4061',\n",
       "       '4062', '4063', '4064', '4065', '4066', '4067', '4068', '4069',\n",
       "       '4070', '4071', '4072', '4073', '4074', '4075', '4076', '4077',\n",
       "       '4078', '4079', '4080', '4081', '4082', '4083', '4084', '4085',\n",
       "       '4086', '4087', '4088', '4089', '4090', '4091', '4092', '4093',\n",
       "       '4094', '4095', '4096', '4097', '4098', '4099', '4100', '4101',\n",
       "       '4102', '4103', '4104', '4105', '4106', '4107', '4108', '4109',\n",
       "       '4110', '4111', '4112', '4113', '4114', '4115', '4116', '4117',\n",
       "       '4118', '4119', '4120', '4124', '4125', '4130', '4144', '4181',\n",
       "       '4219', '4274', '4312', '4322', '4400', '4401', '4402', '4403',\n",
       "       '4404', '4405', '4406', '4407', '4408', '4409', '4410', '4412',\n",
       "       '4440', '4444', '4501', '4515', '4662', '4663', '4684', '4748',\n",
       "       '4769', '4814', '4815', '4999'], dtype='<U4')"
      ]
     },
     "execution_count": 26,
     "metadata": {},
     "output_type": "execute_result"
    }
   ],
   "source": [
    "np.unique(vector)"
   ]
  },
  {
   "cell_type": "code",
   "execution_count": 27,
   "metadata": {
    "scrolled": true
   },
   "outputs": [],
   "source": [
    "df['nu_idade_n_cor'] = vector"
   ]
  },
  {
   "cell_type": "code",
   "execution_count": 28,
   "metadata": {},
   "outputs": [],
   "source": [
    "# Categorize age group\n",
    "# 0,  101,  202,  303,  404,  505,  606,  707,  808,  909, 1010,\n",
    "#       1111, 1212, 1313, 1414, 1515, 1616, 1717, 1818, 1919, 2024, 2529,\n",
    "#       3034, 3539, 4044, 4549, 5054, 5559, 6064, 6569, 7074, 7579, 8099],"
   ]
  },
  {
   "cell_type": "code",
   "execution_count": 29,
   "metadata": {},
   "outputs": [],
   "source": [
    "df = df[(df.nu_idade_n_cor != '0')& (df.nu_idade_n_cor !='40-1')]"
   ]
  },
  {
   "cell_type": "code",
   "execution_count": 30,
   "metadata": {},
   "outputs": [],
   "source": [
    "fx = []\n",
    "for value in df.nu_idade_n_cor:\n",
    "    if 1000 <= int(value) <4005: faixa = '4' \n",
    "    elif 4005 <=int(value)< 4010: faixa = '509'\n",
    "    elif 4010 <=int(value)< 4015: faixa = '1014'\n",
    "    elif 4015 <=int(value)< 4020: faixa = '1519'\n",
    "    elif 4020 <=int(value)< 4025: faixa = '2024'\n",
    "    elif 4025 <=int(value)< 4030: faixa = '2529'\n",
    "    elif 4030 <=int(value)< 4035: faixa = '3034'\n",
    "    elif 4035 <=int(value)< 4040: faixa = '3539' \n",
    "    elif 4040 <=int(value)< 4045: faixa = '4044'   \n",
    "    elif 4045 <=int(value)< 4050: faixa = '4549'\n",
    "    elif 4050 <=int(value)< 4055: faixa = '5054'\n",
    "    elif 4055 <=int(value)< 4060: faixa = '5559'\n",
    "    elif 4060 <=int(value)< 4065: faixa = '6064'\n",
    "    elif 4065 <=int(value)< 4070: faixa = '6569'\n",
    "    elif 4070 <=int(value)< 4075: faixa = '7074'\n",
    "    elif 4075 <=int(value)< 4080: faixa = '7579'\n",
    "    elif 4080 <=int(value)< 8100: faixa = '8099'\n",
    "    fx.extend([faixa])             "
   ]
  },
  {
   "cell_type": "code",
   "execution_count": 31,
   "metadata": {
    "scrolled": true
   },
   "outputs": [
    {
     "data": {
      "text/html": [
       "<div>\n",
       "<style scoped>\n",
       "    .dataframe tbody tr th:only-of-type {\n",
       "        vertical-align: middle;\n",
       "    }\n",
       "\n",
       "    .dataframe tbody tr th {\n",
       "        vertical-align: top;\n",
       "    }\n",
       "\n",
       "    .dataframe thead th {\n",
       "        text-align: right;\n",
       "    }\n",
       "</style>\n",
       "<table border=\"1\" class=\"dataframe\">\n",
       "  <thead>\n",
       "    <tr style=\"text-align: right;\">\n",
       "      <th></th>\n",
       "      <th>classi_fin</th>\n",
       "      <th>criterio</th>\n",
       "      <th>cs_escol_n</th>\n",
       "      <th>cs_gestant</th>\n",
       "      <th>cs_raca</th>\n",
       "      <th>cs_sexo</th>\n",
       "      <th>date</th>\n",
       "      <th>dt_nasc</th>\n",
       "      <th>dt_notific</th>\n",
       "      <th>dt_sin_pri</th>\n",
       "      <th>...</th>\n",
       "      <th>nu_ano</th>\n",
       "      <th>nu_idade_n</th>\n",
       "      <th>nu_notific</th>\n",
       "      <th>sem_not</th>\n",
       "      <th>sem_pri</th>\n",
       "      <th>sg_uf</th>\n",
       "      <th>sg_uf_not</th>\n",
       "      <th>tp_not</th>\n",
       "      <th>nu_idade_n_cor</th>\n",
       "      <th>faixa</th>\n",
       "    </tr>\n",
       "  </thead>\n",
       "  <tbody>\n",
       "    <tr>\n",
       "      <th>0</th>\n",
       "      <td>10</td>\n",
       "      <td>1</td>\n",
       "      <td>1.0</td>\n",
       "      <td>6.0</td>\n",
       "      <td>4.0</td>\n",
       "      <td>F</td>\n",
       "      <td>NaT</td>\n",
       "      <td>NaN</td>\n",
       "      <td>2014-10-07T00:00:00.000-03:00</td>\n",
       "      <td>2014-09-30</td>\n",
       "      <td>...</td>\n",
       "      <td>2014</td>\n",
       "      <td>4010.0</td>\n",
       "      <td>5219</td>\n",
       "      <td>201441</td>\n",
       "      <td>201440.0</td>\n",
       "      <td>12.0</td>\n",
       "      <td>NaN</td>\n",
       "      <td>NaN</td>\n",
       "      <td>4010</td>\n",
       "      <td>1014</td>\n",
       "    </tr>\n",
       "  </tbody>\n",
       "</table>\n",
       "<p>1 rows × 23 columns</p>\n",
       "</div>"
      ],
      "text/plain": [
       "   classi_fin criterio  cs_escol_n  cs_gestant  cs_raca cs_sexo date  dt_nasc  \\\n",
       "0          10        1         1.0         6.0      4.0       F  NaT      NaN   \n",
       "\n",
       "                      dt_notific  dt_sin_pri  ... nu_ano nu_idade_n  \\\n",
       "0  2014-10-07T00:00:00.000-03:00  2014-09-30  ...   2014     4010.0   \n",
       "\n",
       "  nu_notific sem_not   sem_pri sg_uf sg_uf_not  tp_not  nu_idade_n_cor  faixa  \n",
       "0       5219  201441  201440.0  12.0       NaN     NaN            4010   1014  \n",
       "\n",
       "[1 rows x 23 columns]"
      ]
     },
     "execution_count": 31,
     "metadata": {},
     "output_type": "execute_result"
    }
   ],
   "source": [
    "df['faixa'] = fx\n",
    "df.head(1)"
   ]
  },
  {
   "cell_type": "code",
   "execution_count": 32,
   "metadata": {},
   "outputs": [],
   "source": [
    "df['count'] = 1"
   ]
  },
  {
   "cell_type": "code",
   "execution_count": 33,
   "metadata": {
    "scrolled": true
   },
   "outputs": [
    {
     "data": {
      "text/plain": [
       "Index(['classi_fin', 'criterio', 'cs_escol_n', 'cs_gestant', 'cs_raca',\n",
       "       'cs_sexo', 'date', 'dt_nasc', 'dt_notific', 'dt_sin_pri', 'id_agravo',\n",
       "       'id_mn_resi', 'id_municip', 'nu_ano', 'nu_idade_n', 'nu_notific',\n",
       "       'sem_not', 'sem_pri', 'sg_uf', 'sg_uf_not', 'tp_not', 'nu_idade_n_cor',\n",
       "       'faixa', 'count'],\n",
       "      dtype='object')"
      ]
     },
     "execution_count": 33,
     "metadata": {},
     "output_type": "execute_result"
    }
   ],
   "source": [
    "df.columns"
   ]
  },
  {
   "cell_type": "code",
   "execution_count": 35,
   "metadata": {},
   "outputs": [
    {
     "data": {
      "text/plain": [
       "0          120020\n",
       "1          120020\n",
       "2          120020\n",
       "3          120020\n",
       "4          120020\n",
       "            ...  \n",
       "1310403    354075\n",
       "1310404    354075\n",
       "1310405    352690\n",
       "1310407    354890\n",
       "1310408    354890\n",
       "Name: id_mn_resi, Length: 6997552, dtype: object"
      ]
     },
     "execution_count": 35,
     "metadata": {},
     "output_type": "execute_result"
    }
   ],
   "source": [
    "df.id_mn_resi"
   ]
  },
  {
   "cell_type": "markdown",
   "metadata": {},
   "source": [
    "# Construct the dataset of dengue with the desired variables"
   ]
  },
  {
   "cell_type": "code",
   "execution_count": 36,
   "metadata": {},
   "outputs": [],
   "source": [
    "data = df.filter(['id_mn_resi','nu_ano','cs_sexo','faixa','count'])"
   ]
  },
  {
   "cell_type": "code",
   "execution_count": 37,
   "metadata": {},
   "outputs": [],
   "source": [
    "data= data.rename(columns={\"id_mn_resi\": \"codmunres\"})"
   ]
  },
  {
   "cell_type": "code",
   "execution_count": 38,
   "metadata": {},
   "outputs": [],
   "source": [
    "data= data.rename(columns={\"nu_ano\": \"year\"})"
   ]
  },
  {
   "cell_type": "code",
   "execution_count": 39,
   "metadata": {
    "scrolled": true
   },
   "outputs": [
    {
     "data": {
      "text/plain": [
       "F    3900749\n",
       "M    3088362\n",
       "I       8246\n",
       "Name: cs_sexo, dtype: int64"
      ]
     },
     "execution_count": 39,
     "metadata": {},
     "output_type": "execute_result"
    }
   ],
   "source": [
    "data.cs_sexo.value_counts()"
   ]
  },
  {
   "cell_type": "code",
   "execution_count": 40,
   "metadata": {},
   "outputs": [],
   "source": [
    "dados = data.groupby(['codmunres','year','cs_sexo','faixa'])['count'].sum().reset_index()"
   ]
  },
  {
   "cell_type": "code",
   "execution_count": 41,
   "metadata": {},
   "outputs": [],
   "source": [
    "dados.cs_sexo = dados.cs_sexo.replace('F', 1)\n",
    "dados.cs_sexo= dados.cs_sexo.replace('M', 2)"
   ]
  },
  {
   "cell_type": "code",
   "execution_count": 42,
   "metadata": {
    "scrolled": false
   },
   "outputs": [
    {
     "data": {
      "text/html": [
       "<div>\n",
       "<style scoped>\n",
       "    .dataframe tbody tr th:only-of-type {\n",
       "        vertical-align: middle;\n",
       "    }\n",
       "\n",
       "    .dataframe tbody tr th {\n",
       "        vertical-align: top;\n",
       "    }\n",
       "\n",
       "    .dataframe thead th {\n",
       "        text-align: right;\n",
       "    }\n",
       "</style>\n",
       "<table border=\"1\" class=\"dataframe\">\n",
       "  <thead>\n",
       "    <tr style=\"text-align: right;\">\n",
       "      <th></th>\n",
       "      <th>codmunres</th>\n",
       "      <th>year</th>\n",
       "      <th>cs_sexo</th>\n",
       "      <th>faixa</th>\n",
       "      <th>count</th>\n",
       "    </tr>\n",
       "  </thead>\n",
       "  <tbody>\n",
       "    <tr>\n",
       "      <th>0</th>\n",
       "      <td>110000</td>\n",
       "      <td>2015</td>\n",
       "      <td>1</td>\n",
       "      <td>4</td>\n",
       "      <td>1</td>\n",
       "    </tr>\n",
       "    <tr>\n",
       "      <th>1</th>\n",
       "      <td>110001</td>\n",
       "      <td>2010</td>\n",
       "      <td>1</td>\n",
       "      <td>1014</td>\n",
       "      <td>2</td>\n",
       "    </tr>\n",
       "    <tr>\n",
       "      <th>2</th>\n",
       "      <td>110001</td>\n",
       "      <td>2010</td>\n",
       "      <td>1</td>\n",
       "      <td>2024</td>\n",
       "      <td>1</td>\n",
       "    </tr>\n",
       "    <tr>\n",
       "      <th>3</th>\n",
       "      <td>110001</td>\n",
       "      <td>2010</td>\n",
       "      <td>1</td>\n",
       "      <td>3539</td>\n",
       "      <td>1</td>\n",
       "    </tr>\n",
       "    <tr>\n",
       "      <th>4</th>\n",
       "      <td>110001</td>\n",
       "      <td>2010</td>\n",
       "      <td>1</td>\n",
       "      <td>4549</td>\n",
       "      <td>1</td>\n",
       "    </tr>\n",
       "  </tbody>\n",
       "</table>\n",
       "</div>"
      ],
      "text/plain": [
       "  codmunres  year cs_sexo faixa  count\n",
       "0    110000  2015       1     4      1\n",
       "1    110001  2010       1  1014      2\n",
       "2    110001  2010       1  2024      1\n",
       "3    110001  2010       1  3539      1\n",
       "4    110001  2010       1  4549      1"
      ]
     },
     "execution_count": 42,
     "metadata": {},
     "output_type": "execute_result"
    }
   ],
   "source": [
    "dados.head()"
   ]
  },
  {
   "cell_type": "code",
   "execution_count": 43,
   "metadata": {
    "scrolled": false
   },
   "outputs": [
    {
     "data": {
      "text/plain": [
       "year\n",
       "2010     869202\n",
       "2011     600937\n",
       "2012     401708\n",
       "2013    1188781\n",
       "2014     475208\n",
       "2015    1386874\n",
       "2016     479364\n",
       "2017     167600\n",
       "2018     146493\n",
       "2019    1280783\n",
       "Name: count, dtype: int64"
      ]
     },
     "execution_count": 43,
     "metadata": {},
     "output_type": "execute_result"
    }
   ],
   "source": [
    "dados.groupby(['year'])['count'].sum()"
   ]
  },
  {
   "cell_type": "code",
   "execution_count": 44,
   "metadata": {},
   "outputs": [
    {
     "data": {
      "text/plain": [
       "2015    1387045\n",
       "2019    1280791\n",
       "2013    1188923\n",
       "2010     869246\n",
       "2011     601017\n",
       "2016     479382\n",
       "2014     475282\n",
       "2012     401768\n",
       "2017     167604\n",
       "2018     146494\n",
       "Name: nu_ano, dtype: int64"
      ]
     },
     "execution_count": 44,
     "metadata": {},
     "output_type": "execute_result"
    }
   ],
   "source": [
    "df.nu_ano.value_counts()"
   ]
  },
  {
   "cell_type": "markdown",
   "metadata": {},
   "source": [
    "# Population"
   ]
  },
  {
   "cell_type": "code",
   "execution_count": 47,
   "metadata": {},
   "outputs": [],
   "source": [
    "pop = pd.read_csv('/Users/julianeoliveira/Desktop/hard_disc/Datalake/POPULACAO/csv/POPBR12.csv')"
   ]
  },
  {
   "cell_type": "code",
   "execution_count": 48,
   "metadata": {
    "scrolled": true
   },
   "outputs": [
    {
     "data": {
      "text/plain": [
       "Index(['MUNIC_RES', 'ANO', 'SEXO', 'SITUACAO', 'FXETARIA', 'POPULACAO'], dtype='object')"
      ]
     },
     "execution_count": 48,
     "metadata": {},
     "output_type": "execute_result"
    }
   ],
   "source": [
    "pop.columns"
   ]
  },
  {
   "cell_type": "code",
   "execution_count": 49,
   "metadata": {
    "scrolled": true
   },
   "outputs": [
    {
     "data": {
      "text/plain": [
       "array([   0,  101,  202,  303,  404,  505,  606,  707,  808,  909, 1010,\n",
       "       1111, 1212, 1313, 1414, 1515, 1616, 1717, 1818, 1919, 2024, 2529,\n",
       "       3034, 3539, 4044, 4549, 5054, 5559, 6064, 6569, 7074, 7579, 8099])"
      ]
     },
     "execution_count": 49,
     "metadata": {},
     "output_type": "execute_result"
    }
   ],
   "source": [
    "pop.FXETARIA.unique()"
   ]
  },
  {
   "cell_type": "code",
   "execution_count": 50,
   "metadata": {},
   "outputs": [],
   "source": [
    "pop = pop.replace({'FXETARIA': {0: 4, 101:4, 202:4,  303:4,  404:4,\n",
    "                                505: 509, 606: 509,  707: 509,  808: 509,  909: 509,\n",
    "                                1010: 1014, 1111: 1014, 1212: 1014, 1313: 1014, 1414: 1014,\n",
    "                                1515: 1519, 1616: 1519, 1717: 1519, 1818: 1519, 1919: 1519}})"
   ]
  },
  {
   "cell_type": "code",
   "execution_count": 51,
   "metadata": {},
   "outputs": [
    {
     "data": {
      "text/html": [
       "<div>\n",
       "<style scoped>\n",
       "    .dataframe tbody tr th:only-of-type {\n",
       "        vertical-align: middle;\n",
       "    }\n",
       "\n",
       "    .dataframe tbody tr th {\n",
       "        vertical-align: top;\n",
       "    }\n",
       "\n",
       "    .dataframe thead th {\n",
       "        text-align: right;\n",
       "    }\n",
       "</style>\n",
       "<table border=\"1\" class=\"dataframe\">\n",
       "  <thead>\n",
       "    <tr style=\"text-align: right;\">\n",
       "      <th></th>\n",
       "      <th>MUNIC_RES</th>\n",
       "      <th>ANO</th>\n",
       "      <th>SEXO</th>\n",
       "      <th>SITUACAO</th>\n",
       "      <th>FXETARIA</th>\n",
       "      <th>POPULACAO</th>\n",
       "    </tr>\n",
       "  </thead>\n",
       "  <tbody>\n",
       "    <tr>\n",
       "      <th>0</th>\n",
       "      <td>110001</td>\n",
       "      <td>2012</td>\n",
       "      <td>1</td>\n",
       "      <td>3</td>\n",
       "      <td>4</td>\n",
       "      <td>187</td>\n",
       "    </tr>\n",
       "    <tr>\n",
       "      <th>1</th>\n",
       "      <td>110001</td>\n",
       "      <td>2012</td>\n",
       "      <td>1</td>\n",
       "      <td>3</td>\n",
       "      <td>4</td>\n",
       "      <td>186</td>\n",
       "    </tr>\n",
       "    <tr>\n",
       "      <th>2</th>\n",
       "      <td>110001</td>\n",
       "      <td>2012</td>\n",
       "      <td>1</td>\n",
       "      <td>3</td>\n",
       "      <td>4</td>\n",
       "      <td>187</td>\n",
       "    </tr>\n",
       "    <tr>\n",
       "      <th>3</th>\n",
       "      <td>110001</td>\n",
       "      <td>2012</td>\n",
       "      <td>1</td>\n",
       "      <td>3</td>\n",
       "      <td>4</td>\n",
       "      <td>190</td>\n",
       "    </tr>\n",
       "    <tr>\n",
       "      <th>4</th>\n",
       "      <td>110001</td>\n",
       "      <td>2012</td>\n",
       "      <td>1</td>\n",
       "      <td>3</td>\n",
       "      <td>4</td>\n",
       "      <td>193</td>\n",
       "    </tr>\n",
       "  </tbody>\n",
       "</table>\n",
       "</div>"
      ],
      "text/plain": [
       "   MUNIC_RES   ANO  SEXO  SITUACAO  FXETARIA  POPULACAO\n",
       "0     110001  2012     1         3         4        187\n",
       "1     110001  2012     1         3         4        186\n",
       "2     110001  2012     1         3         4        187\n",
       "3     110001  2012     1         3         4        190\n",
       "4     110001  2012     1         3         4        193"
      ]
     },
     "execution_count": 51,
     "metadata": {},
     "output_type": "execute_result"
    }
   ],
   "source": [
    "pop.head()"
   ]
  },
  {
   "cell_type": "markdown",
   "metadata": {},
   "source": [
    "# Creating tables to map the standard incidence ratio of dengue per year"
   ]
  },
  {
   "cell_type": "markdown",
   "metadata": {},
   "source": [
    "## expected number of cases per year and cummulated"
   ]
  },
  {
   "cell_type": "code",
   "execution_count": 52,
   "metadata": {},
   "outputs": [],
   "source": [
    "teste = dados"
   ]
  },
  {
   "cell_type": "code",
   "execution_count": 55,
   "metadata": {},
   "outputs": [
    {
     "data": {
      "text/plain": [
       "array([2015, 2010, 2011, 2012, 2013, 2014, 2017, 2018, 2016, '2019'],\n",
       "      dtype=object)"
      ]
     },
     "execution_count": 55,
     "metadata": {},
     "output_type": "execute_result"
    }
   ],
   "source": [
    "teste.year.unique()"
   ]
  },
  {
   "cell_type": "code",
   "execution_count": 56,
   "metadata": {},
   "outputs": [],
   "source": [
    "teste = teste[teste.cs_sexo != 'I']"
   ]
  },
  {
   "cell_type": "code",
   "execution_count": 57,
   "metadata": {},
   "outputs": [
    {
     "data": {
      "text/plain": [
       "array([1, 2], dtype=object)"
      ]
     },
     "execution_count": 57,
     "metadata": {},
     "output_type": "execute_result"
    }
   ],
   "source": [
    "teste.cs_sexo.unique()"
   ]
  },
  {
   "cell_type": "code",
   "execution_count": 58,
   "metadata": {
    "scrolled": true
   },
   "outputs": [
    {
     "data": {
      "text/plain": [
       "array([2015, 2010, 2011, 2012, 2013, 2014, 2017, 2018, 2016, '2019'],\n",
       "      dtype=object)"
      ]
     },
     "execution_count": 58,
     "metadata": {},
     "output_type": "execute_result"
    }
   ],
   "source": [
    "teste.year.unique()"
   ]
  },
  {
   "cell_type": "code",
   "execution_count": 61,
   "metadata": {
    "scrolled": false
   },
   "outputs": [],
   "source": [
    "#teste['faixa'] = teste['faixa'].astype(int)\n",
    "teste = teste.astype(int)"
   ]
  },
  {
   "cell_type": "code",
   "execution_count": 62,
   "metadata": {
    "scrolled": false
   },
   "outputs": [
    {
     "name": "stdout",
     "output_type": "stream",
     "text": [
      "<class 'pandas.core.frame.DataFrame'>\n",
      "Int64Index: 438080 entries, 0 to 440955\n",
      "Data columns (total 5 columns):\n",
      " #   Column     Non-Null Count   Dtype\n",
      "---  ------     --------------   -----\n",
      " 0   codmunres  438080 non-null  int64\n",
      " 1   year       438080 non-null  int64\n",
      " 2   cs_sexo    438080 non-null  int64\n",
      " 3   faixa      438080 non-null  int64\n",
      " 4   count      438080 non-null  int64\n",
      "dtypes: int64(5)\n",
      "memory usage: 20.1 MB\n"
     ]
    }
   ],
   "source": [
    "teste.info()"
   ]
  },
  {
   "cell_type": "code",
   "execution_count": 63,
   "metadata": {},
   "outputs": [
    {
     "data": {
      "text/html": [
       "<div>\n",
       "<style scoped>\n",
       "    .dataframe tbody tr th:only-of-type {\n",
       "        vertical-align: middle;\n",
       "    }\n",
       "\n",
       "    .dataframe tbody tr th {\n",
       "        vertical-align: top;\n",
       "    }\n",
       "\n",
       "    .dataframe thead th {\n",
       "        text-align: right;\n",
       "    }\n",
       "</style>\n",
       "<table border=\"1\" class=\"dataframe\">\n",
       "  <thead>\n",
       "    <tr style=\"text-align: right;\">\n",
       "      <th></th>\n",
       "      <th>codmunres</th>\n",
       "      <th>year</th>\n",
       "      <th>cs_sexo</th>\n",
       "      <th>faixa</th>\n",
       "      <th>count</th>\n",
       "    </tr>\n",
       "  </thead>\n",
       "  <tbody>\n",
       "    <tr>\n",
       "      <th>0</th>\n",
       "      <td>110000</td>\n",
       "      <td>2015</td>\n",
       "      <td>1</td>\n",
       "      <td>4</td>\n",
       "      <td>1</td>\n",
       "    </tr>\n",
       "    <tr>\n",
       "      <th>1</th>\n",
       "      <td>110001</td>\n",
       "      <td>2010</td>\n",
       "      <td>1</td>\n",
       "      <td>1014</td>\n",
       "      <td>2</td>\n",
       "    </tr>\n",
       "    <tr>\n",
       "      <th>2</th>\n",
       "      <td>110001</td>\n",
       "      <td>2010</td>\n",
       "      <td>1</td>\n",
       "      <td>2024</td>\n",
       "      <td>1</td>\n",
       "    </tr>\n",
       "    <tr>\n",
       "      <th>3</th>\n",
       "      <td>110001</td>\n",
       "      <td>2010</td>\n",
       "      <td>1</td>\n",
       "      <td>3539</td>\n",
       "      <td>1</td>\n",
       "    </tr>\n",
       "    <tr>\n",
       "      <th>4</th>\n",
       "      <td>110001</td>\n",
       "      <td>2010</td>\n",
       "      <td>1</td>\n",
       "      <td>4549</td>\n",
       "      <td>1</td>\n",
       "    </tr>\n",
       "    <tr>\n",
       "      <th>...</th>\n",
       "      <td>...</td>\n",
       "      <td>...</td>\n",
       "      <td>...</td>\n",
       "      <td>...</td>\n",
       "      <td>...</td>\n",
       "    </tr>\n",
       "    <tr>\n",
       "      <th>440951</th>\n",
       "      <td>539922</td>\n",
       "      <td>2019</td>\n",
       "      <td>2</td>\n",
       "      <td>3539</td>\n",
       "      <td>1</td>\n",
       "    </tr>\n",
       "    <tr>\n",
       "      <th>440952</th>\n",
       "      <td>539922</td>\n",
       "      <td>2019</td>\n",
       "      <td>2</td>\n",
       "      <td>4044</td>\n",
       "      <td>1</td>\n",
       "    </tr>\n",
       "    <tr>\n",
       "      <th>440953</th>\n",
       "      <td>539924</td>\n",
       "      <td>2019</td>\n",
       "      <td>1</td>\n",
       "      <td>1014</td>\n",
       "      <td>1</td>\n",
       "    </tr>\n",
       "    <tr>\n",
       "      <th>440954</th>\n",
       "      <td>539924</td>\n",
       "      <td>2019</td>\n",
       "      <td>1</td>\n",
       "      <td>4044</td>\n",
       "      <td>1</td>\n",
       "    </tr>\n",
       "    <tr>\n",
       "      <th>440955</th>\n",
       "      <td>539924</td>\n",
       "      <td>2019</td>\n",
       "      <td>2</td>\n",
       "      <td>1014</td>\n",
       "      <td>1</td>\n",
       "    </tr>\n",
       "  </tbody>\n",
       "</table>\n",
       "<p>438080 rows × 5 columns</p>\n",
       "</div>"
      ],
      "text/plain": [
       "        codmunres  year  cs_sexo  faixa  count\n",
       "0          110000  2015        1      4      1\n",
       "1          110001  2010        1   1014      2\n",
       "2          110001  2010        1   2024      1\n",
       "3          110001  2010        1   3539      1\n",
       "4          110001  2010        1   4549      1\n",
       "...           ...   ...      ...    ...    ...\n",
       "440951     539922  2019        2   3539      1\n",
       "440952     539922  2019        2   4044      1\n",
       "440953     539924  2019        1   1014      1\n",
       "440954     539924  2019        1   4044      1\n",
       "440955     539924  2019        2   1014      1\n",
       "\n",
       "[438080 rows x 5 columns]"
      ]
     },
     "execution_count": 63,
     "metadata": {},
     "output_type": "execute_result"
    }
   ],
   "source": [
    "teste"
   ]
  },
  {
   "cell_type": "code",
   "execution_count": 64,
   "metadata": {},
   "outputs": [],
   "source": [
    "teste.to_csv('/Users/julianeoliveira/Desktop/dropbox_15_11_2019/Artigos_preprints/analise_de_risco/estimations_for_all_diseases/Spatial-modeling-of-dengue-chikungunya-and-Zika-transmission-in-Brazil/Data/data_dengue.csv')"
   ]
  },
  {
   "cell_type": "code",
   "execution_count": 65,
   "metadata": {},
   "outputs": [],
   "source": [
    "sum_observed_gender_age_year = []\n",
    "for year in [2010,2011,2012,2013,2014,2015,2016,2017,2018,2019]:\n",
    "    df_year = teste[teste.year == year]\n",
    "    table_year = pd.pivot_table(df_year, values='count', index=['codmunres'], columns=['cs_sexo','faixa'])\n",
    "    table_year=table_year.fillna(0)\n",
    "    resulted_dataframe = table_year.sum().reset_index()\n",
    "    sum_observed_gender_age_year.append(resulted_dataframe)"
   ]
  },
  {
   "cell_type": "code",
   "execution_count": 67,
   "metadata": {
    "scrolled": false
   },
   "outputs": [
    {
     "data": {
      "text/html": [
       "<div>\n",
       "<style scoped>\n",
       "    .dataframe tbody tr th:only-of-type {\n",
       "        vertical-align: middle;\n",
       "    }\n",
       "\n",
       "    .dataframe tbody tr th {\n",
       "        vertical-align: top;\n",
       "    }\n",
       "\n",
       "    .dataframe thead th {\n",
       "        text-align: right;\n",
       "    }\n",
       "</style>\n",
       "<table border=\"1\" class=\"dataframe\">\n",
       "  <thead>\n",
       "    <tr style=\"text-align: right;\">\n",
       "      <th></th>\n",
       "      <th>cs_sexo</th>\n",
       "      <th>faixa</th>\n",
       "      <th>0</th>\n",
       "    </tr>\n",
       "  </thead>\n",
       "  <tbody>\n",
       "    <tr>\n",
       "      <th>0</th>\n",
       "      <td>1</td>\n",
       "      <td>4</td>\n",
       "      <td>18234.0</td>\n",
       "    </tr>\n",
       "    <tr>\n",
       "      <th>1</th>\n",
       "      <td>1</td>\n",
       "      <td>509</td>\n",
       "      <td>25225.0</td>\n",
       "    </tr>\n",
       "    <tr>\n",
       "      <th>2</th>\n",
       "      <td>1</td>\n",
       "      <td>1014</td>\n",
       "      <td>38782.0</td>\n",
       "    </tr>\n",
       "    <tr>\n",
       "      <th>3</th>\n",
       "      <td>1</td>\n",
       "      <td>1519</td>\n",
       "      <td>46899.0</td>\n",
       "    </tr>\n",
       "    <tr>\n",
       "      <th>4</th>\n",
       "      <td>1</td>\n",
       "      <td>2024</td>\n",
       "      <td>50047.0</td>\n",
       "    </tr>\n",
       "    <tr>\n",
       "      <th>5</th>\n",
       "      <td>1</td>\n",
       "      <td>2529</td>\n",
       "      <td>49979.0</td>\n",
       "    </tr>\n",
       "    <tr>\n",
       "      <th>6</th>\n",
       "      <td>1</td>\n",
       "      <td>3034</td>\n",
       "      <td>46655.0</td>\n",
       "    </tr>\n",
       "    <tr>\n",
       "      <th>7</th>\n",
       "      <td>1</td>\n",
       "      <td>3539</td>\n",
       "      <td>41050.0</td>\n",
       "    </tr>\n",
       "    <tr>\n",
       "      <th>8</th>\n",
       "      <td>1</td>\n",
       "      <td>4044</td>\n",
       "      <td>37813.0</td>\n",
       "    </tr>\n",
       "    <tr>\n",
       "      <th>9</th>\n",
       "      <td>1</td>\n",
       "      <td>4549</td>\n",
       "      <td>34162.0</td>\n",
       "    </tr>\n",
       "    <tr>\n",
       "      <th>10</th>\n",
       "      <td>1</td>\n",
       "      <td>5054</td>\n",
       "      <td>28580.0</td>\n",
       "    </tr>\n",
       "    <tr>\n",
       "      <th>11</th>\n",
       "      <td>1</td>\n",
       "      <td>5559</td>\n",
       "      <td>22465.0</td>\n",
       "    </tr>\n",
       "    <tr>\n",
       "      <th>12</th>\n",
       "      <td>1</td>\n",
       "      <td>6064</td>\n",
       "      <td>15942.0</td>\n",
       "    </tr>\n",
       "    <tr>\n",
       "      <th>13</th>\n",
       "      <td>1</td>\n",
       "      <td>6569</td>\n",
       "      <td>11111.0</td>\n",
       "    </tr>\n",
       "    <tr>\n",
       "      <th>14</th>\n",
       "      <td>1</td>\n",
       "      <td>7074</td>\n",
       "      <td>7940.0</td>\n",
       "    </tr>\n",
       "    <tr>\n",
       "      <th>15</th>\n",
       "      <td>1</td>\n",
       "      <td>7579</td>\n",
       "      <td>4622.0</td>\n",
       "    </tr>\n",
       "    <tr>\n",
       "      <th>16</th>\n",
       "      <td>1</td>\n",
       "      <td>8099</td>\n",
       "      <td>3578.0</td>\n",
       "    </tr>\n",
       "    <tr>\n",
       "      <th>17</th>\n",
       "      <td>2</td>\n",
       "      <td>4</td>\n",
       "      <td>18464.0</td>\n",
       "    </tr>\n",
       "    <tr>\n",
       "      <th>18</th>\n",
       "      <td>2</td>\n",
       "      <td>509</td>\n",
       "      <td>25049.0</td>\n",
       "    </tr>\n",
       "    <tr>\n",
       "      <th>19</th>\n",
       "      <td>2</td>\n",
       "      <td>1014</td>\n",
       "      <td>39420.0</td>\n",
       "    </tr>\n",
       "    <tr>\n",
       "      <th>20</th>\n",
       "      <td>2</td>\n",
       "      <td>1519</td>\n",
       "      <td>42374.0</td>\n",
       "    </tr>\n",
       "    <tr>\n",
       "      <th>21</th>\n",
       "      <td>2</td>\n",
       "      <td>2024</td>\n",
       "      <td>43029.0</td>\n",
       "    </tr>\n",
       "    <tr>\n",
       "      <th>22</th>\n",
       "      <td>2</td>\n",
       "      <td>2529</td>\n",
       "      <td>39717.0</td>\n",
       "    </tr>\n",
       "    <tr>\n",
       "      <th>23</th>\n",
       "      <td>2</td>\n",
       "      <td>3034</td>\n",
       "      <td>34811.0</td>\n",
       "    </tr>\n",
       "    <tr>\n",
       "      <th>24</th>\n",
       "      <td>2</td>\n",
       "      <td>3539</td>\n",
       "      <td>29426.0</td>\n",
       "    </tr>\n",
       "    <tr>\n",
       "      <th>25</th>\n",
       "      <td>2</td>\n",
       "      <td>4044</td>\n",
       "      <td>26604.0</td>\n",
       "    </tr>\n",
       "    <tr>\n",
       "      <th>26</th>\n",
       "      <td>2</td>\n",
       "      <td>4549</td>\n",
       "      <td>23006.0</td>\n",
       "    </tr>\n",
       "    <tr>\n",
       "      <th>27</th>\n",
       "      <td>2</td>\n",
       "      <td>5054</td>\n",
       "      <td>18854.0</td>\n",
       "    </tr>\n",
       "    <tr>\n",
       "      <th>28</th>\n",
       "      <td>2</td>\n",
       "      <td>5559</td>\n",
       "      <td>15272.0</td>\n",
       "    </tr>\n",
       "    <tr>\n",
       "      <th>29</th>\n",
       "      <td>2</td>\n",
       "      <td>6064</td>\n",
       "      <td>10604.0</td>\n",
       "    </tr>\n",
       "    <tr>\n",
       "      <th>30</th>\n",
       "      <td>2</td>\n",
       "      <td>6569</td>\n",
       "      <td>7673.0</td>\n",
       "    </tr>\n",
       "    <tr>\n",
       "      <th>31</th>\n",
       "      <td>2</td>\n",
       "      <td>7074</td>\n",
       "      <td>5672.0</td>\n",
       "    </tr>\n",
       "    <tr>\n",
       "      <th>32</th>\n",
       "      <td>2</td>\n",
       "      <td>7579</td>\n",
       "      <td>3374.0</td>\n",
       "    </tr>\n",
       "    <tr>\n",
       "      <th>33</th>\n",
       "      <td>2</td>\n",
       "      <td>8099</td>\n",
       "      <td>2651.0</td>\n",
       "    </tr>\n",
       "  </tbody>\n",
       "</table>\n",
       "</div>"
      ],
      "text/plain": [
       "    cs_sexo  faixa        0\n",
       "0         1      4  18234.0\n",
       "1         1    509  25225.0\n",
       "2         1   1014  38782.0\n",
       "3         1   1519  46899.0\n",
       "4         1   2024  50047.0\n",
       "5         1   2529  49979.0\n",
       "6         1   3034  46655.0\n",
       "7         1   3539  41050.0\n",
       "8         1   4044  37813.0\n",
       "9         1   4549  34162.0\n",
       "10        1   5054  28580.0\n",
       "11        1   5559  22465.0\n",
       "12        1   6064  15942.0\n",
       "13        1   6569  11111.0\n",
       "14        1   7074   7940.0\n",
       "15        1   7579   4622.0\n",
       "16        1   8099   3578.0\n",
       "17        2      4  18464.0\n",
       "18        2    509  25049.0\n",
       "19        2   1014  39420.0\n",
       "20        2   1519  42374.0\n",
       "21        2   2024  43029.0\n",
       "22        2   2529  39717.0\n",
       "23        2   3034  34811.0\n",
       "24        2   3539  29426.0\n",
       "25        2   4044  26604.0\n",
       "26        2   4549  23006.0\n",
       "27        2   5054  18854.0\n",
       "28        2   5559  15272.0\n",
       "29        2   6064  10604.0\n",
       "30        2   6569   7673.0\n",
       "31        2   7074   5672.0\n",
       "32        2   7579   3374.0\n",
       "33        2   8099   2651.0"
      ]
     },
     "execution_count": 67,
     "metadata": {},
     "output_type": "execute_result"
    }
   ],
   "source": [
    "sum_observed_gender_age_year[0]"
   ]
  },
  {
   "cell_type": "code",
   "execution_count": 68,
   "metadata": {},
   "outputs": [
    {
     "data": {
      "text/html": [
       "<div>\n",
       "<style scoped>\n",
       "    .dataframe tbody tr th:only-of-type {\n",
       "        vertical-align: middle;\n",
       "    }\n",
       "\n",
       "    .dataframe tbody tr th {\n",
       "        vertical-align: top;\n",
       "    }\n",
       "\n",
       "    .dataframe thead th {\n",
       "        text-align: right;\n",
       "    }\n",
       "</style>\n",
       "<table border=\"1\" class=\"dataframe\">\n",
       "  <thead>\n",
       "    <tr style=\"text-align: right;\">\n",
       "      <th></th>\n",
       "      <th>MUNIC_RES</th>\n",
       "      <th>ANO</th>\n",
       "      <th>SEXO</th>\n",
       "      <th>SITUACAO</th>\n",
       "      <th>FXETARIA</th>\n",
       "      <th>POPULACAO</th>\n",
       "    </tr>\n",
       "  </thead>\n",
       "  <tbody>\n",
       "    <tr>\n",
       "      <th>0</th>\n",
       "      <td>110001</td>\n",
       "      <td>2012</td>\n",
       "      <td>1</td>\n",
       "      <td>3</td>\n",
       "      <td>4</td>\n",
       "      <td>187</td>\n",
       "    </tr>\n",
       "    <tr>\n",
       "      <th>1</th>\n",
       "      <td>110001</td>\n",
       "      <td>2012</td>\n",
       "      <td>1</td>\n",
       "      <td>3</td>\n",
       "      <td>4</td>\n",
       "      <td>186</td>\n",
       "    </tr>\n",
       "    <tr>\n",
       "      <th>2</th>\n",
       "      <td>110001</td>\n",
       "      <td>2012</td>\n",
       "      <td>1</td>\n",
       "      <td>3</td>\n",
       "      <td>4</td>\n",
       "      <td>187</td>\n",
       "    </tr>\n",
       "    <tr>\n",
       "      <th>3</th>\n",
       "      <td>110001</td>\n",
       "      <td>2012</td>\n",
       "      <td>1</td>\n",
       "      <td>3</td>\n",
       "      <td>4</td>\n",
       "      <td>190</td>\n",
       "    </tr>\n",
       "    <tr>\n",
       "      <th>4</th>\n",
       "      <td>110001</td>\n",
       "      <td>2012</td>\n",
       "      <td>1</td>\n",
       "      <td>3</td>\n",
       "      <td>4</td>\n",
       "      <td>193</td>\n",
       "    </tr>\n",
       "  </tbody>\n",
       "</table>\n",
       "</div>"
      ],
      "text/plain": [
       "   MUNIC_RES   ANO  SEXO  SITUACAO  FXETARIA  POPULACAO\n",
       "0     110001  2012     1         3         4        187\n",
       "1     110001  2012     1         3         4        186\n",
       "2     110001  2012     1         3         4        187\n",
       "3     110001  2012     1         3         4        190\n",
       "4     110001  2012     1         3         4        193"
      ]
     },
     "execution_count": 68,
     "metadata": {},
     "output_type": "execute_result"
    }
   ],
   "source": [
    "pop.head()"
   ]
  },
  {
   "cell_type": "markdown",
   "metadata": {},
   "source": [
    "# Population "
   ]
  },
  {
   "cell_type": "code",
   "execution_count": 69,
   "metadata": {},
   "outputs": [],
   "source": [
    "pop = pop.astype(int)"
   ]
  },
  {
   "cell_type": "code",
   "execution_count": 70,
   "metadata": {
    "scrolled": false
   },
   "outputs": [
    {
     "data": {
      "text/html": [
       "<div>\n",
       "<style scoped>\n",
       "    .dataframe tbody tr th:only-of-type {\n",
       "        vertical-align: middle;\n",
       "    }\n",
       "\n",
       "    .dataframe tbody tr th {\n",
       "        vertical-align: top;\n",
       "    }\n",
       "\n",
       "    .dataframe thead th {\n",
       "        text-align: right;\n",
       "    }\n",
       "</style>\n",
       "<table border=\"1\" class=\"dataframe\">\n",
       "  <thead>\n",
       "    <tr style=\"text-align: right;\">\n",
       "      <th></th>\n",
       "      <th>MUNIC_RES</th>\n",
       "      <th>ANO</th>\n",
       "      <th>SEXO</th>\n",
       "      <th>FXETARIA</th>\n",
       "      <th>POPULACAO</th>\n",
       "    </tr>\n",
       "  </thead>\n",
       "  <tbody>\n",
       "    <tr>\n",
       "      <th>0</th>\n",
       "      <td>110001</td>\n",
       "      <td>2012</td>\n",
       "      <td>1</td>\n",
       "      <td>4</td>\n",
       "      <td>943</td>\n",
       "    </tr>\n",
       "    <tr>\n",
       "      <th>1</th>\n",
       "      <td>110001</td>\n",
       "      <td>2012</td>\n",
       "      <td>1</td>\n",
       "      <td>509</td>\n",
       "      <td>1058</td>\n",
       "    </tr>\n",
       "    <tr>\n",
       "      <th>2</th>\n",
       "      <td>110001</td>\n",
       "      <td>2012</td>\n",
       "      <td>1</td>\n",
       "      <td>1014</td>\n",
       "      <td>1239</td>\n",
       "    </tr>\n",
       "    <tr>\n",
       "      <th>3</th>\n",
       "      <td>110001</td>\n",
       "      <td>2012</td>\n",
       "      <td>1</td>\n",
       "      <td>1519</td>\n",
       "      <td>1343</td>\n",
       "    </tr>\n",
       "    <tr>\n",
       "      <th>4</th>\n",
       "      <td>110001</td>\n",
       "      <td>2012</td>\n",
       "      <td>1</td>\n",
       "      <td>2024</td>\n",
       "      <td>1090</td>\n",
       "    </tr>\n",
       "  </tbody>\n",
       "</table>\n",
       "</div>"
      ],
      "text/plain": [
       "   MUNIC_RES   ANO  SEXO  FXETARIA  POPULACAO\n",
       "0     110001  2012     1         4        943\n",
       "1     110001  2012     1       509       1058\n",
       "2     110001  2012     1      1014       1239\n",
       "3     110001  2012     1      1519       1343\n",
       "4     110001  2012     1      2024       1090"
      ]
     },
     "execution_count": 70,
     "metadata": {},
     "output_type": "execute_result"
    }
   ],
   "source": [
    "teste_pop = pop.groupby(['MUNIC_RES','ANO','SEXO','FXETARIA'])['POPULACAO'].sum().reset_index()\n",
    "teste_pop.head()"
   ]
  },
  {
   "cell_type": "code",
   "execution_count": 71,
   "metadata": {
    "scrolled": true
   },
   "outputs": [
    {
     "data": {
      "text/html": [
       "<div>\n",
       "<style scoped>\n",
       "    .dataframe tbody tr th:only-of-type {\n",
       "        vertical-align: middle;\n",
       "    }\n",
       "\n",
       "    .dataframe tbody tr th {\n",
       "        vertical-align: top;\n",
       "    }\n",
       "\n",
       "    .dataframe thead tr th {\n",
       "        text-align: left;\n",
       "    }\n",
       "\n",
       "    .dataframe thead tr:last-of-type th {\n",
       "        text-align: right;\n",
       "    }\n",
       "</style>\n",
       "<table border=\"1\" class=\"dataframe\">\n",
       "  <thead>\n",
       "    <tr>\n",
       "      <th>SEXO</th>\n",
       "      <th colspan=\"10\" halign=\"left\">1</th>\n",
       "      <th>...</th>\n",
       "      <th colspan=\"10\" halign=\"left\">2</th>\n",
       "    </tr>\n",
       "    <tr>\n",
       "      <th>FXETARIA</th>\n",
       "      <th>4</th>\n",
       "      <th>509</th>\n",
       "      <th>1014</th>\n",
       "      <th>1519</th>\n",
       "      <th>2024</th>\n",
       "      <th>2529</th>\n",
       "      <th>3034</th>\n",
       "      <th>3539</th>\n",
       "      <th>4044</th>\n",
       "      <th>4549</th>\n",
       "      <th>...</th>\n",
       "      <th>3539</th>\n",
       "      <th>4044</th>\n",
       "      <th>4549</th>\n",
       "      <th>5054</th>\n",
       "      <th>5559</th>\n",
       "      <th>6064</th>\n",
       "      <th>6569</th>\n",
       "      <th>7074</th>\n",
       "      <th>7579</th>\n",
       "      <th>8099</th>\n",
       "    </tr>\n",
       "    <tr>\n",
       "      <th>MUNIC_RES</th>\n",
       "      <th></th>\n",
       "      <th></th>\n",
       "      <th></th>\n",
       "      <th></th>\n",
       "      <th></th>\n",
       "      <th></th>\n",
       "      <th></th>\n",
       "      <th></th>\n",
       "      <th></th>\n",
       "      <th></th>\n",
       "      <th></th>\n",
       "      <th></th>\n",
       "      <th></th>\n",
       "      <th></th>\n",
       "      <th></th>\n",
       "      <th></th>\n",
       "      <th></th>\n",
       "      <th></th>\n",
       "      <th></th>\n",
       "      <th></th>\n",
       "      <th></th>\n",
       "    </tr>\n",
       "  </thead>\n",
       "  <tbody>\n",
       "    <tr>\n",
       "      <th>110001</th>\n",
       "      <td>943</td>\n",
       "      <td>1058</td>\n",
       "      <td>1239</td>\n",
       "      <td>1343</td>\n",
       "      <td>1090</td>\n",
       "      <td>1039</td>\n",
       "      <td>938</td>\n",
       "      <td>866</td>\n",
       "      <td>901</td>\n",
       "      <td>835</td>\n",
       "      <td>...</td>\n",
       "      <td>905</td>\n",
       "      <td>792</td>\n",
       "      <td>710</td>\n",
       "      <td>508</td>\n",
       "      <td>425</td>\n",
       "      <td>307</td>\n",
       "      <td>261</td>\n",
       "      <td>175</td>\n",
       "      <td>117</td>\n",
       "      <td>72</td>\n",
       "    </tr>\n",
       "    <tr>\n",
       "      <th>110002</th>\n",
       "      <td>3742</td>\n",
       "      <td>4288</td>\n",
       "      <td>4865</td>\n",
       "      <td>4598</td>\n",
       "      <td>4574</td>\n",
       "      <td>4271</td>\n",
       "      <td>3854</td>\n",
       "      <td>3522</td>\n",
       "      <td>3378</td>\n",
       "      <td>2682</td>\n",
       "      <td>...</td>\n",
       "      <td>3606</td>\n",
       "      <td>3208</td>\n",
       "      <td>2494</td>\n",
       "      <td>1877</td>\n",
       "      <td>1523</td>\n",
       "      <td>1069</td>\n",
       "      <td>755</td>\n",
       "      <td>510</td>\n",
       "      <td>325</td>\n",
       "      <td>302</td>\n",
       "    </tr>\n",
       "    <tr>\n",
       "      <th>110003</th>\n",
       "      <td>234</td>\n",
       "      <td>246</td>\n",
       "      <td>304</td>\n",
       "      <td>307</td>\n",
       "      <td>220</td>\n",
       "      <td>243</td>\n",
       "      <td>230</td>\n",
       "      <td>235</td>\n",
       "      <td>240</td>\n",
       "      <td>207</td>\n",
       "      <td>...</td>\n",
       "      <td>209</td>\n",
       "      <td>213</td>\n",
       "      <td>196</td>\n",
       "      <td>168</td>\n",
       "      <td>138</td>\n",
       "      <td>91</td>\n",
       "      <td>63</td>\n",
       "      <td>66</td>\n",
       "      <td>33</td>\n",
       "      <td>26</td>\n",
       "    </tr>\n",
       "    <tr>\n",
       "      <th>110004</th>\n",
       "      <td>2987</td>\n",
       "      <td>3234</td>\n",
       "      <td>3792</td>\n",
       "      <td>4016</td>\n",
       "      <td>3833</td>\n",
       "      <td>3483</td>\n",
       "      <td>3201</td>\n",
       "      <td>2966</td>\n",
       "      <td>2842</td>\n",
       "      <td>2459</td>\n",
       "      <td>...</td>\n",
       "      <td>3159</td>\n",
       "      <td>2859</td>\n",
       "      <td>2420</td>\n",
       "      <td>1963</td>\n",
       "      <td>1441</td>\n",
       "      <td>1018</td>\n",
       "      <td>803</td>\n",
       "      <td>613</td>\n",
       "      <td>435</td>\n",
       "      <td>383</td>\n",
       "    </tr>\n",
       "    <tr>\n",
       "      <th>110005</th>\n",
       "      <td>620</td>\n",
       "      <td>694</td>\n",
       "      <td>831</td>\n",
       "      <td>865</td>\n",
       "      <td>757</td>\n",
       "      <td>674</td>\n",
       "      <td>632</td>\n",
       "      <td>581</td>\n",
       "      <td>632</td>\n",
       "      <td>575</td>\n",
       "      <td>...</td>\n",
       "      <td>655</td>\n",
       "      <td>623</td>\n",
       "      <td>542</td>\n",
       "      <td>402</td>\n",
       "      <td>307</td>\n",
       "      <td>298</td>\n",
       "      <td>194</td>\n",
       "      <td>133</td>\n",
       "      <td>96</td>\n",
       "      <td>83</td>\n",
       "    </tr>\n",
       "    <tr>\n",
       "      <th>...</th>\n",
       "      <td>...</td>\n",
       "      <td>...</td>\n",
       "      <td>...</td>\n",
       "      <td>...</td>\n",
       "      <td>...</td>\n",
       "      <td>...</td>\n",
       "      <td>...</td>\n",
       "      <td>...</td>\n",
       "      <td>...</td>\n",
       "      <td>...</td>\n",
       "      <td>...</td>\n",
       "      <td>...</td>\n",
       "      <td>...</td>\n",
       "      <td>...</td>\n",
       "      <td>...</td>\n",
       "      <td>...</td>\n",
       "      <td>...</td>\n",
       "      <td>...</td>\n",
       "      <td>...</td>\n",
       "      <td>...</td>\n",
       "      <td>...</td>\n",
       "    </tr>\n",
       "    <tr>\n",
       "      <th>522200</th>\n",
       "      <td>423</td>\n",
       "      <td>524</td>\n",
       "      <td>577</td>\n",
       "      <td>557</td>\n",
       "      <td>530</td>\n",
       "      <td>536</td>\n",
       "      <td>566</td>\n",
       "      <td>521</td>\n",
       "      <td>506</td>\n",
       "      <td>410</td>\n",
       "      <td>...</td>\n",
       "      <td>522</td>\n",
       "      <td>458</td>\n",
       "      <td>416</td>\n",
       "      <td>308</td>\n",
       "      <td>234</td>\n",
       "      <td>209</td>\n",
       "      <td>172</td>\n",
       "      <td>142</td>\n",
       "      <td>80</td>\n",
       "      <td>99</td>\n",
       "    </tr>\n",
       "    <tr>\n",
       "      <th>522205</th>\n",
       "      <td>297</td>\n",
       "      <td>314</td>\n",
       "      <td>333</td>\n",
       "      <td>338</td>\n",
       "      <td>386</td>\n",
       "      <td>363</td>\n",
       "      <td>358</td>\n",
       "      <td>338</td>\n",
       "      <td>304</td>\n",
       "      <td>272</td>\n",
       "      <td>...</td>\n",
       "      <td>286</td>\n",
       "      <td>301</td>\n",
       "      <td>217</td>\n",
       "      <td>176</td>\n",
       "      <td>157</td>\n",
       "      <td>82</td>\n",
       "      <td>71</td>\n",
       "      <td>56</td>\n",
       "      <td>27</td>\n",
       "      <td>37</td>\n",
       "    </tr>\n",
       "    <tr>\n",
       "      <th>522220</th>\n",
       "      <td>243</td>\n",
       "      <td>266</td>\n",
       "      <td>249</td>\n",
       "      <td>229</td>\n",
       "      <td>242</td>\n",
       "      <td>370</td>\n",
       "      <td>263</td>\n",
       "      <td>194</td>\n",
       "      <td>158</td>\n",
       "      <td>139</td>\n",
       "      <td>...</td>\n",
       "      <td>138</td>\n",
       "      <td>148</td>\n",
       "      <td>109</td>\n",
       "      <td>81</td>\n",
       "      <td>62</td>\n",
       "      <td>38</td>\n",
       "      <td>44</td>\n",
       "      <td>14</td>\n",
       "      <td>18</td>\n",
       "      <td>12</td>\n",
       "    </tr>\n",
       "    <tr>\n",
       "      <th>522230</th>\n",
       "      <td>186</td>\n",
       "      <td>240</td>\n",
       "      <td>274</td>\n",
       "      <td>236</td>\n",
       "      <td>200</td>\n",
       "      <td>173</td>\n",
       "      <td>208</td>\n",
       "      <td>213</td>\n",
       "      <td>192</td>\n",
       "      <td>173</td>\n",
       "      <td>...</td>\n",
       "      <td>163</td>\n",
       "      <td>183</td>\n",
       "      <td>160</td>\n",
       "      <td>121</td>\n",
       "      <td>136</td>\n",
       "      <td>94</td>\n",
       "      <td>63</td>\n",
       "      <td>44</td>\n",
       "      <td>31</td>\n",
       "      <td>23</td>\n",
       "    </tr>\n",
       "    <tr>\n",
       "      <th>530010</th>\n",
       "      <td>98864</td>\n",
       "      <td>104928</td>\n",
       "      <td>113968</td>\n",
       "      <td>112108</td>\n",
       "      <td>124044</td>\n",
       "      <td>131400</td>\n",
       "      <td>122121</td>\n",
       "      <td>103098</td>\n",
       "      <td>91493</td>\n",
       "      <td>74737</td>\n",
       "      <td>...</td>\n",
       "      <td>116108</td>\n",
       "      <td>101992</td>\n",
       "      <td>87146</td>\n",
       "      <td>69220</td>\n",
       "      <td>54147</td>\n",
       "      <td>40270</td>\n",
       "      <td>27736</td>\n",
       "      <td>20499</td>\n",
       "      <td>12790</td>\n",
       "      <td>14770</td>\n",
       "    </tr>\n",
       "  </tbody>\n",
       "</table>\n",
       "<p>5565 rows × 34 columns</p>\n",
       "</div>"
      ],
      "text/plain": [
       "SEXO           1                                                          \\\n",
       "FXETARIA    4       509     1014    1519    2024    2529    3034    3539   \n",
       "MUNIC_RES                                                                  \n",
       "110001       943    1058    1239    1343    1090    1039     938     866   \n",
       "110002      3742    4288    4865    4598    4574    4271    3854    3522   \n",
       "110003       234     246     304     307     220     243     230     235   \n",
       "110004      2987    3234    3792    4016    3833    3483    3201    2966   \n",
       "110005       620     694     831     865     757     674     632     581   \n",
       "...          ...     ...     ...     ...     ...     ...     ...     ...   \n",
       "522200       423     524     577     557     530     536     566     521   \n",
       "522205       297     314     333     338     386     363     358     338   \n",
       "522220       243     266     249     229     242     370     263     194   \n",
       "522230       186     240     274     236     200     173     208     213   \n",
       "530010     98864  104928  113968  112108  124044  131400  122121  103098   \n",
       "\n",
       "SEXO                     ...       2                                      \\\n",
       "FXETARIA    4044   4549  ...    3539    4044   4549   5054   5559   6064   \n",
       "MUNIC_RES                ...                                               \n",
       "110001       901    835  ...     905     792    710    508    425    307   \n",
       "110002      3378   2682  ...    3606    3208   2494   1877   1523   1069   \n",
       "110003       240    207  ...     209     213    196    168    138     91   \n",
       "110004      2842   2459  ...    3159    2859   2420   1963   1441   1018   \n",
       "110005       632    575  ...     655     623    542    402    307    298   \n",
       "...          ...    ...  ...     ...     ...    ...    ...    ...    ...   \n",
       "522200       506    410  ...     522     458    416    308    234    209   \n",
       "522205       304    272  ...     286     301    217    176    157     82   \n",
       "522220       158    139  ...     138     148    109     81     62     38   \n",
       "522230       192    173  ...     163     183    160    121    136     94   \n",
       "530010     91493  74737  ...  116108  101992  87146  69220  54147  40270   \n",
       "\n",
       "SEXO                                   \n",
       "FXETARIA    6569   7074   7579   8099  \n",
       "MUNIC_RES                              \n",
       "110001       261    175    117     72  \n",
       "110002       755    510    325    302  \n",
       "110003        63     66     33     26  \n",
       "110004       803    613    435    383  \n",
       "110005       194    133     96     83  \n",
       "...          ...    ...    ...    ...  \n",
       "522200       172    142     80     99  \n",
       "522205        71     56     27     37  \n",
       "522220        44     14     18     12  \n",
       "522230        63     44     31     23  \n",
       "530010     27736  20499  12790  14770  \n",
       "\n",
       "[5565 rows x 34 columns]"
      ]
     },
     "execution_count": 71,
     "metadata": {},
     "output_type": "execute_result"
    }
   ],
   "source": [
    "table_pop = pd.pivot_table(teste_pop, values='POPULACAO', index=['MUNIC_RES'], columns=['SEXO','FXETARIA'])\n",
    "table_pop"
   ]
  },
  {
   "cell_type": "code",
   "execution_count": 72,
   "metadata": {},
   "outputs": [],
   "source": [
    "table_pop=table_pop.fillna(0)"
   ]
  },
  {
   "cell_type": "code",
   "execution_count": 73,
   "metadata": {},
   "outputs": [
    {
     "data": {
      "text/html": [
       "<div>\n",
       "<style scoped>\n",
       "    .dataframe tbody tr th:only-of-type {\n",
       "        vertical-align: middle;\n",
       "    }\n",
       "\n",
       "    .dataframe tbody tr th {\n",
       "        vertical-align: top;\n",
       "    }\n",
       "\n",
       "    .dataframe thead th {\n",
       "        text-align: right;\n",
       "    }\n",
       "</style>\n",
       "<table border=\"1\" class=\"dataframe\">\n",
       "  <thead>\n",
       "    <tr style=\"text-align: right;\">\n",
       "      <th></th>\n",
       "      <th>SEXO</th>\n",
       "      <th>FXETARIA</th>\n",
       "      <th>0</th>\n",
       "    </tr>\n",
       "  </thead>\n",
       "  <tbody>\n",
       "    <tr>\n",
       "      <th>0</th>\n",
       "      <td>1</td>\n",
       "      <td>4</td>\n",
       "      <td>7143389</td>\n",
       "    </tr>\n",
       "    <tr>\n",
       "      <th>1</th>\n",
       "      <td>1</td>\n",
       "      <td>509</td>\n",
       "      <td>7758474</td>\n",
       "    </tr>\n",
       "    <tr>\n",
       "      <th>2</th>\n",
       "      <td>1</td>\n",
       "      <td>1014</td>\n",
       "      <td>8875967</td>\n",
       "    </tr>\n",
       "    <tr>\n",
       "      <th>3</th>\n",
       "      <td>1</td>\n",
       "      <td>1519</td>\n",
       "      <td>8704999</td>\n",
       "    </tr>\n",
       "    <tr>\n",
       "      <th>4</th>\n",
       "      <td>1</td>\n",
       "      <td>2024</td>\n",
       "      <td>8782606</td>\n",
       "    </tr>\n",
       "    <tr>\n",
       "      <th>5</th>\n",
       "      <td>1</td>\n",
       "      <td>2529</td>\n",
       "      <td>8610952</td>\n",
       "    </tr>\n",
       "    <tr>\n",
       "      <th>6</th>\n",
       "      <td>1</td>\n",
       "      <td>3034</td>\n",
       "      <td>7853458</td>\n",
       "    </tr>\n",
       "    <tr>\n",
       "      <th>7</th>\n",
       "      <td>1</td>\n",
       "      <td>3539</td>\n",
       "      <td>6883541</td>\n",
       "    </tr>\n",
       "    <tr>\n",
       "      <th>8</th>\n",
       "      <td>1</td>\n",
       "      <td>4044</td>\n",
       "      <td>6427350</td>\n",
       "    </tr>\n",
       "    <tr>\n",
       "      <th>9</th>\n",
       "      <td>1</td>\n",
       "      <td>4549</td>\n",
       "      <td>5785459</td>\n",
       "    </tr>\n",
       "    <tr>\n",
       "      <th>10</th>\n",
       "      <td>1</td>\n",
       "      <td>5054</td>\n",
       "      <td>4912910</td>\n",
       "    </tr>\n",
       "    <tr>\n",
       "      <th>11</th>\n",
       "      <td>1</td>\n",
       "      <td>5559</td>\n",
       "      <td>3963556</td>\n",
       "    </tr>\n",
       "    <tr>\n",
       "      <th>12</th>\n",
       "      <td>1</td>\n",
       "      <td>6064</td>\n",
       "      <td>3087312</td>\n",
       "    </tr>\n",
       "    <tr>\n",
       "      <th>13</th>\n",
       "      <td>1</td>\n",
       "      <td>6569</td>\n",
       "      <td>2256975</td>\n",
       "    </tr>\n",
       "    <tr>\n",
       "      <th>14</th>\n",
       "      <td>1</td>\n",
       "      <td>7074</td>\n",
       "      <td>1691406</td>\n",
       "    </tr>\n",
       "    <tr>\n",
       "      <th>15</th>\n",
       "      <td>1</td>\n",
       "      <td>7579</td>\n",
       "      <td>1105881</td>\n",
       "    </tr>\n",
       "    <tr>\n",
       "      <th>16</th>\n",
       "      <td>1</td>\n",
       "      <td>8099</td>\n",
       "      <td>1148647</td>\n",
       "    </tr>\n",
       "    <tr>\n",
       "      <th>17</th>\n",
       "      <td>2</td>\n",
       "      <td>4</td>\n",
       "      <td>6901204</td>\n",
       "    </tr>\n",
       "    <tr>\n",
       "      <th>18</th>\n",
       "      <td>2</td>\n",
       "      <td>509</td>\n",
       "      <td>7474673</td>\n",
       "    </tr>\n",
       "    <tr>\n",
       "      <th>19</th>\n",
       "      <td>2</td>\n",
       "      <td>1014</td>\n",
       "      <td>8587202</td>\n",
       "    </tr>\n",
       "    <tr>\n",
       "      <th>20</th>\n",
       "      <td>2</td>\n",
       "      <td>1519</td>\n",
       "      <td>8577046</td>\n",
       "    </tr>\n",
       "    <tr>\n",
       "      <th>21</th>\n",
       "      <td>2</td>\n",
       "      <td>2024</td>\n",
       "      <td>8766636</td>\n",
       "    </tr>\n",
       "    <tr>\n",
       "      <th>22</th>\n",
       "      <td>2</td>\n",
       "      <td>2529</td>\n",
       "      <td>8795610</td>\n",
       "    </tr>\n",
       "    <tr>\n",
       "      <th>23</th>\n",
       "      <td>2</td>\n",
       "      <td>3034</td>\n",
       "      <td>8166586</td>\n",
       "    </tr>\n",
       "    <tr>\n",
       "      <th>24</th>\n",
       "      <td>2</td>\n",
       "      <td>3539</td>\n",
       "      <td>7243527</td>\n",
       "    </tr>\n",
       "    <tr>\n",
       "      <th>25</th>\n",
       "      <td>2</td>\n",
       "      <td>4044</td>\n",
       "      <td>6800153</td>\n",
       "    </tr>\n",
       "    <tr>\n",
       "      <th>26</th>\n",
       "      <td>2</td>\n",
       "      <td>4549</td>\n",
       "      <td>6240934</td>\n",
       "    </tr>\n",
       "    <tr>\n",
       "      <th>27</th>\n",
       "      <td>2</td>\n",
       "      <td>5054</td>\n",
       "      <td>5389329</td>\n",
       "    </tr>\n",
       "    <tr>\n",
       "      <th>28</th>\n",
       "      <td>2</td>\n",
       "      <td>5559</td>\n",
       "      <td>4441120</td>\n",
       "    </tr>\n",
       "    <tr>\n",
       "      <th>29</th>\n",
       "      <td>2</td>\n",
       "      <td>6064</td>\n",
       "      <td>3520063</td>\n",
       "    </tr>\n",
       "    <tr>\n",
       "      <th>30</th>\n",
       "      <td>2</td>\n",
       "      <td>6569</td>\n",
       "      <td>2654866</td>\n",
       "    </tr>\n",
       "    <tr>\n",
       "      <th>31</th>\n",
       "      <td>2</td>\n",
       "      <td>7074</td>\n",
       "      <td>2103802</td>\n",
       "    </tr>\n",
       "    <tr>\n",
       "      <th>32</th>\n",
       "      <td>2</td>\n",
       "      <td>7579</td>\n",
       "      <td>1493580</td>\n",
       "    </tr>\n",
       "    <tr>\n",
       "      <th>33</th>\n",
       "      <td>2</td>\n",
       "      <td>8099</td>\n",
       "      <td>1827317</td>\n",
       "    </tr>\n",
       "  </tbody>\n",
       "</table>\n",
       "</div>"
      ],
      "text/plain": [
       "    SEXO  FXETARIA        0\n",
       "0      1         4  7143389\n",
       "1      1       509  7758474\n",
       "2      1      1014  8875967\n",
       "3      1      1519  8704999\n",
       "4      1      2024  8782606\n",
       "5      1      2529  8610952\n",
       "6      1      3034  7853458\n",
       "7      1      3539  6883541\n",
       "8      1      4044  6427350\n",
       "9      1      4549  5785459\n",
       "10     1      5054  4912910\n",
       "11     1      5559  3963556\n",
       "12     1      6064  3087312\n",
       "13     1      6569  2256975\n",
       "14     1      7074  1691406\n",
       "15     1      7579  1105881\n",
       "16     1      8099  1148647\n",
       "17     2         4  6901204\n",
       "18     2       509  7474673\n",
       "19     2      1014  8587202\n",
       "20     2      1519  8577046\n",
       "21     2      2024  8766636\n",
       "22     2      2529  8795610\n",
       "23     2      3034  8166586\n",
       "24     2      3539  7243527\n",
       "25     2      4044  6800153\n",
       "26     2      4549  6240934\n",
       "27     2      5054  5389329\n",
       "28     2      5559  4441120\n",
       "29     2      6064  3520063\n",
       "30     2      6569  2654866\n",
       "31     2      7074  2103802\n",
       "32     2      7579  1493580\n",
       "33     2      8099  1827317"
      ]
     },
     "execution_count": 73,
     "metadata": {},
     "output_type": "execute_result"
    }
   ],
   "source": [
    "sum_pop_gender_age_year = table_pop.sum().reset_index()\n",
    "sum_pop_gender_age_year"
   ]
  },
  {
   "cell_type": "markdown",
   "metadata": {},
   "source": [
    "# calculating r_ j (for each year)"
   ]
  },
  {
   "cell_type": "code",
   "execution_count": 74,
   "metadata": {},
   "outputs": [],
   "source": [
    "r_j = []\n",
    "for df1 in sum_observed_gender_age_year:\n",
    "    #df2.rename(columns={0:'pop'}, inplace=True)\n",
    "    risco_relativo = df1[0]/sum_pop_gender_age_year[0]\n",
    "    r_j.append(risco_relativo)"
   ]
  },
  {
   "cell_type": "code",
   "execution_count": 75,
   "metadata": {},
   "outputs": [
    {
     "data": {
      "text/plain": [
       "0     0.002577\n",
       "1     0.003025\n",
       "2     0.005123\n",
       "3     0.007972\n",
       "4     0.008165\n",
       "5     0.008286\n",
       "6     0.009248\n",
       "7     0.009052\n",
       "8     0.008568\n",
       "9     0.008867\n",
       "10    0.008967\n",
       "11    0.008687\n",
       "12    0.007819\n",
       "13    0.007033\n",
       "14    0.006240\n",
       "15    0.005455\n",
       "16    0.004502\n",
       "17    0.002655\n",
       "18    0.003072\n",
       "19    0.005255\n",
       "20    0.006972\n",
       "21    0.006604\n",
       "22    0.006057\n",
       "23    0.006186\n",
       "24    0.005717\n",
       "25    0.005270\n",
       "26    0.005174\n",
       "27    0.004895\n",
       "28    0.004644\n",
       "29    0.004377\n",
       "30    0.003990\n",
       "31    0.003444\n",
       "32    0.002967\n",
       "33    0.002110\n",
       "Name: 0, dtype: float64"
      ]
     },
     "execution_count": 75,
     "metadata": {},
     "output_type": "execute_result"
    }
   ],
   "source": [
    "r_j[3]"
   ]
  },
  {
   "cell_type": "markdown",
   "metadata": {},
   "source": [
    "# calculating E_i for each municipality"
   ]
  },
  {
   "cell_type": "markdown",
   "metadata": {},
   "source": [
    "# 2010"
   ]
  },
  {
   "cell_type": "code",
   "execution_count": 78,
   "metadata": {},
   "outputs": [],
   "source": [
    "P_2010 = table_pop"
   ]
  },
  {
   "cell_type": "code",
   "execution_count": 79,
   "metadata": {
    "scrolled": false
   },
   "outputs": [],
   "source": [
    "E_2010 =[]\n",
    "for i in range(len(P_2010)):\n",
    "    E_i = sum(np.array(P_2010.iloc[i])*np.array(r_j[0]))\n",
    "    E_2010.append([P_2010.index.values[i],E_i])"
   ]
  },
  {
   "cell_type": "code",
   "execution_count": 80,
   "metadata": {},
   "outputs": [],
   "source": [
    "Expected_2010 = pd.DataFrame(E_2010,\n",
    "                 columns=['codmunres', 'expected_2010'])"
   ]
  },
  {
   "cell_type": "code",
   "execution_count": 81,
   "metadata": {
    "scrolled": true
   },
   "outputs": [
    {
     "data": {
      "text/html": [
       "<div>\n",
       "<style scoped>\n",
       "    .dataframe tbody tr th:only-of-type {\n",
       "        vertical-align: middle;\n",
       "    }\n",
       "\n",
       "    .dataframe tbody tr th {\n",
       "        vertical-align: top;\n",
       "    }\n",
       "\n",
       "    .dataframe thead th {\n",
       "        text-align: right;\n",
       "    }\n",
       "</style>\n",
       "<table border=\"1\" class=\"dataframe\">\n",
       "  <thead>\n",
       "    <tr style=\"text-align: right;\">\n",
       "      <th></th>\n",
       "      <th>codmunres</th>\n",
       "      <th>expected_2010</th>\n",
       "    </tr>\n",
       "  </thead>\n",
       "  <tbody>\n",
       "    <tr>\n",
       "      <th>0</th>\n",
       "      <td>110001</td>\n",
       "      <td>109.403941</td>\n",
       "    </tr>\n",
       "    <tr>\n",
       "      <th>1</th>\n",
       "      <td>110002</td>\n",
       "      <td>421.103159</td>\n",
       "    </tr>\n",
       "    <tr>\n",
       "      <th>2</th>\n",
       "      <td>110003</td>\n",
       "      <td>27.698710</td>\n",
       "    </tr>\n",
       "    <tr>\n",
       "      <th>3</th>\n",
       "      <td>110004</td>\n",
       "      <td>359.908399</td>\n",
       "    </tr>\n",
       "    <tr>\n",
       "      <th>4</th>\n",
       "      <td>110005</td>\n",
       "      <td>76.200349</td>\n",
       "    </tr>\n",
       "  </tbody>\n",
       "</table>\n",
       "</div>"
      ],
      "text/plain": [
       "   codmunres  expected_2010\n",
       "0     110001     109.403941\n",
       "1     110002     421.103159\n",
       "2     110003      27.698710\n",
       "3     110004     359.908399\n",
       "4     110005      76.200349"
      ]
     },
     "execution_count": 81,
     "metadata": {},
     "output_type": "execute_result"
    }
   ],
   "source": [
    "Expected_2010.head()"
   ]
  },
  {
   "cell_type": "markdown",
   "metadata": {},
   "source": [
    "# 2011"
   ]
  },
  {
   "cell_type": "code",
   "execution_count": 82,
   "metadata": {},
   "outputs": [],
   "source": [
    "P_2011 = table_pop"
   ]
  },
  {
   "cell_type": "code",
   "execution_count": 83,
   "metadata": {
    "scrolled": false
   },
   "outputs": [],
   "source": [
    "E_2011 =[]\n",
    "for i in range(len(P_2011)):\n",
    "    E_i = sum(np.array(P_2011.iloc[i])*np.array(r_j[1]))\n",
    "    E_2011.append([P_2011.index.values[i],E_i])"
   ]
  },
  {
   "cell_type": "code",
   "execution_count": 84,
   "metadata": {},
   "outputs": [],
   "source": [
    "Expected_2011 = pd.DataFrame(E_2011,\n",
    "                 columns=['codmunres', 'expected_2011'])"
   ]
  },
  {
   "cell_type": "code",
   "execution_count": 85,
   "metadata": {
    "scrolled": true
   },
   "outputs": [
    {
     "data": {
      "text/html": [
       "<div>\n",
       "<style scoped>\n",
       "    .dataframe tbody tr th:only-of-type {\n",
       "        vertical-align: middle;\n",
       "    }\n",
       "\n",
       "    .dataframe tbody tr th {\n",
       "        vertical-align: top;\n",
       "    }\n",
       "\n",
       "    .dataframe thead th {\n",
       "        text-align: right;\n",
       "    }\n",
       "</style>\n",
       "<table border=\"1\" class=\"dataframe\">\n",
       "  <thead>\n",
       "    <tr style=\"text-align: right;\">\n",
       "      <th></th>\n",
       "      <th>codmunres</th>\n",
       "      <th>expected_2011</th>\n",
       "    </tr>\n",
       "  </thead>\n",
       "  <tbody>\n",
       "    <tr>\n",
       "      <th>0</th>\n",
       "      <td>110001</td>\n",
       "      <td>75.986459</td>\n",
       "    </tr>\n",
       "    <tr>\n",
       "      <th>1</th>\n",
       "      <td>110002</td>\n",
       "      <td>293.901642</td>\n",
       "    </tr>\n",
       "    <tr>\n",
       "      <th>2</th>\n",
       "      <td>110003</td>\n",
       "      <td>19.148638</td>\n",
       "    </tr>\n",
       "    <tr>\n",
       "      <th>3</th>\n",
       "      <td>110004</td>\n",
       "      <td>249.536243</td>\n",
       "    </tr>\n",
       "    <tr>\n",
       "      <th>4</th>\n",
       "      <td>110005</td>\n",
       "      <td>52.748168</td>\n",
       "    </tr>\n",
       "  </tbody>\n",
       "</table>\n",
       "</div>"
      ],
      "text/plain": [
       "   codmunres  expected_2011\n",
       "0     110001      75.986459\n",
       "1     110002     293.901642\n",
       "2     110003      19.148638\n",
       "3     110004     249.536243\n",
       "4     110005      52.748168"
      ]
     },
     "execution_count": 85,
     "metadata": {},
     "output_type": "execute_result"
    }
   ],
   "source": [
    "Expected_2011.head()"
   ]
  },
  {
   "cell_type": "markdown",
   "metadata": {},
   "source": [
    "# 2012"
   ]
  },
  {
   "cell_type": "code",
   "execution_count": 86,
   "metadata": {},
   "outputs": [],
   "source": [
    "P_2012 = table_pop"
   ]
  },
  {
   "cell_type": "code",
   "execution_count": 87,
   "metadata": {
    "scrolled": false
   },
   "outputs": [],
   "source": [
    "E_2012 =[]\n",
    "for i in range(len(P_2012)):\n",
    "    E_i = sum(np.array(P_2012.iloc[i])*np.array(r_j[2]))\n",
    "    E_2012.append([P_2012.index.values[i],E_i])"
   ]
  },
  {
   "cell_type": "code",
   "execution_count": 88,
   "metadata": {},
   "outputs": [],
   "source": [
    "Expected_2012 = pd.DataFrame(E_2012,\n",
    "                 columns=['codmunres', 'expected_2012'])"
   ]
  },
  {
   "cell_type": "code",
   "execution_count": 89,
   "metadata": {},
   "outputs": [
    {
     "data": {
      "text/html": [
       "<div>\n",
       "<style scoped>\n",
       "    .dataframe tbody tr th:only-of-type {\n",
       "        vertical-align: middle;\n",
       "    }\n",
       "\n",
       "    .dataframe tbody tr th {\n",
       "        vertical-align: top;\n",
       "    }\n",
       "\n",
       "    .dataframe thead th {\n",
       "        text-align: right;\n",
       "    }\n",
       "</style>\n",
       "<table border=\"1\" class=\"dataframe\">\n",
       "  <thead>\n",
       "    <tr style=\"text-align: right;\">\n",
       "      <th></th>\n",
       "      <th>codmunres</th>\n",
       "      <th>expected_2012</th>\n",
       "    </tr>\n",
       "  </thead>\n",
       "  <tbody>\n",
       "    <tr>\n",
       "      <th>0</th>\n",
       "      <td>110001</td>\n",
       "      <td>50.732941</td>\n",
       "    </tr>\n",
       "    <tr>\n",
       "      <th>1</th>\n",
       "      <td>110002</td>\n",
       "      <td>196.215788</td>\n",
       "    </tr>\n",
       "    <tr>\n",
       "      <th>2</th>\n",
       "      <td>110003</td>\n",
       "      <td>12.765065</td>\n",
       "    </tr>\n",
       "    <tr>\n",
       "      <th>3</th>\n",
       "      <td>110004</td>\n",
       "      <td>167.210126</td>\n",
       "    </tr>\n",
       "    <tr>\n",
       "      <th>4</th>\n",
       "      <td>110005</td>\n",
       "      <td>35.242300</td>\n",
       "    </tr>\n",
       "  </tbody>\n",
       "</table>\n",
       "</div>"
      ],
      "text/plain": [
       "   codmunres  expected_2012\n",
       "0     110001      50.732941\n",
       "1     110002     196.215788\n",
       "2     110003      12.765065\n",
       "3     110004     167.210126\n",
       "4     110005      35.242300"
      ]
     },
     "execution_count": 89,
     "metadata": {},
     "output_type": "execute_result"
    }
   ],
   "source": [
    "Expected_2012.head()"
   ]
  },
  {
   "cell_type": "markdown",
   "metadata": {},
   "source": [
    "# 2013"
   ]
  },
  {
   "cell_type": "code",
   "execution_count": 90,
   "metadata": {},
   "outputs": [],
   "source": [
    "P_2013 = table_pop"
   ]
  },
  {
   "cell_type": "code",
   "execution_count": 91,
   "metadata": {
    "scrolled": false
   },
   "outputs": [],
   "source": [
    "E_2013 =[]\n",
    "for i in range(len(P_2013)):\n",
    "    E_i = sum(np.array(P_2013.iloc[i])*np.array(r_j[3]))\n",
    "    E_2013.append([P_2013.index.values[i],E_i])"
   ]
  },
  {
   "cell_type": "code",
   "execution_count": 92,
   "metadata": {},
   "outputs": [],
   "source": [
    "Expected_2013 = pd.DataFrame(E_2013,\n",
    "                 columns=['codmunres', 'expected_2013'])"
   ]
  },
  {
   "cell_type": "code",
   "execution_count": 93,
   "metadata": {
    "scrolled": true
   },
   "outputs": [
    {
     "data": {
      "text/html": [
       "<div>\n",
       "<style scoped>\n",
       "    .dataframe tbody tr th:only-of-type {\n",
       "        vertical-align: middle;\n",
       "    }\n",
       "\n",
       "    .dataframe tbody tr th {\n",
       "        vertical-align: top;\n",
       "    }\n",
       "\n",
       "    .dataframe thead th {\n",
       "        text-align: right;\n",
       "    }\n",
       "</style>\n",
       "<table border=\"1\" class=\"dataframe\">\n",
       "  <thead>\n",
       "    <tr style=\"text-align: right;\">\n",
       "      <th></th>\n",
       "      <th>codmunres</th>\n",
       "      <th>expected_2013</th>\n",
       "    </tr>\n",
       "  </thead>\n",
       "  <tbody>\n",
       "    <tr>\n",
       "      <th>0</th>\n",
       "      <td>110001</td>\n",
       "      <td>149.066558</td>\n",
       "    </tr>\n",
       "    <tr>\n",
       "      <th>1</th>\n",
       "      <td>110002</td>\n",
       "      <td>571.679580</td>\n",
       "    </tr>\n",
       "    <tr>\n",
       "      <th>2</th>\n",
       "      <td>110003</td>\n",
       "      <td>37.840484</td>\n",
       "    </tr>\n",
       "    <tr>\n",
       "      <th>3</th>\n",
       "      <td>110004</td>\n",
       "      <td>491.364462</td>\n",
       "    </tr>\n",
       "    <tr>\n",
       "      <th>4</th>\n",
       "      <td>110005</td>\n",
       "      <td>104.022867</td>\n",
       "    </tr>\n",
       "  </tbody>\n",
       "</table>\n",
       "</div>"
      ],
      "text/plain": [
       "   codmunres  expected_2013\n",
       "0     110001     149.066558\n",
       "1     110002     571.679580\n",
       "2     110003      37.840484\n",
       "3     110004     491.364462\n",
       "4     110005     104.022867"
      ]
     },
     "execution_count": 93,
     "metadata": {},
     "output_type": "execute_result"
    }
   ],
   "source": [
    "Expected_2013.head()"
   ]
  },
  {
   "cell_type": "markdown",
   "metadata": {},
   "source": [
    "# 2014"
   ]
  },
  {
   "cell_type": "code",
   "execution_count": 94,
   "metadata": {},
   "outputs": [],
   "source": [
    "P_2014 = table_pop"
   ]
  },
  {
   "cell_type": "code",
   "execution_count": 95,
   "metadata": {
    "scrolled": false
   },
   "outputs": [],
   "source": [
    "E_2014 =[]\n",
    "for i in range(len(P_2014)):\n",
    "    E_i = sum(np.array(P_2014.iloc[i])*np.array(r_j[4]))\n",
    "    E_2014.append([P_2014.index.values[i],E_i])"
   ]
  },
  {
   "cell_type": "code",
   "execution_count": 96,
   "metadata": {},
   "outputs": [],
   "source": [
    "Expected_2014 = pd.DataFrame(E_2014,\n",
    "                 columns=['codmunres', 'expected_2014'])"
   ]
  },
  {
   "cell_type": "code",
   "execution_count": 97,
   "metadata": {
    "scrolled": false
   },
   "outputs": [
    {
     "data": {
      "text/html": [
       "<div>\n",
       "<style scoped>\n",
       "    .dataframe tbody tr th:only-of-type {\n",
       "        vertical-align: middle;\n",
       "    }\n",
       "\n",
       "    .dataframe tbody tr th {\n",
       "        vertical-align: top;\n",
       "    }\n",
       "\n",
       "    .dataframe thead th {\n",
       "        text-align: right;\n",
       "    }\n",
       "</style>\n",
       "<table border=\"1\" class=\"dataframe\">\n",
       "  <thead>\n",
       "    <tr style=\"text-align: right;\">\n",
       "      <th></th>\n",
       "      <th>codmunres</th>\n",
       "      <th>expected_2014</th>\n",
       "    </tr>\n",
       "  </thead>\n",
       "  <tbody>\n",
       "    <tr>\n",
       "      <th>0</th>\n",
       "      <td>110001</td>\n",
       "      <td>59.279074</td>\n",
       "    </tr>\n",
       "    <tr>\n",
       "      <th>1</th>\n",
       "      <td>110002</td>\n",
       "      <td>227.004789</td>\n",
       "    </tr>\n",
       "    <tr>\n",
       "      <th>2</th>\n",
       "      <td>110003</td>\n",
       "      <td>15.115808</td>\n",
       "    </tr>\n",
       "    <tr>\n",
       "      <th>3</th>\n",
       "      <td>110004</td>\n",
       "      <td>195.550444</td>\n",
       "    </tr>\n",
       "    <tr>\n",
       "      <th>4</th>\n",
       "      <td>110005</td>\n",
       "      <td>41.486479</td>\n",
       "    </tr>\n",
       "  </tbody>\n",
       "</table>\n",
       "</div>"
      ],
      "text/plain": [
       "   codmunres  expected_2014\n",
       "0     110001      59.279074\n",
       "1     110002     227.004789\n",
       "2     110003      15.115808\n",
       "3     110004     195.550444\n",
       "4     110005      41.486479"
      ]
     },
     "execution_count": 97,
     "metadata": {},
     "output_type": "execute_result"
    }
   ],
   "source": [
    "Expected_2014.head()"
   ]
  },
  {
   "cell_type": "markdown",
   "metadata": {},
   "source": [
    "# 2015"
   ]
  },
  {
   "cell_type": "code",
   "execution_count": 98,
   "metadata": {},
   "outputs": [],
   "source": [
    "P_2015 = table_pop"
   ]
  },
  {
   "cell_type": "code",
   "execution_count": 99,
   "metadata": {
    "scrolled": false
   },
   "outputs": [],
   "source": [
    "E_2015 =[]\n",
    "for i in range(len(P_2015)):\n",
    "    E_i = sum(np.array(P_2015.iloc[i])*np.array(r_j[5]))\n",
    "    E_2015.append([P_2015.index.values[i],E_i])"
   ]
  },
  {
   "cell_type": "code",
   "execution_count": 100,
   "metadata": {},
   "outputs": [],
   "source": [
    "Expected_2015 = pd.DataFrame(E_2015,\n",
    "                 columns=['codmunres', 'expected_2015'])"
   ]
  },
  {
   "cell_type": "code",
   "execution_count": 101,
   "metadata": {
    "scrolled": false
   },
   "outputs": [
    {
     "data": {
      "text/html": [
       "<div>\n",
       "<style scoped>\n",
       "    .dataframe tbody tr th:only-of-type {\n",
       "        vertical-align: middle;\n",
       "    }\n",
       "\n",
       "    .dataframe tbody tr th {\n",
       "        vertical-align: top;\n",
       "    }\n",
       "\n",
       "    .dataframe thead th {\n",
       "        text-align: right;\n",
       "    }\n",
       "</style>\n",
       "<table border=\"1\" class=\"dataframe\">\n",
       "  <thead>\n",
       "    <tr style=\"text-align: right;\">\n",
       "      <th></th>\n",
       "      <th>codmunres</th>\n",
       "      <th>expected_2015</th>\n",
       "    </tr>\n",
       "  </thead>\n",
       "  <tbody>\n",
       "    <tr>\n",
       "      <th>0</th>\n",
       "      <td>110001</td>\n",
       "      <td>172.246454</td>\n",
       "    </tr>\n",
       "    <tr>\n",
       "      <th>1</th>\n",
       "      <td>110002</td>\n",
       "      <td>656.157979</td>\n",
       "    </tr>\n",
       "    <tr>\n",
       "      <th>2</th>\n",
       "      <td>110003</td>\n",
       "      <td>44.244605</td>\n",
       "    </tr>\n",
       "    <tr>\n",
       "      <th>3</th>\n",
       "      <td>110004</td>\n",
       "      <td>567.186049</td>\n",
       "    </tr>\n",
       "    <tr>\n",
       "      <th>4</th>\n",
       "      <td>110005</td>\n",
       "      <td>120.801974</td>\n",
       "    </tr>\n",
       "  </tbody>\n",
       "</table>\n",
       "</div>"
      ],
      "text/plain": [
       "   codmunres  expected_2015\n",
       "0     110001     172.246454\n",
       "1     110002     656.157979\n",
       "2     110003      44.244605\n",
       "3     110004     567.186049\n",
       "4     110005     120.801974"
      ]
     },
     "execution_count": 101,
     "metadata": {},
     "output_type": "execute_result"
    }
   ],
   "source": [
    "Expected_2015.head()"
   ]
  },
  {
   "cell_type": "markdown",
   "metadata": {},
   "source": [
    "# 2016"
   ]
  },
  {
   "cell_type": "code",
   "execution_count": 102,
   "metadata": {},
   "outputs": [],
   "source": [
    "P_2016 = table_pop"
   ]
  },
  {
   "cell_type": "code",
   "execution_count": 103,
   "metadata": {
    "scrolled": false
   },
   "outputs": [],
   "source": [
    "E_2016 =[]\n",
    "for i in range(len(P_2016)):\n",
    "    E_i = sum(np.array(P_2016.iloc[i])*np.array(r_j[6]))\n",
    "    E_2016.append([P_2016.index.values[i],E_i])"
   ]
  },
  {
   "cell_type": "code",
   "execution_count": 104,
   "metadata": {},
   "outputs": [],
   "source": [
    "Expected_2016 = pd.DataFrame(E_2016,\n",
    "                 columns=['codmunres', 'expected_2016'])"
   ]
  },
  {
   "cell_type": "code",
   "execution_count": 105,
   "metadata": {
    "scrolled": false
   },
   "outputs": [
    {
     "data": {
      "text/html": [
       "<div>\n",
       "<style scoped>\n",
       "    .dataframe tbody tr th:only-of-type {\n",
       "        vertical-align: middle;\n",
       "    }\n",
       "\n",
       "    .dataframe tbody tr th {\n",
       "        vertical-align: top;\n",
       "    }\n",
       "\n",
       "    .dataframe thead th {\n",
       "        text-align: right;\n",
       "    }\n",
       "</style>\n",
       "<table border=\"1\" class=\"dataframe\">\n",
       "  <thead>\n",
       "    <tr style=\"text-align: right;\">\n",
       "      <th></th>\n",
       "      <th>codmunres</th>\n",
       "      <th>expected_2016</th>\n",
       "    </tr>\n",
       "  </thead>\n",
       "  <tbody>\n",
       "    <tr>\n",
       "      <th>0</th>\n",
       "      <td>110001</td>\n",
       "      <td>59.763958</td>\n",
       "    </tr>\n",
       "    <tr>\n",
       "      <th>1</th>\n",
       "      <td>110002</td>\n",
       "      <td>227.914207</td>\n",
       "    </tr>\n",
       "    <tr>\n",
       "      <th>2</th>\n",
       "      <td>110003</td>\n",
       "      <td>15.293974</td>\n",
       "    </tr>\n",
       "    <tr>\n",
       "      <th>3</th>\n",
       "      <td>110004</td>\n",
       "      <td>196.606595</td>\n",
       "    </tr>\n",
       "    <tr>\n",
       "      <th>4</th>\n",
       "      <td>110005</td>\n",
       "      <td>41.801570</td>\n",
       "    </tr>\n",
       "  </tbody>\n",
       "</table>\n",
       "</div>"
      ],
      "text/plain": [
       "   codmunres  expected_2016\n",
       "0     110001      59.763958\n",
       "1     110002     227.914207\n",
       "2     110003      15.293974\n",
       "3     110004     196.606595\n",
       "4     110005      41.801570"
      ]
     },
     "execution_count": 105,
     "metadata": {},
     "output_type": "execute_result"
    }
   ],
   "source": [
    "Expected_2016.head()"
   ]
  },
  {
   "cell_type": "markdown",
   "metadata": {},
   "source": [
    "# 2017"
   ]
  },
  {
   "cell_type": "code",
   "execution_count": 106,
   "metadata": {},
   "outputs": [],
   "source": [
    "P_2017 = table_pop"
   ]
  },
  {
   "cell_type": "code",
   "execution_count": 107,
   "metadata": {
    "scrolled": false
   },
   "outputs": [],
   "source": [
    "E_2017 =[]\n",
    "for i in range(len(P_2017)):\n",
    "    E_i = sum(np.array(P_2017.iloc[i])*np.array(r_j[7]))\n",
    "    E_2017.append([P_2017.index.values[i],E_i])"
   ]
  },
  {
   "cell_type": "code",
   "execution_count": 108,
   "metadata": {},
   "outputs": [],
   "source": [
    "Expected_2017 = pd.DataFrame(E_2017,\n",
    "                 columns=['codmunres', 'expected_2017'])"
   ]
  },
  {
   "cell_type": "code",
   "execution_count": 109,
   "metadata": {
    "scrolled": false
   },
   "outputs": [
    {
     "data": {
      "text/html": [
       "<div>\n",
       "<style scoped>\n",
       "    .dataframe tbody tr th:only-of-type {\n",
       "        vertical-align: middle;\n",
       "    }\n",
       "\n",
       "    .dataframe tbody tr th {\n",
       "        vertical-align: top;\n",
       "    }\n",
       "\n",
       "    .dataframe thead th {\n",
       "        text-align: right;\n",
       "    }\n",
       "</style>\n",
       "<table border=\"1\" class=\"dataframe\">\n",
       "  <thead>\n",
       "    <tr style=\"text-align: right;\">\n",
       "      <th></th>\n",
       "      <th>codmunres</th>\n",
       "      <th>expected_2017</th>\n",
       "    </tr>\n",
       "  </thead>\n",
       "  <tbody>\n",
       "    <tr>\n",
       "      <th>0</th>\n",
       "      <td>110001</td>\n",
       "      <td>21.027292</td>\n",
       "    </tr>\n",
       "    <tr>\n",
       "      <th>1</th>\n",
       "      <td>110002</td>\n",
       "      <td>80.945195</td>\n",
       "    </tr>\n",
       "    <tr>\n",
       "      <th>2</th>\n",
       "      <td>110003</td>\n",
       "      <td>5.316723</td>\n",
       "    </tr>\n",
       "    <tr>\n",
       "      <th>3</th>\n",
       "      <td>110004</td>\n",
       "      <td>69.344674</td>\n",
       "    </tr>\n",
       "    <tr>\n",
       "      <th>4</th>\n",
       "      <td>110005</td>\n",
       "      <td>14.663901</td>\n",
       "    </tr>\n",
       "  </tbody>\n",
       "</table>\n",
       "</div>"
      ],
      "text/plain": [
       "   codmunres  expected_2017\n",
       "0     110001      21.027292\n",
       "1     110002      80.945195\n",
       "2     110003       5.316723\n",
       "3     110004      69.344674\n",
       "4     110005      14.663901"
      ]
     },
     "execution_count": 109,
     "metadata": {},
     "output_type": "execute_result"
    }
   ],
   "source": [
    "Expected_2017.head()"
   ]
  },
  {
   "cell_type": "markdown",
   "metadata": {},
   "source": [
    "# 2018"
   ]
  },
  {
   "cell_type": "code",
   "execution_count": 115,
   "metadata": {},
   "outputs": [],
   "source": [
    "P_2018 = table_pop"
   ]
  },
  {
   "cell_type": "code",
   "execution_count": 116,
   "metadata": {
    "scrolled": false
   },
   "outputs": [],
   "source": [
    "E_2018 =[]\n",
    "for i in range(len(P_2018)):\n",
    "    E_i = sum(np.array(P_2018.iloc[i])*np.array(r_j[8]))\n",
    "    E_2018.append([P_2018.index.values[i],E_i])"
   ]
  },
  {
   "cell_type": "code",
   "execution_count": 117,
   "metadata": {},
   "outputs": [],
   "source": [
    "Expected_2018 = pd.DataFrame(E_2018,\n",
    "                 columns=['codmunres', 'expected_2018'])"
   ]
  },
  {
   "cell_type": "code",
   "execution_count": 118,
   "metadata": {
    "scrolled": true
   },
   "outputs": [
    {
     "data": {
      "text/html": [
       "<div>\n",
       "<style scoped>\n",
       "    .dataframe tbody tr th:only-of-type {\n",
       "        vertical-align: middle;\n",
       "    }\n",
       "\n",
       "    .dataframe tbody tr th {\n",
       "        vertical-align: top;\n",
       "    }\n",
       "\n",
       "    .dataframe thead th {\n",
       "        text-align: right;\n",
       "    }\n",
       "</style>\n",
       "<table border=\"1\" class=\"dataframe\">\n",
       "  <thead>\n",
       "    <tr style=\"text-align: right;\">\n",
       "      <th></th>\n",
       "      <th>codmunres</th>\n",
       "      <th>expected_2018</th>\n",
       "    </tr>\n",
       "  </thead>\n",
       "  <tbody>\n",
       "    <tr>\n",
       "      <th>0</th>\n",
       "      <td>110001</td>\n",
       "      <td>18.357727</td>\n",
       "    </tr>\n",
       "    <tr>\n",
       "      <th>1</th>\n",
       "      <td>110002</td>\n",
       "      <td>70.493549</td>\n",
       "    </tr>\n",
       "    <tr>\n",
       "      <th>2</th>\n",
       "      <td>110003</td>\n",
       "      <td>4.671348</td>\n",
       "    </tr>\n",
       "    <tr>\n",
       "      <th>3</th>\n",
       "      <td>110004</td>\n",
       "      <td>60.412240</td>\n",
       "    </tr>\n",
       "    <tr>\n",
       "      <th>4</th>\n",
       "      <td>110005</td>\n",
       "      <td>12.807079</td>\n",
       "    </tr>\n",
       "  </tbody>\n",
       "</table>\n",
       "</div>"
      ],
      "text/plain": [
       "   codmunres  expected_2018\n",
       "0     110001      18.357727\n",
       "1     110002      70.493549\n",
       "2     110003       4.671348\n",
       "3     110004      60.412240\n",
       "4     110005      12.807079"
      ]
     },
     "execution_count": 118,
     "metadata": {},
     "output_type": "execute_result"
    }
   ],
   "source": [
    "Expected_2018.head()"
   ]
  },
  {
   "cell_type": "markdown",
   "metadata": {},
   "source": [
    "# 2019"
   ]
  },
  {
   "cell_type": "code",
   "execution_count": 119,
   "metadata": {},
   "outputs": [],
   "source": [
    "P_2019 = table_pop"
   ]
  },
  {
   "cell_type": "code",
   "execution_count": 120,
   "metadata": {
    "scrolled": false
   },
   "outputs": [],
   "source": [
    "E_2019 =[]\n",
    "for i in range(len(P_2019)):\n",
    "    E_i = sum(np.array(P_2019.iloc[i])*np.array(r_j[9]))\n",
    "    E_2019.append([P_2019.index.values[i],E_i])"
   ]
  },
  {
   "cell_type": "code",
   "execution_count": 121,
   "metadata": {},
   "outputs": [],
   "source": [
    "Expected_2019 = pd.DataFrame(E_2019,\n",
    "                 columns=['codmunres', 'expected_2019'])"
   ]
  },
  {
   "cell_type": "code",
   "execution_count": 122,
   "metadata": {
    "scrolled": false
   },
   "outputs": [
    {
     "data": {
      "text/html": [
       "<div>\n",
       "<style scoped>\n",
       "    .dataframe tbody tr th:only-of-type {\n",
       "        vertical-align: middle;\n",
       "    }\n",
       "\n",
       "    .dataframe tbody tr th {\n",
       "        vertical-align: top;\n",
       "    }\n",
       "\n",
       "    .dataframe thead th {\n",
       "        text-align: right;\n",
       "    }\n",
       "</style>\n",
       "<table border=\"1\" class=\"dataframe\">\n",
       "  <thead>\n",
       "    <tr style=\"text-align: right;\">\n",
       "      <th></th>\n",
       "      <th>codmunres</th>\n",
       "      <th>expected_2019</th>\n",
       "    </tr>\n",
       "  </thead>\n",
       "  <tbody>\n",
       "    <tr>\n",
       "      <th>0</th>\n",
       "      <td>110001</td>\n",
       "      <td>159.493041</td>\n",
       "    </tr>\n",
       "    <tr>\n",
       "      <th>1</th>\n",
       "      <td>110002</td>\n",
       "      <td>608.134953</td>\n",
       "    </tr>\n",
       "    <tr>\n",
       "      <th>2</th>\n",
       "      <td>110003</td>\n",
       "      <td>40.925485</td>\n",
       "    </tr>\n",
       "    <tr>\n",
       "      <th>3</th>\n",
       "      <td>110004</td>\n",
       "      <td>524.797731</td>\n",
       "    </tr>\n",
       "    <tr>\n",
       "      <th>4</th>\n",
       "      <td>110005</td>\n",
       "      <td>111.798348</td>\n",
       "    </tr>\n",
       "  </tbody>\n",
       "</table>\n",
       "</div>"
      ],
      "text/plain": [
       "   codmunres  expected_2019\n",
       "0     110001     159.493041\n",
       "1     110002     608.134953\n",
       "2     110003      40.925485\n",
       "3     110004     524.797731\n",
       "4     110005     111.798348"
      ]
     },
     "execution_count": 122,
     "metadata": {},
     "output_type": "execute_result"
    }
   ],
   "source": [
    "Expected_2019.head()"
   ]
  },
  {
   "cell_type": "markdown",
   "metadata": {},
   "source": [
    "# Observed number of cases per municipality and year"
   ]
  },
  {
   "cell_type": "code",
   "execution_count": 148,
   "metadata": {
    "scrolled": true
   },
   "outputs": [
    {
     "data": {
      "text/html": [
       "<div>\n",
       "<style scoped>\n",
       "    .dataframe tbody tr th:only-of-type {\n",
       "        vertical-align: middle;\n",
       "    }\n",
       "\n",
       "    .dataframe tbody tr th {\n",
       "        vertical-align: top;\n",
       "    }\n",
       "\n",
       "    .dataframe thead th {\n",
       "        text-align: right;\n",
       "    }\n",
       "</style>\n",
       "<table border=\"1\" class=\"dataframe\">\n",
       "  <thead>\n",
       "    <tr style=\"text-align: right;\">\n",
       "      <th></th>\n",
       "      <th>codmunres</th>\n",
       "      <th>year</th>\n",
       "      <th>count</th>\n",
       "    </tr>\n",
       "  </thead>\n",
       "  <tbody>\n",
       "    <tr>\n",
       "      <th>0</th>\n",
       "      <td>110000</td>\n",
       "      <td>2015</td>\n",
       "      <td>1</td>\n",
       "    </tr>\n",
       "    <tr>\n",
       "      <th>1</th>\n",
       "      <td>110001</td>\n",
       "      <td>2010</td>\n",
       "      <td>13</td>\n",
       "    </tr>\n",
       "    <tr>\n",
       "      <th>2</th>\n",
       "      <td>110001</td>\n",
       "      <td>2011</td>\n",
       "      <td>1</td>\n",
       "    </tr>\n",
       "    <tr>\n",
       "      <th>3</th>\n",
       "      <td>110001</td>\n",
       "      <td>2012</td>\n",
       "      <td>2</td>\n",
       "    </tr>\n",
       "    <tr>\n",
       "      <th>4</th>\n",
       "      <td>110001</td>\n",
       "      <td>2013</td>\n",
       "      <td>159</td>\n",
       "    </tr>\n",
       "  </tbody>\n",
       "</table>\n",
       "</div>"
      ],
      "text/plain": [
       "  codmunres  year  count\n",
       "0    110000  2015      1\n",
       "1    110001  2010     13\n",
       "2    110001  2011      1\n",
       "3    110001  2012      2\n",
       "4    110001  2013    159"
      ]
     },
     "execution_count": 148,
     "metadata": {},
     "output_type": "execute_result"
    }
   ],
   "source": [
    "observed = dados.groupby(['codmunres','year'])['count'].sum().reset_index()\n",
    "observed.head()"
   ]
  },
  {
   "cell_type": "code",
   "execution_count": 149,
   "metadata": {},
   "outputs": [],
   "source": [
    "observed = observed.astype(int)"
   ]
  },
  {
   "cell_type": "code",
   "execution_count": 150,
   "metadata": {},
   "outputs": [],
   "source": [
    "#observed = observed[(2010 <= observed.year) & (observed.year <= 2019)]"
   ]
  },
  {
   "cell_type": "code",
   "execution_count": 151,
   "metadata": {
    "scrolled": true
   },
   "outputs": [],
   "source": [
    "observed = pd.pivot_table(observed, values='count', index=['codmunres'], columns=['year'])"
   ]
  },
  {
   "cell_type": "code",
   "execution_count": 152,
   "metadata": {},
   "outputs": [
    {
     "data": {
      "text/html": [
       "<div>\n",
       "<style scoped>\n",
       "    .dataframe tbody tr th:only-of-type {\n",
       "        vertical-align: middle;\n",
       "    }\n",
       "\n",
       "    .dataframe tbody tr th {\n",
       "        vertical-align: top;\n",
       "    }\n",
       "\n",
       "    .dataframe thead th {\n",
       "        text-align: right;\n",
       "    }\n",
       "</style>\n",
       "<table border=\"1\" class=\"dataframe\">\n",
       "  <thead>\n",
       "    <tr style=\"text-align: right;\">\n",
       "      <th>year</th>\n",
       "      <th>2010</th>\n",
       "      <th>2011</th>\n",
       "      <th>2012</th>\n",
       "      <th>2013</th>\n",
       "      <th>2014</th>\n",
       "      <th>2015</th>\n",
       "      <th>2016</th>\n",
       "      <th>2017</th>\n",
       "      <th>2018</th>\n",
       "      <th>2019</th>\n",
       "    </tr>\n",
       "    <tr>\n",
       "      <th>codmunres</th>\n",
       "      <th></th>\n",
       "      <th></th>\n",
       "      <th></th>\n",
       "      <th></th>\n",
       "      <th></th>\n",
       "      <th></th>\n",
       "      <th></th>\n",
       "      <th></th>\n",
       "      <th></th>\n",
       "      <th></th>\n",
       "    </tr>\n",
       "  </thead>\n",
       "  <tbody>\n",
       "    <tr>\n",
       "      <th>110000</th>\n",
       "      <td>0.0</td>\n",
       "      <td>0.0</td>\n",
       "      <td>0.0</td>\n",
       "      <td>0.0</td>\n",
       "      <td>0.0</td>\n",
       "      <td>1.0</td>\n",
       "      <td>0.0</td>\n",
       "      <td>0.0</td>\n",
       "      <td>0.0</td>\n",
       "      <td>0.0</td>\n",
       "    </tr>\n",
       "    <tr>\n",
       "      <th>110001</th>\n",
       "      <td>13.0</td>\n",
       "      <td>1.0</td>\n",
       "      <td>2.0</td>\n",
       "      <td>159.0</td>\n",
       "      <td>5.0</td>\n",
       "      <td>10.0</td>\n",
       "      <td>0.0</td>\n",
       "      <td>10.0</td>\n",
       "      <td>3.0</td>\n",
       "      <td>217.0</td>\n",
       "    </tr>\n",
       "    <tr>\n",
       "      <th>110002</th>\n",
       "      <td>228.0</td>\n",
       "      <td>27.0</td>\n",
       "      <td>2.0</td>\n",
       "      <td>35.0</td>\n",
       "      <td>56.0</td>\n",
       "      <td>21.0</td>\n",
       "      <td>0.0</td>\n",
       "      <td>61.0</td>\n",
       "      <td>7.0</td>\n",
       "      <td>26.0</td>\n",
       "    </tr>\n",
       "    <tr>\n",
       "      <th>110003</th>\n",
       "      <td>61.0</td>\n",
       "      <td>13.0</td>\n",
       "      <td>42.0</td>\n",
       "      <td>35.0</td>\n",
       "      <td>3.0</td>\n",
       "      <td>92.0</td>\n",
       "      <td>0.0</td>\n",
       "      <td>5.0</td>\n",
       "      <td>3.0</td>\n",
       "      <td>80.0</td>\n",
       "    </tr>\n",
       "    <tr>\n",
       "      <th>110004</th>\n",
       "      <td>939.0</td>\n",
       "      <td>31.0</td>\n",
       "      <td>18.0</td>\n",
       "      <td>442.0</td>\n",
       "      <td>31.0</td>\n",
       "      <td>46.0</td>\n",
       "      <td>1.0</td>\n",
       "      <td>25.0</td>\n",
       "      <td>13.0</td>\n",
       "      <td>22.0</td>\n",
       "    </tr>\n",
       "  </tbody>\n",
       "</table>\n",
       "</div>"
      ],
      "text/plain": [
       "year        2010  2011  2012   2013  2014  2015  2016  2017  2018   2019\n",
       "codmunres                                                               \n",
       "110000       0.0   0.0   0.0    0.0   0.0   1.0   0.0   0.0   0.0    0.0\n",
       "110001      13.0   1.0   2.0  159.0   5.0  10.0   0.0  10.0   3.0  217.0\n",
       "110002     228.0  27.0   2.0   35.0  56.0  21.0   0.0  61.0   7.0   26.0\n",
       "110003      61.0  13.0  42.0   35.0   3.0  92.0   0.0   5.0   3.0   80.0\n",
       "110004     939.0  31.0  18.0  442.0  31.0  46.0   1.0  25.0  13.0   22.0"
      ]
     },
     "execution_count": 152,
     "metadata": {},
     "output_type": "execute_result"
    }
   ],
   "source": [
    "observed = observed.fillna(0) \n",
    "observed.head()"
   ]
  },
  {
   "cell_type": "markdown",
   "metadata": {},
   "source": [
    "# calculate the standard incidence ratio"
   ]
  },
  {
   "cell_type": "code",
   "execution_count": 130,
   "metadata": {},
   "outputs": [],
   "source": [
    "codigo_muni = pd.read_excel('/Users/julianeoliveira/Desktop/hard_disc/Datalake/POPULACAO/População/POP_python/DTB_BRASIL_MUNICIPIO.xls')"
   ]
  },
  {
   "cell_type": "code",
   "execution_count": 131,
   "metadata": {
    "scrolled": false
   },
   "outputs": [
    {
     "data": {
      "text/html": [
       "<div>\n",
       "<style scoped>\n",
       "    .dataframe tbody tr th:only-of-type {\n",
       "        vertical-align: middle;\n",
       "    }\n",
       "\n",
       "    .dataframe tbody tr th {\n",
       "        vertical-align: top;\n",
       "    }\n",
       "\n",
       "    .dataframe thead th {\n",
       "        text-align: right;\n",
       "    }\n",
       "</style>\n",
       "<table border=\"1\" class=\"dataframe\">\n",
       "  <thead>\n",
       "    <tr style=\"text-align: right;\">\n",
       "      <th></th>\n",
       "      <th>UF</th>\n",
       "      <th>Nome_UF</th>\n",
       "      <th>Mesorregião Geográfica</th>\n",
       "      <th>Nome_Mesorregião</th>\n",
       "      <th>Microrregião Geográfica</th>\n",
       "      <th>Nome_Microrregião</th>\n",
       "      <th>Município</th>\n",
       "      <th>Código Município Completo</th>\n",
       "      <th>Nome_Município</th>\n",
       "    </tr>\n",
       "  </thead>\n",
       "  <tbody>\n",
       "    <tr>\n",
       "      <th>0</th>\n",
       "      <td>11</td>\n",
       "      <td>Rondônia</td>\n",
       "      <td>2</td>\n",
       "      <td>Leste Rondoniense</td>\n",
       "      <td>6</td>\n",
       "      <td>Cacoal</td>\n",
       "      <td>15</td>\n",
       "      <td>1100015</td>\n",
       "      <td>Alta Floresta D'Oeste</td>\n",
       "    </tr>\n",
       "    <tr>\n",
       "      <th>1</th>\n",
       "      <td>11</td>\n",
       "      <td>Rondônia</td>\n",
       "      <td>2</td>\n",
       "      <td>Leste Rondoniense</td>\n",
       "      <td>6</td>\n",
       "      <td>Cacoal</td>\n",
       "      <td>379</td>\n",
       "      <td>1100379</td>\n",
       "      <td>Alto Alegre dos Parecis</td>\n",
       "    </tr>\n",
       "    <tr>\n",
       "      <th>2</th>\n",
       "      <td>11</td>\n",
       "      <td>Rondônia</td>\n",
       "      <td>2</td>\n",
       "      <td>Leste Rondoniense</td>\n",
       "      <td>3</td>\n",
       "      <td>Ariquemes</td>\n",
       "      <td>403</td>\n",
       "      <td>1100403</td>\n",
       "      <td>Alto Paraíso</td>\n",
       "    </tr>\n",
       "    <tr>\n",
       "      <th>3</th>\n",
       "      <td>11</td>\n",
       "      <td>Rondônia</td>\n",
       "      <td>2</td>\n",
       "      <td>Leste Rondoniense</td>\n",
       "      <td>5</td>\n",
       "      <td>Alvorada D'Oeste</td>\n",
       "      <td>346</td>\n",
       "      <td>1100346</td>\n",
       "      <td>Alvorada D'Oeste</td>\n",
       "    </tr>\n",
       "    <tr>\n",
       "      <th>4</th>\n",
       "      <td>11</td>\n",
       "      <td>Rondônia</td>\n",
       "      <td>2</td>\n",
       "      <td>Leste Rondoniense</td>\n",
       "      <td>3</td>\n",
       "      <td>Ariquemes</td>\n",
       "      <td>23</td>\n",
       "      <td>1100023</td>\n",
       "      <td>Ariquemes</td>\n",
       "    </tr>\n",
       "  </tbody>\n",
       "</table>\n",
       "</div>"
      ],
      "text/plain": [
       "   UF   Nome_UF  Mesorregião Geográfica   Nome_Mesorregião  \\\n",
       "0  11  Rondônia                       2  Leste Rondoniense   \n",
       "1  11  Rondônia                       2  Leste Rondoniense   \n",
       "2  11  Rondônia                       2  Leste Rondoniense   \n",
       "3  11  Rondônia                       2  Leste Rondoniense   \n",
       "4  11  Rondônia                       2  Leste Rondoniense   \n",
       "\n",
       "   Microrregião Geográfica Nome_Microrregião  Município  \\\n",
       "0                        6            Cacoal         15   \n",
       "1                        6            Cacoal        379   \n",
       "2                        3         Ariquemes        403   \n",
       "3                        5  Alvorada D'Oeste        346   \n",
       "4                        3         Ariquemes         23   \n",
       "\n",
       "   Código Município Completo           Nome_Município  \n",
       "0                    1100015    Alta Floresta D'Oeste  \n",
       "1                    1100379  Alto Alegre dos Parecis  \n",
       "2                    1100403             Alto Paraíso  \n",
       "3                    1100346         Alvorada D'Oeste  \n",
       "4                    1100023                Ariquemes  "
      ]
     },
     "execution_count": 131,
     "metadata": {},
     "output_type": "execute_result"
    }
   ],
   "source": [
    "codigo_muni.head()"
   ]
  },
  {
   "cell_type": "code",
   "execution_count": 132,
   "metadata": {},
   "outputs": [
    {
     "data": {
      "text/plain": [
       "Index(['UF', 'Nome_UF', 'Mesorregião Geográfica', 'Nome_Mesorregião',\n",
       "       'Microrregião Geográfica', 'Nome_Microrregião', 'Município',\n",
       "       'Código Município Completo', 'Nome_Município'],\n",
       "      dtype='object')"
      ]
     },
     "execution_count": 132,
     "metadata": {},
     "output_type": "execute_result"
    }
   ],
   "source": [
    "codigo_muni.columns"
   ]
  },
  {
   "cell_type": "code",
   "execution_count": 133,
   "metadata": {
    "scrolled": true
   },
   "outputs": [],
   "source": [
    "codigo_muni.rename(columns={'Código Município Completo':'codmuni_full'}, \n",
    "                 inplace=True);"
   ]
  },
  {
   "cell_type": "code",
   "execution_count": 134,
   "metadata": {},
   "outputs": [],
   "source": [
    "codigo_muni['codmuni'] = codigo_muni.codmuni_full.floordiv(10)"
   ]
  },
  {
   "cell_type": "code",
   "execution_count": 135,
   "metadata": {},
   "outputs": [
    {
     "data": {
      "text/html": [
       "<div>\n",
       "<style scoped>\n",
       "    .dataframe tbody tr th:only-of-type {\n",
       "        vertical-align: middle;\n",
       "    }\n",
       "\n",
       "    .dataframe tbody tr th {\n",
       "        vertical-align: top;\n",
       "    }\n",
       "\n",
       "    .dataframe thead th {\n",
       "        text-align: right;\n",
       "    }\n",
       "</style>\n",
       "<table border=\"1\" class=\"dataframe\">\n",
       "  <thead>\n",
       "    <tr style=\"text-align: right;\">\n",
       "      <th></th>\n",
       "      <th>UF</th>\n",
       "      <th>Nome_UF</th>\n",
       "      <th>Mesorregião Geográfica</th>\n",
       "      <th>Nome_Mesorregião</th>\n",
       "      <th>Microrregião Geográfica</th>\n",
       "      <th>Nome_Microrregião</th>\n",
       "      <th>Município</th>\n",
       "      <th>codmuni_full</th>\n",
       "      <th>Nome_Município</th>\n",
       "      <th>codmuni</th>\n",
       "    </tr>\n",
       "  </thead>\n",
       "  <tbody>\n",
       "    <tr>\n",
       "      <th>0</th>\n",
       "      <td>11</td>\n",
       "      <td>Rondônia</td>\n",
       "      <td>2</td>\n",
       "      <td>Leste Rondoniense</td>\n",
       "      <td>6</td>\n",
       "      <td>Cacoal</td>\n",
       "      <td>15</td>\n",
       "      <td>1100015</td>\n",
       "      <td>Alta Floresta D'Oeste</td>\n",
       "      <td>110001</td>\n",
       "    </tr>\n",
       "    <tr>\n",
       "      <th>1</th>\n",
       "      <td>11</td>\n",
       "      <td>Rondônia</td>\n",
       "      <td>2</td>\n",
       "      <td>Leste Rondoniense</td>\n",
       "      <td>6</td>\n",
       "      <td>Cacoal</td>\n",
       "      <td>379</td>\n",
       "      <td>1100379</td>\n",
       "      <td>Alto Alegre dos Parecis</td>\n",
       "      <td>110037</td>\n",
       "    </tr>\n",
       "    <tr>\n",
       "      <th>2</th>\n",
       "      <td>11</td>\n",
       "      <td>Rondônia</td>\n",
       "      <td>2</td>\n",
       "      <td>Leste Rondoniense</td>\n",
       "      <td>3</td>\n",
       "      <td>Ariquemes</td>\n",
       "      <td>403</td>\n",
       "      <td>1100403</td>\n",
       "      <td>Alto Paraíso</td>\n",
       "      <td>110040</td>\n",
       "    </tr>\n",
       "    <tr>\n",
       "      <th>3</th>\n",
       "      <td>11</td>\n",
       "      <td>Rondônia</td>\n",
       "      <td>2</td>\n",
       "      <td>Leste Rondoniense</td>\n",
       "      <td>5</td>\n",
       "      <td>Alvorada D'Oeste</td>\n",
       "      <td>346</td>\n",
       "      <td>1100346</td>\n",
       "      <td>Alvorada D'Oeste</td>\n",
       "      <td>110034</td>\n",
       "    </tr>\n",
       "    <tr>\n",
       "      <th>4</th>\n",
       "      <td>11</td>\n",
       "      <td>Rondônia</td>\n",
       "      <td>2</td>\n",
       "      <td>Leste Rondoniense</td>\n",
       "      <td>3</td>\n",
       "      <td>Ariquemes</td>\n",
       "      <td>23</td>\n",
       "      <td>1100023</td>\n",
       "      <td>Ariquemes</td>\n",
       "      <td>110002</td>\n",
       "    </tr>\n",
       "  </tbody>\n",
       "</table>\n",
       "</div>"
      ],
      "text/plain": [
       "   UF   Nome_UF  Mesorregião Geográfica   Nome_Mesorregião  \\\n",
       "0  11  Rondônia                       2  Leste Rondoniense   \n",
       "1  11  Rondônia                       2  Leste Rondoniense   \n",
       "2  11  Rondônia                       2  Leste Rondoniense   \n",
       "3  11  Rondônia                       2  Leste Rondoniense   \n",
       "4  11  Rondônia                       2  Leste Rondoniense   \n",
       "\n",
       "   Microrregião Geográfica Nome_Microrregião  Município  codmuni_full  \\\n",
       "0                        6            Cacoal         15       1100015   \n",
       "1                        6            Cacoal        379       1100379   \n",
       "2                        3         Ariquemes        403       1100403   \n",
       "3                        5  Alvorada D'Oeste        346       1100346   \n",
       "4                        3         Ariquemes         23       1100023   \n",
       "\n",
       "            Nome_Município  codmuni  \n",
       "0    Alta Floresta D'Oeste   110001  \n",
       "1  Alto Alegre dos Parecis   110037  \n",
       "2             Alto Paraíso   110040  \n",
       "3         Alvorada D'Oeste   110034  \n",
       "4                Ariquemes   110002  "
      ]
     },
     "execution_count": 135,
     "metadata": {},
     "output_type": "execute_result"
    }
   ],
   "source": [
    "codigo_muni.head()"
   ]
  },
  {
   "cell_type": "code",
   "execution_count": 153,
   "metadata": {
    "scrolled": true
   },
   "outputs": [
    {
     "data": {
      "text/plain": [
       "Int64Index([2010, 2011, 2012, 2013, 2014, 2015, 2016, 2017, 2018, 2019], dtype='int64', name='year')"
      ]
     },
     "execution_count": 153,
     "metadata": {},
     "output_type": "execute_result"
    }
   ],
   "source": [
    "observed.columns"
   ]
  },
  {
   "cell_type": "code",
   "execution_count": 154,
   "metadata": {},
   "outputs": [],
   "source": [
    "final = codigo_muni.set_index('codmuni').join(observed) "
   ]
  },
  {
   "cell_type": "code",
   "execution_count": 155,
   "metadata": {
    "scrolled": false
   },
   "outputs": [
    {
     "data": {
      "text/html": [
       "<div>\n",
       "<style scoped>\n",
       "    .dataframe tbody tr th:only-of-type {\n",
       "        vertical-align: middle;\n",
       "    }\n",
       "\n",
       "    .dataframe tbody tr th {\n",
       "        vertical-align: top;\n",
       "    }\n",
       "\n",
       "    .dataframe thead th {\n",
       "        text-align: right;\n",
       "    }\n",
       "</style>\n",
       "<table border=\"1\" class=\"dataframe\">\n",
       "  <thead>\n",
       "    <tr style=\"text-align: right;\">\n",
       "      <th></th>\n",
       "      <th>UF</th>\n",
       "      <th>Nome_UF</th>\n",
       "      <th>Mesorregião Geográfica</th>\n",
       "      <th>Nome_Mesorregião</th>\n",
       "      <th>Microrregião Geográfica</th>\n",
       "      <th>Nome_Microrregião</th>\n",
       "      <th>Município</th>\n",
       "      <th>codmuni_full</th>\n",
       "      <th>Nome_Município</th>\n",
       "      <th>2010</th>\n",
       "      <th>2011</th>\n",
       "      <th>2012</th>\n",
       "      <th>2013</th>\n",
       "      <th>2014</th>\n",
       "      <th>2015</th>\n",
       "      <th>2016</th>\n",
       "      <th>2017</th>\n",
       "      <th>2018</th>\n",
       "      <th>2019</th>\n",
       "    </tr>\n",
       "    <tr>\n",
       "      <th>codmuni</th>\n",
       "      <th></th>\n",
       "      <th></th>\n",
       "      <th></th>\n",
       "      <th></th>\n",
       "      <th></th>\n",
       "      <th></th>\n",
       "      <th></th>\n",
       "      <th></th>\n",
       "      <th></th>\n",
       "      <th></th>\n",
       "      <th></th>\n",
       "      <th></th>\n",
       "      <th></th>\n",
       "      <th></th>\n",
       "      <th></th>\n",
       "      <th></th>\n",
       "      <th></th>\n",
       "      <th></th>\n",
       "      <th></th>\n",
       "    </tr>\n",
       "  </thead>\n",
       "  <tbody>\n",
       "    <tr>\n",
       "      <th>110001</th>\n",
       "      <td>11</td>\n",
       "      <td>Rondônia</td>\n",
       "      <td>2</td>\n",
       "      <td>Leste Rondoniense</td>\n",
       "      <td>6</td>\n",
       "      <td>Cacoal</td>\n",
       "      <td>15</td>\n",
       "      <td>1100015</td>\n",
       "      <td>Alta Floresta D'Oeste</td>\n",
       "      <td>13.0</td>\n",
       "      <td>1.0</td>\n",
       "      <td>2.0</td>\n",
       "      <td>159.0</td>\n",
       "      <td>5.0</td>\n",
       "      <td>10.0</td>\n",
       "      <td>0.0</td>\n",
       "      <td>10.0</td>\n",
       "      <td>3.0</td>\n",
       "      <td>217.0</td>\n",
       "    </tr>\n",
       "    <tr>\n",
       "      <th>110037</th>\n",
       "      <td>11</td>\n",
       "      <td>Rondônia</td>\n",
       "      <td>2</td>\n",
       "      <td>Leste Rondoniense</td>\n",
       "      <td>6</td>\n",
       "      <td>Cacoal</td>\n",
       "      <td>379</td>\n",
       "      <td>1100379</td>\n",
       "      <td>Alto Alegre dos Parecis</td>\n",
       "      <td>27.0</td>\n",
       "      <td>0.0</td>\n",
       "      <td>5.0</td>\n",
       "      <td>113.0</td>\n",
       "      <td>4.0</td>\n",
       "      <td>9.0</td>\n",
       "      <td>0.0</td>\n",
       "      <td>6.0</td>\n",
       "      <td>2.0</td>\n",
       "      <td>36.0</td>\n",
       "    </tr>\n",
       "    <tr>\n",
       "      <th>110040</th>\n",
       "      <td>11</td>\n",
       "      <td>Rondônia</td>\n",
       "      <td>2</td>\n",
       "      <td>Leste Rondoniense</td>\n",
       "      <td>3</td>\n",
       "      <td>Ariquemes</td>\n",
       "      <td>403</td>\n",
       "      <td>1100403</td>\n",
       "      <td>Alto Paraíso</td>\n",
       "      <td>33.0</td>\n",
       "      <td>35.0</td>\n",
       "      <td>36.0</td>\n",
       "      <td>57.0</td>\n",
       "      <td>18.0</td>\n",
       "      <td>3.0</td>\n",
       "      <td>0.0</td>\n",
       "      <td>22.0</td>\n",
       "      <td>4.0</td>\n",
       "      <td>5.0</td>\n",
       "    </tr>\n",
       "    <tr>\n",
       "      <th>110034</th>\n",
       "      <td>11</td>\n",
       "      <td>Rondônia</td>\n",
       "      <td>2</td>\n",
       "      <td>Leste Rondoniense</td>\n",
       "      <td>5</td>\n",
       "      <td>Alvorada D'Oeste</td>\n",
       "      <td>346</td>\n",
       "      <td>1100346</td>\n",
       "      <td>Alvorada D'Oeste</td>\n",
       "      <td>70.0</td>\n",
       "      <td>276.0</td>\n",
       "      <td>84.0</td>\n",
       "      <td>515.0</td>\n",
       "      <td>13.0</td>\n",
       "      <td>34.0</td>\n",
       "      <td>0.0</td>\n",
       "      <td>6.0</td>\n",
       "      <td>1.0</td>\n",
       "      <td>0.0</td>\n",
       "    </tr>\n",
       "    <tr>\n",
       "      <th>110002</th>\n",
       "      <td>11</td>\n",
       "      <td>Rondônia</td>\n",
       "      <td>2</td>\n",
       "      <td>Leste Rondoniense</td>\n",
       "      <td>3</td>\n",
       "      <td>Ariquemes</td>\n",
       "      <td>23</td>\n",
       "      <td>1100023</td>\n",
       "      <td>Ariquemes</td>\n",
       "      <td>228.0</td>\n",
       "      <td>27.0</td>\n",
       "      <td>2.0</td>\n",
       "      <td>35.0</td>\n",
       "      <td>56.0</td>\n",
       "      <td>21.0</td>\n",
       "      <td>0.0</td>\n",
       "      <td>61.0</td>\n",
       "      <td>7.0</td>\n",
       "      <td>26.0</td>\n",
       "    </tr>\n",
       "    <tr>\n",
       "      <th>...</th>\n",
       "      <td>...</td>\n",
       "      <td>...</td>\n",
       "      <td>...</td>\n",
       "      <td>...</td>\n",
       "      <td>...</td>\n",
       "      <td>...</td>\n",
       "      <td>...</td>\n",
       "      <td>...</td>\n",
       "      <td>...</td>\n",
       "      <td>...</td>\n",
       "      <td>...</td>\n",
       "      <td>...</td>\n",
       "      <td>...</td>\n",
       "      <td>...</td>\n",
       "      <td>...</td>\n",
       "      <td>...</td>\n",
       "      <td>...</td>\n",
       "      <td>...</td>\n",
       "      <td>...</td>\n",
       "    </tr>\n",
       "    <tr>\n",
       "      <th>522200</th>\n",
       "      <td>52</td>\n",
       "      <td>Goiás</td>\n",
       "      <td>5</td>\n",
       "      <td>Sul Goiano</td>\n",
       "      <td>16</td>\n",
       "      <td>Pires do Rio</td>\n",
       "      <td>22005</td>\n",
       "      <td>5222005</td>\n",
       "      <td>Vianópolis</td>\n",
       "      <td>40.0</td>\n",
       "      <td>37.0</td>\n",
       "      <td>8.0</td>\n",
       "      <td>28.0</td>\n",
       "      <td>111.0</td>\n",
       "      <td>86.0</td>\n",
       "      <td>0.0</td>\n",
       "      <td>36.0</td>\n",
       "      <td>13.0</td>\n",
       "      <td>145.0</td>\n",
       "    </tr>\n",
       "    <tr>\n",
       "      <th>522205</th>\n",
       "      <td>52</td>\n",
       "      <td>Goiás</td>\n",
       "      <td>5</td>\n",
       "      <td>Sul Goiano</td>\n",
       "      <td>15</td>\n",
       "      <td>Meia Ponte</td>\n",
       "      <td>22054</td>\n",
       "      <td>5222054</td>\n",
       "      <td>Vicentinópolis</td>\n",
       "      <td>39.0</td>\n",
       "      <td>7.0</td>\n",
       "      <td>43.0</td>\n",
       "      <td>114.0</td>\n",
       "      <td>26.0</td>\n",
       "      <td>113.0</td>\n",
       "      <td>0.0</td>\n",
       "      <td>3.0</td>\n",
       "      <td>85.0</td>\n",
       "      <td>5.0</td>\n",
       "    </tr>\n",
       "    <tr>\n",
       "      <th>522220</th>\n",
       "      <td>52</td>\n",
       "      <td>Goiás</td>\n",
       "      <td>4</td>\n",
       "      <td>Leste Goiano</td>\n",
       "      <td>12</td>\n",
       "      <td>Entorno de Brasília</td>\n",
       "      <td>22203</td>\n",
       "      <td>5222203</td>\n",
       "      <td>Vila Boa</td>\n",
       "      <td>1.0</td>\n",
       "      <td>5.0</td>\n",
       "      <td>0.0</td>\n",
       "      <td>409.0</td>\n",
       "      <td>225.0</td>\n",
       "      <td>5.0</td>\n",
       "      <td>0.0</td>\n",
       "      <td>26.0</td>\n",
       "      <td>0.0</td>\n",
       "      <td>2.0</td>\n",
       "    </tr>\n",
       "    <tr>\n",
       "      <th>522230</th>\n",
       "      <td>52</td>\n",
       "      <td>Goiás</td>\n",
       "      <td>4</td>\n",
       "      <td>Leste Goiano</td>\n",
       "      <td>12</td>\n",
       "      <td>Entorno de Brasília</td>\n",
       "      <td>22302</td>\n",
       "      <td>5222302</td>\n",
       "      <td>Vila Propício</td>\n",
       "      <td>39.0</td>\n",
       "      <td>2.0</td>\n",
       "      <td>1.0</td>\n",
       "      <td>21.0</td>\n",
       "      <td>5.0</td>\n",
       "      <td>73.0</td>\n",
       "      <td>0.0</td>\n",
       "      <td>99.0</td>\n",
       "      <td>14.0</td>\n",
       "      <td>18.0</td>\n",
       "    </tr>\n",
       "    <tr>\n",
       "      <th>530010</th>\n",
       "      <td>53</td>\n",
       "      <td>Distrito Federal</td>\n",
       "      <td>1</td>\n",
       "      <td>Distrito Federal</td>\n",
       "      <td>1</td>\n",
       "      <td>Brasília</td>\n",
       "      <td>108</td>\n",
       "      <td>5300108</td>\n",
       "      <td>Brasília</td>\n",
       "      <td>12105.0</td>\n",
       "      <td>1322.0</td>\n",
       "      <td>708.0</td>\n",
       "      <td>9197.0</td>\n",
       "      <td>11468.0</td>\n",
       "      <td>9099.0</td>\n",
       "      <td>10.0</td>\n",
       "      <td>2733.0</td>\n",
       "      <td>834.0</td>\n",
       "      <td>27373.0</td>\n",
       "    </tr>\n",
       "  </tbody>\n",
       "</table>\n",
       "<p>5570 rows × 19 columns</p>\n",
       "</div>"
      ],
      "text/plain": [
       "         UF           Nome_UF  Mesorregião Geográfica   Nome_Mesorregião  \\\n",
       "codmuni                                                                    \n",
       "110001   11          Rondônia                       2  Leste Rondoniense   \n",
       "110037   11          Rondônia                       2  Leste Rondoniense   \n",
       "110040   11          Rondônia                       2  Leste Rondoniense   \n",
       "110034   11          Rondônia                       2  Leste Rondoniense   \n",
       "110002   11          Rondônia                       2  Leste Rondoniense   \n",
       "...      ..               ...                     ...                ...   \n",
       "522200   52             Goiás                       5         Sul Goiano   \n",
       "522205   52             Goiás                       5         Sul Goiano   \n",
       "522220   52             Goiás                       4       Leste Goiano   \n",
       "522230   52             Goiás                       4       Leste Goiano   \n",
       "530010   53  Distrito Federal                       1   Distrito Federal   \n",
       "\n",
       "         Microrregião Geográfica    Nome_Microrregião  Município  \\\n",
       "codmuni                                                            \n",
       "110001                         6               Cacoal         15   \n",
       "110037                         6               Cacoal        379   \n",
       "110040                         3            Ariquemes        403   \n",
       "110034                         5     Alvorada D'Oeste        346   \n",
       "110002                         3            Ariquemes         23   \n",
       "...                          ...                  ...        ...   \n",
       "522200                        16         Pires do Rio      22005   \n",
       "522205                        15           Meia Ponte      22054   \n",
       "522220                        12  Entorno de Brasília      22203   \n",
       "522230                        12  Entorno de Brasília      22302   \n",
       "530010                         1             Brasília        108   \n",
       "\n",
       "         codmuni_full           Nome_Município     2010    2011   2012  \\\n",
       "codmuni                                                                  \n",
       "110001        1100015    Alta Floresta D'Oeste     13.0     1.0    2.0   \n",
       "110037        1100379  Alto Alegre dos Parecis     27.0     0.0    5.0   \n",
       "110040        1100403             Alto Paraíso     33.0    35.0   36.0   \n",
       "110034        1100346         Alvorada D'Oeste     70.0   276.0   84.0   \n",
       "110002        1100023                Ariquemes    228.0    27.0    2.0   \n",
       "...               ...                      ...      ...     ...    ...   \n",
       "522200        5222005               Vianópolis     40.0    37.0    8.0   \n",
       "522205        5222054           Vicentinópolis     39.0     7.0   43.0   \n",
       "522220        5222203                 Vila Boa      1.0     5.0    0.0   \n",
       "522230        5222302            Vila Propício     39.0     2.0    1.0   \n",
       "530010        5300108                 Brasília  12105.0  1322.0  708.0   \n",
       "\n",
       "           2013     2014    2015  2016    2017   2018     2019  \n",
       "codmuni                                                         \n",
       "110001    159.0      5.0    10.0   0.0    10.0    3.0    217.0  \n",
       "110037    113.0      4.0     9.0   0.0     6.0    2.0     36.0  \n",
       "110040     57.0     18.0     3.0   0.0    22.0    4.0      5.0  \n",
       "110034    515.0     13.0    34.0   0.0     6.0    1.0      0.0  \n",
       "110002     35.0     56.0    21.0   0.0    61.0    7.0     26.0  \n",
       "...         ...      ...     ...   ...     ...    ...      ...  \n",
       "522200     28.0    111.0    86.0   0.0    36.0   13.0    145.0  \n",
       "522205    114.0     26.0   113.0   0.0     3.0   85.0      5.0  \n",
       "522220    409.0    225.0     5.0   0.0    26.0    0.0      2.0  \n",
       "522230     21.0      5.0    73.0   0.0    99.0   14.0     18.0  \n",
       "530010   9197.0  11468.0  9099.0  10.0  2733.0  834.0  27373.0  \n",
       "\n",
       "[5570 rows x 19 columns]"
      ]
     },
     "execution_count": 155,
     "metadata": {},
     "output_type": "execute_result"
    }
   ],
   "source": [
    "final"
   ]
  },
  {
   "cell_type": "code",
   "execution_count": 156,
   "metadata": {},
   "outputs": [],
   "source": [
    "final = final.join(Expected_2019.set_index('codmunres')).join(Expected_2018.set_index('codmunres')).join(Expected_2017.set_index('codmunres')).join(Expected_2016.set_index('codmunres')).join(Expected_2015.set_index('codmunres')).join(Expected_2014.set_index('codmunres')).join(Expected_2013.set_index('codmunres')).join(Expected_2012.set_index('codmunres')).join(Expected_2011.set_index('codmunres')).join(Expected_2010.set_index('codmunres'))"
   ]
  },
  {
   "cell_type": "code",
   "execution_count": 157,
   "metadata": {
    "scrolled": false
   },
   "outputs": [
    {
     "data": {
      "text/plain": [
       "Index([                     'UF',                 'Nome_UF',\n",
       "        'Mesorregião Geográfica',        'Nome_Mesorregião',\n",
       "       'Microrregião Geográfica',       'Nome_Microrregião',\n",
       "                     'Município',            'codmuni_full',\n",
       "                'Nome_Município',                      2010,\n",
       "                            2011,                      2012,\n",
       "                            2013,                      2014,\n",
       "                            2015,                      2016,\n",
       "                            2017,                      2018,\n",
       "                            2019,           'expected_2019',\n",
       "                 'expected_2018',           'expected_2017',\n",
       "                 'expected_2016',           'expected_2015',\n",
       "                 'expected_2014',           'expected_2013',\n",
       "                 'expected_2012',           'expected_2011',\n",
       "                 'expected_2010'],\n",
       "      dtype='object')"
      ]
     },
     "execution_count": 157,
     "metadata": {},
     "output_type": "execute_result"
    }
   ],
   "source": [
    "final.columns"
   ]
  },
  {
   "cell_type": "code",
   "execution_count": 158,
   "metadata": {},
   "outputs": [],
   "source": [
    "final = final.fillna(0)"
   ]
  },
  {
   "cell_type": "code",
   "execution_count": 159,
   "metadata": {},
   "outputs": [],
   "source": [
    "final['SIR_2010'] = final[2010]/final['expected_2010']\n",
    "final['SIR_2011'] = final[2011]/final['expected_2011']\n",
    "final['SIR_2012'] = final[2012]/final['expected_2012']\n",
    "final['SIR_2013'] = final[2013]/final['expected_2013']\n",
    "final['SIR_2014'] = final[2014]/final['expected_2014']\n",
    "final['SIR_2015'] = final[2015]/final['expected_2015']\n",
    "final['SIR_2016'] = final[2016]/final['expected_2016']\n",
    "final['SIR_2017'] = final[2017]/final['expected_2017']\n",
    "final['SIR_2018'] = final[2018]/final['expected_2018']\n",
    "final['SIR_2019'] = final[2019]/final['expected_2019']"
   ]
  },
  {
   "cell_type": "code",
   "execution_count": 160,
   "metadata": {},
   "outputs": [
    {
     "data": {
      "text/html": [
       "<div>\n",
       "<style scoped>\n",
       "    .dataframe tbody tr th:only-of-type {\n",
       "        vertical-align: middle;\n",
       "    }\n",
       "\n",
       "    .dataframe tbody tr th {\n",
       "        vertical-align: top;\n",
       "    }\n",
       "\n",
       "    .dataframe thead th {\n",
       "        text-align: right;\n",
       "    }\n",
       "</style>\n",
       "<table border=\"1\" class=\"dataframe\">\n",
       "  <thead>\n",
       "    <tr style=\"text-align: right;\">\n",
       "      <th></th>\n",
       "      <th>UF</th>\n",
       "      <th>Nome_UF</th>\n",
       "      <th>Mesorregião Geográfica</th>\n",
       "      <th>Nome_Mesorregião</th>\n",
       "      <th>Microrregião Geográfica</th>\n",
       "      <th>Nome_Microrregião</th>\n",
       "      <th>Município</th>\n",
       "      <th>codmuni_full</th>\n",
       "      <th>Nome_Município</th>\n",
       "      <th>2010</th>\n",
       "      <th>...</th>\n",
       "      <th>SIR_2010</th>\n",
       "      <th>SIR_2011</th>\n",
       "      <th>SIR_2012</th>\n",
       "      <th>SIR_2013</th>\n",
       "      <th>SIR_2014</th>\n",
       "      <th>SIR_2015</th>\n",
       "      <th>SIR_2016</th>\n",
       "      <th>SIR_2017</th>\n",
       "      <th>SIR_2018</th>\n",
       "      <th>SIR_2019</th>\n",
       "    </tr>\n",
       "    <tr>\n",
       "      <th>codmuni</th>\n",
       "      <th></th>\n",
       "      <th></th>\n",
       "      <th></th>\n",
       "      <th></th>\n",
       "      <th></th>\n",
       "      <th></th>\n",
       "      <th></th>\n",
       "      <th></th>\n",
       "      <th></th>\n",
       "      <th></th>\n",
       "      <th></th>\n",
       "      <th></th>\n",
       "      <th></th>\n",
       "      <th></th>\n",
       "      <th></th>\n",
       "      <th></th>\n",
       "      <th></th>\n",
       "      <th></th>\n",
       "      <th></th>\n",
       "      <th></th>\n",
       "      <th></th>\n",
       "    </tr>\n",
       "  </thead>\n",
       "  <tbody>\n",
       "    <tr>\n",
       "      <th>110001</th>\n",
       "      <td>11</td>\n",
       "      <td>Rondônia</td>\n",
       "      <td>2</td>\n",
       "      <td>Leste Rondoniense</td>\n",
       "      <td>6</td>\n",
       "      <td>Cacoal</td>\n",
       "      <td>15</td>\n",
       "      <td>1100015</td>\n",
       "      <td>Alta Floresta D'Oeste</td>\n",
       "      <td>13.0</td>\n",
       "      <td>...</td>\n",
       "      <td>0.118826</td>\n",
       "      <td>0.013160</td>\n",
       "      <td>0.039422</td>\n",
       "      <td>1.066638</td>\n",
       "      <td>0.084347</td>\n",
       "      <td>0.058056</td>\n",
       "      <td>0.000000</td>\n",
       "      <td>0.475572</td>\n",
       "      <td>0.163419</td>\n",
       "      <td>1.360561</td>\n",
       "    </tr>\n",
       "    <tr>\n",
       "      <th>110037</th>\n",
       "      <td>11</td>\n",
       "      <td>Rondônia</td>\n",
       "      <td>2</td>\n",
       "      <td>Leste Rondoniense</td>\n",
       "      <td>6</td>\n",
       "      <td>Cacoal</td>\n",
       "      <td>379</td>\n",
       "      <td>1100379</td>\n",
       "      <td>Alto Alegre dos Parecis</td>\n",
       "      <td>27.0</td>\n",
       "      <td>...</td>\n",
       "      <td>0.464874</td>\n",
       "      <td>0.000000</td>\n",
       "      <td>0.185175</td>\n",
       "      <td>1.436248</td>\n",
       "      <td>0.128036</td>\n",
       "      <td>0.099387</td>\n",
       "      <td>0.000000</td>\n",
       "      <td>0.538125</td>\n",
       "      <td>0.205344</td>\n",
       "      <td>0.428471</td>\n",
       "    </tr>\n",
       "    <tr>\n",
       "      <th>110040</th>\n",
       "      <td>11</td>\n",
       "      <td>Rondônia</td>\n",
       "      <td>2</td>\n",
       "      <td>Leste Rondoniense</td>\n",
       "      <td>3</td>\n",
       "      <td>Ariquemes</td>\n",
       "      <td>403</td>\n",
       "      <td>1100403</td>\n",
       "      <td>Alto Paraíso</td>\n",
       "      <td>33.0</td>\n",
       "      <td>...</td>\n",
       "      <td>0.410519</td>\n",
       "      <td>0.622364</td>\n",
       "      <td>0.964616</td>\n",
       "      <td>0.523791</td>\n",
       "      <td>0.416430</td>\n",
       "      <td>0.023904</td>\n",
       "      <td>0.000000</td>\n",
       "      <td>1.429412</td>\n",
       "      <td>0.296757</td>\n",
       "      <td>0.042905</td>\n",
       "    </tr>\n",
       "    <tr>\n",
       "      <th>110034</th>\n",
       "      <td>11</td>\n",
       "      <td>Rondônia</td>\n",
       "      <td>2</td>\n",
       "      <td>Leste Rondoniense</td>\n",
       "      <td>5</td>\n",
       "      <td>Alvorada D'Oeste</td>\n",
       "      <td>346</td>\n",
       "      <td>1100346</td>\n",
       "      <td>Alvorada D'Oeste</td>\n",
       "      <td>70.0</td>\n",
       "      <td>...</td>\n",
       "      <td>0.943602</td>\n",
       "      <td>5.351244</td>\n",
       "      <td>2.445291</td>\n",
       "      <td>5.099835</td>\n",
       "      <td>0.323269</td>\n",
       "      <td>0.290478</td>\n",
       "      <td>0.000000</td>\n",
       "      <td>0.421006</td>\n",
       "      <td>0.080306</td>\n",
       "      <td>0.000000</td>\n",
       "    </tr>\n",
       "    <tr>\n",
       "      <th>110002</th>\n",
       "      <td>11</td>\n",
       "      <td>Rondônia</td>\n",
       "      <td>2</td>\n",
       "      <td>Leste Rondoniense</td>\n",
       "      <td>3</td>\n",
       "      <td>Ariquemes</td>\n",
       "      <td>23</td>\n",
       "      <td>1100023</td>\n",
       "      <td>Ariquemes</td>\n",
       "      <td>228.0</td>\n",
       "      <td>...</td>\n",
       "      <td>0.541435</td>\n",
       "      <td>0.091867</td>\n",
       "      <td>0.010193</td>\n",
       "      <td>0.061223</td>\n",
       "      <td>0.246691</td>\n",
       "      <td>0.032004</td>\n",
       "      <td>0.000000</td>\n",
       "      <td>0.753596</td>\n",
       "      <td>0.099300</td>\n",
       "      <td>0.042754</td>\n",
       "    </tr>\n",
       "    <tr>\n",
       "      <th>...</th>\n",
       "      <td>...</td>\n",
       "      <td>...</td>\n",
       "      <td>...</td>\n",
       "      <td>...</td>\n",
       "      <td>...</td>\n",
       "      <td>...</td>\n",
       "      <td>...</td>\n",
       "      <td>...</td>\n",
       "      <td>...</td>\n",
       "      <td>...</td>\n",
       "      <td>...</td>\n",
       "      <td>...</td>\n",
       "      <td>...</td>\n",
       "      <td>...</td>\n",
       "      <td>...</td>\n",
       "      <td>...</td>\n",
       "      <td>...</td>\n",
       "      <td>...</td>\n",
       "      <td>...</td>\n",
       "      <td>...</td>\n",
       "      <td>...</td>\n",
       "    </tr>\n",
       "    <tr>\n",
       "      <th>522200</th>\n",
       "      <td>52</td>\n",
       "      <td>Goiás</td>\n",
       "      <td>5</td>\n",
       "      <td>Sul Goiano</td>\n",
       "      <td>16</td>\n",
       "      <td>Pires do Rio</td>\n",
       "      <td>22005</td>\n",
       "      <td>5222005</td>\n",
       "      <td>Vianópolis</td>\n",
       "      <td>40.0</td>\n",
       "      <td>...</td>\n",
       "      <td>0.695146</td>\n",
       "      <td>0.932518</td>\n",
       "      <td>0.300736</td>\n",
       "      <td>0.355228</td>\n",
       "      <td>3.529403</td>\n",
       "      <td>0.936915</td>\n",
       "      <td>0.000000</td>\n",
       "      <td>3.248769</td>\n",
       "      <td>1.339435</td>\n",
       "      <td>1.706821</td>\n",
       "    </tr>\n",
       "    <tr>\n",
       "      <th>522205</th>\n",
       "      <td>52</td>\n",
       "      <td>Goiás</td>\n",
       "      <td>5</td>\n",
       "      <td>Sul Goiano</td>\n",
       "      <td>15</td>\n",
       "      <td>Meia Ponte</td>\n",
       "      <td>22054</td>\n",
       "      <td>5222054</td>\n",
       "      <td>Vicentinópolis</td>\n",
       "      <td>39.0</td>\n",
       "      <td>...</td>\n",
       "      <td>1.126102</td>\n",
       "      <td>0.292972</td>\n",
       "      <td>2.673098</td>\n",
       "      <td>2.400966</td>\n",
       "      <td>1.379141</td>\n",
       "      <td>2.062248</td>\n",
       "      <td>0.000000</td>\n",
       "      <td>0.449612</td>\n",
       "      <td>14.569568</td>\n",
       "      <td>0.098575</td>\n",
       "    </tr>\n",
       "    <tr>\n",
       "      <th>522220</th>\n",
       "      <td>52</td>\n",
       "      <td>Goiás</td>\n",
       "      <td>4</td>\n",
       "      <td>Leste Goiano</td>\n",
       "      <td>12</td>\n",
       "      <td>Entorno de Brasília</td>\n",
       "      <td>22203</td>\n",
       "      <td>5222203</td>\n",
       "      <td>Vila Boa</td>\n",
       "      <td>1.0</td>\n",
       "      <td>...</td>\n",
       "      <td>0.044145</td>\n",
       "      <td>0.315153</td>\n",
       "      <td>0.000000</td>\n",
       "      <td>13.329427</td>\n",
       "      <td>18.574771</td>\n",
       "      <td>0.143170</td>\n",
       "      <td>0.000000</td>\n",
       "      <td>5.983568</td>\n",
       "      <td>0.000000</td>\n",
       "      <td>0.061855</td>\n",
       "    </tr>\n",
       "    <tr>\n",
       "      <th>522230</th>\n",
       "      <td>52</td>\n",
       "      <td>Goiás</td>\n",
       "      <td>4</td>\n",
       "      <td>Leste Goiano</td>\n",
       "      <td>12</td>\n",
       "      <td>Entorno de Brasília</td>\n",
       "      <td>22302</td>\n",
       "      <td>5222302</td>\n",
       "      <td>Vila Propício</td>\n",
       "      <td>39.0</td>\n",
       "      <td>...</td>\n",
       "      <td>1.649818</td>\n",
       "      <td>0.122196</td>\n",
       "      <td>0.092055</td>\n",
       "      <td>0.651397</td>\n",
       "      <td>0.388086</td>\n",
       "      <td>1.929657</td>\n",
       "      <td>0.000000</td>\n",
       "      <td>21.850756</td>\n",
       "      <td>3.506940</td>\n",
       "      <td>0.512130</td>\n",
       "    </tr>\n",
       "    <tr>\n",
       "      <th>530010</th>\n",
       "      <td>53</td>\n",
       "      <td>Distrito Federal</td>\n",
       "      <td>1</td>\n",
       "      <td>Distrito Federal</td>\n",
       "      <td>1</td>\n",
       "      <td>Brasília</td>\n",
       "      <td>108</td>\n",
       "      <td>5300108</td>\n",
       "      <td>Brasília</td>\n",
       "      <td>12105.0</td>\n",
       "      <td>...</td>\n",
       "      <td>1.011149</td>\n",
       "      <td>0.159657</td>\n",
       "      <td>0.127075</td>\n",
       "      <td>0.561782</td>\n",
       "      <td>1.757888</td>\n",
       "      <td>0.481804</td>\n",
       "      <td>0.001532</td>\n",
       "      <td>1.184290</td>\n",
       "      <td>0.414505</td>\n",
       "      <td>1.569100</td>\n",
       "    </tr>\n",
       "  </tbody>\n",
       "</table>\n",
       "<p>5570 rows × 39 columns</p>\n",
       "</div>"
      ],
      "text/plain": [
       "         UF           Nome_UF  Mesorregião Geográfica   Nome_Mesorregião  \\\n",
       "codmuni                                                                    \n",
       "110001   11          Rondônia                       2  Leste Rondoniense   \n",
       "110037   11          Rondônia                       2  Leste Rondoniense   \n",
       "110040   11          Rondônia                       2  Leste Rondoniense   \n",
       "110034   11          Rondônia                       2  Leste Rondoniense   \n",
       "110002   11          Rondônia                       2  Leste Rondoniense   \n",
       "...      ..               ...                     ...                ...   \n",
       "522200   52             Goiás                       5         Sul Goiano   \n",
       "522205   52             Goiás                       5         Sul Goiano   \n",
       "522220   52             Goiás                       4       Leste Goiano   \n",
       "522230   52             Goiás                       4       Leste Goiano   \n",
       "530010   53  Distrito Federal                       1   Distrito Federal   \n",
       "\n",
       "         Microrregião Geográfica    Nome_Microrregião  Município  \\\n",
       "codmuni                                                            \n",
       "110001                         6               Cacoal         15   \n",
       "110037                         6               Cacoal        379   \n",
       "110040                         3            Ariquemes        403   \n",
       "110034                         5     Alvorada D'Oeste        346   \n",
       "110002                         3            Ariquemes         23   \n",
       "...                          ...                  ...        ...   \n",
       "522200                        16         Pires do Rio      22005   \n",
       "522205                        15           Meia Ponte      22054   \n",
       "522220                        12  Entorno de Brasília      22203   \n",
       "522230                        12  Entorno de Brasília      22302   \n",
       "530010                         1             Brasília        108   \n",
       "\n",
       "         codmuni_full           Nome_Município     2010  ...  SIR_2010  \\\n",
       "codmuni                                                  ...             \n",
       "110001        1100015    Alta Floresta D'Oeste     13.0  ...  0.118826   \n",
       "110037        1100379  Alto Alegre dos Parecis     27.0  ...  0.464874   \n",
       "110040        1100403             Alto Paraíso     33.0  ...  0.410519   \n",
       "110034        1100346         Alvorada D'Oeste     70.0  ...  0.943602   \n",
       "110002        1100023                Ariquemes    228.0  ...  0.541435   \n",
       "...               ...                      ...      ...  ...       ...   \n",
       "522200        5222005               Vianópolis     40.0  ...  0.695146   \n",
       "522205        5222054           Vicentinópolis     39.0  ...  1.126102   \n",
       "522220        5222203                 Vila Boa      1.0  ...  0.044145   \n",
       "522230        5222302            Vila Propício     39.0  ...  1.649818   \n",
       "530010        5300108                 Brasília  12105.0  ...  1.011149   \n",
       "\n",
       "         SIR_2011  SIR_2012   SIR_2013   SIR_2014  SIR_2015  SIR_2016  \\\n",
       "codmuni                                                                 \n",
       "110001   0.013160  0.039422   1.066638   0.084347  0.058056  0.000000   \n",
       "110037   0.000000  0.185175   1.436248   0.128036  0.099387  0.000000   \n",
       "110040   0.622364  0.964616   0.523791   0.416430  0.023904  0.000000   \n",
       "110034   5.351244  2.445291   5.099835   0.323269  0.290478  0.000000   \n",
       "110002   0.091867  0.010193   0.061223   0.246691  0.032004  0.000000   \n",
       "...           ...       ...        ...        ...       ...       ...   \n",
       "522200   0.932518  0.300736   0.355228   3.529403  0.936915  0.000000   \n",
       "522205   0.292972  2.673098   2.400966   1.379141  2.062248  0.000000   \n",
       "522220   0.315153  0.000000  13.329427  18.574771  0.143170  0.000000   \n",
       "522230   0.122196  0.092055   0.651397   0.388086  1.929657  0.000000   \n",
       "530010   0.159657  0.127075   0.561782   1.757888  0.481804  0.001532   \n",
       "\n",
       "          SIR_2017   SIR_2018  SIR_2019  \n",
       "codmuni                                  \n",
       "110001    0.475572   0.163419  1.360561  \n",
       "110037    0.538125   0.205344  0.428471  \n",
       "110040    1.429412   0.296757  0.042905  \n",
       "110034    0.421006   0.080306  0.000000  \n",
       "110002    0.753596   0.099300  0.042754  \n",
       "...            ...        ...       ...  \n",
       "522200    3.248769   1.339435  1.706821  \n",
       "522205    0.449612  14.569568  0.098575  \n",
       "522220    5.983568   0.000000  0.061855  \n",
       "522230   21.850756   3.506940  0.512130  \n",
       "530010    1.184290   0.414505  1.569100  \n",
       "\n",
       "[5570 rows x 39 columns]"
      ]
     },
     "execution_count": 160,
     "metadata": {},
     "output_type": "execute_result"
    }
   ],
   "source": [
    "final"
   ]
  },
  {
   "cell_type": "code",
   "execution_count": 161,
   "metadata": {},
   "outputs": [],
   "source": [
    "final.to_excel('standard_incidence_ratio_dengue.xls')"
   ]
  },
  {
   "cell_type": "code",
   "execution_count": null,
   "metadata": {},
   "outputs": [],
   "source": []
  },
  {
   "cell_type": "markdown",
   "metadata": {},
   "source": [
    "cs_sexo -> 'F'= 1\n",
    "\n",
    "cs_sexo -> 'M'= 2\n",
    "\n",
    "cs_raca -> 1- branca\n",
    "\n",
    "           2- preta\n",
    "           \n",
    "           3- amarela\n",
    "           \n",
    "           4- parda\n",
    "           \n",
    "           5- indígena\n",
    "           \n",
    "           9 Ignorado\n",
    "           \n",
    "           \n",
    "cor -> Branca- 1\n",
    "\n",
    "        Preta- 2 \n",
    "        \n",
    "        Amarela- 3\n",
    "        \n",
    "        Parda- 4 \n",
    "        \n",
    "        Indigena- 5 \n",
    "        \n",
    "        Sem declaraçao- 9\n",
    "                  \n",
    "Sexo -> 'Mulheres' = 1\n",
    "\n",
    "        'Homens' = 2 \n",
    "       \n",
    "Idade -> '0 a 4 anos': 4, \n",
    "\n",
    "         '5 a 9 anos': 509,\n",
    "         \n",
    "         '10 a 14 anos': 1014,\n",
    "         \n",
    "         '15 a 19 anos': 1519,\n",
    "         \n",
    "         '20 a 24 anos': 2024, \n",
    "         \n",
    "         '25 a 29 anos': 2529, \n",
    "         \n",
    "         '30 a 34 anos': 3034,\n",
    "         \n",
    "         '35 a 39 anos': 3539,\n",
    "         \n",
    "         '40 a 44 anos': 4044, \n",
    "         \n",
    "         '45 a 49 anos': 4549,\n",
    "         \n",
    "         '50 a 54 anos': 5054, \n",
    "         \n",
    "         '55 a 59 anos': 5559,\n",
    "         \n",
    "         '60 a 64 anos': 6064, \n",
    "         \n",
    "         '65 a 69 anos': 6569, \n",
    "         \n",
    "         '70 a 74 anos': 7074, \n",
    "         \n",
    "         '75 a 79 anos': 7579,\n",
    "         \n",
    "         '80 a 89 anos': 8099, \n",
    "         \n",
    "         '90 a 99 anos': 8099 "
   ]
  },
  {
   "cell_type": "code",
   "execution_count": null,
   "metadata": {},
   "outputs": [],
   "source": [
    "df['cs_raca'] = df['cs_raca'].fillna(0)\n",
    "df['cs_raca'] = df['cs_raca'].astype(float).astype(int)"
   ]
  },
  {
   "cell_type": "code",
   "execution_count": null,
   "metadata": {},
   "outputs": [],
   "source": [
    "df = dados[(2010 <= dados.year) & (dados.year <= 2018) & (dados.cs_sexo != 'I')]"
   ]
  },
  {
   "cell_type": "code",
   "execution_count": null,
   "metadata": {
    "scrolled": true
   },
   "outputs": [],
   "source": [
    "df.head()"
   ]
  },
  {
   "cell_type": "code",
   "execution_count": null,
   "metadata": {},
   "outputs": [],
   "source": [
    "df = df.astype(int)"
   ]
  },
  {
   "cell_type": "code",
   "execution_count": null,
   "metadata": {},
   "outputs": [],
   "source": [
    "key = df.agg('{0[codmunres]}{0[cs_sexo]}{0[cs_raca]}{0[faixa]}'.format, axis=1)\n",
    "df['key'] = key"
   ]
  },
  {
   "cell_type": "code",
   "execution_count": null,
   "metadata": {},
   "outputs": [],
   "source": [
    "df.head()"
   ]
  },
  {
   "cell_type": "code",
   "execution_count": null,
   "metadata": {},
   "outputs": [],
   "source": [
    "pop.head()"
   ]
  },
  {
   "cell_type": "code",
   "execution_count": null,
   "metadata": {
    "scrolled": true
   },
   "outputs": [],
   "source": [
    "pop['codmun'] = pop['codmun'].astype(str).str[:-1].astype(np.int64)\n",
    "pop.head()"
   ]
  },
  {
   "cell_type": "code",
   "execution_count": null,
   "metadata": {},
   "outputs": [],
   "source": [
    "y = pop.agg('{0[codmun]}{0[Sexo]}{0[cor]}{0[Idade]}'.format, axis=1)"
   ]
  },
  {
   "cell_type": "code",
   "execution_count": null,
   "metadata": {},
   "outputs": [],
   "source": [
    "pop['key1'] = y"
   ]
  },
  {
   "cell_type": "code",
   "execution_count": null,
   "metadata": {
    "scrolled": true
   },
   "outputs": [],
   "source": [
    "pop"
   ]
  },
  {
   "cell_type": "code",
   "execution_count": null,
   "metadata": {
    "scrolled": true
   },
   "outputs": [],
   "source": [
    "df.year.unique()"
   ]
  },
  {
   "cell_type": "code",
   "execution_count": null,
   "metadata": {},
   "outputs": [],
   "source": [
    "pop = pop.drop(columns=['Unnamed: 0'])"
   ]
  },
  {
   "cell_type": "code",
   "execution_count": null,
   "metadata": {},
   "outputs": [],
   "source": [
    "data_year = []\n",
    "lst = [2015, 2010, 2011, 2012, 2013, 2014, 2017, 2018, 2016, 2009]\n",
    "for value in lst:\n",
    "    data = df[df['year'] == value]\n",
    "    data_year.append(data)"
   ]
  },
  {
   "cell_type": "markdown",
   "metadata": {},
   "source": [
    "# Table of number of cases per gender, race, age-group and year in Brazil"
   ]
  },
  {
   "cell_type": "code",
   "execution_count": null,
   "metadata": {},
   "outputs": [],
   "source": [
    "teste = df.groupby(['cs_sexo','cs_raca','faixa','year'])['count'].sum().reset_index()\n",
    "teste.head()"
   ]
  },
  {
   "cell_type": "code",
   "execution_count": null,
   "metadata": {},
   "outputs": [],
   "source": [
    "table1 = pd.pivot_table(teste, values='count', index=['cs_sexo','cs_raca','faixa'], columns=['year'])"
   ]
  },
  {
   "cell_type": "code",
   "execution_count": null,
   "metadata": {},
   "outputs": [],
   "source": [
    "table1.to_excel('table1.xls')"
   ]
  },
  {
   "cell_type": "markdown",
   "metadata": {},
   "source": [
    "# Table with population per gender, race, age-group and year in Brazil"
   ]
  },
  {
   "cell_type": "code",
   "execution_count": null,
   "metadata": {},
   "outputs": [],
   "source": [
    "teste2 = pop.groupby(['Sexo','cor','Idade'])['Total'].sum().reset_index()"
   ]
  },
  {
   "cell_type": "code",
   "execution_count": null,
   "metadata": {},
   "outputs": [],
   "source": [
    "teste2.to_excel('table2.xls')"
   ]
  },
  {
   "cell_type": "code",
   "execution_count": null,
   "metadata": {},
   "outputs": [],
   "source": []
  },
  {
   "cell_type": "code",
   "execution_count": null,
   "metadata": {},
   "outputs": [],
   "source": [
    "def filter_data(dataframe,value_year,value_gender,value_race):\n",
    "    data = dataframe[(dataframe.year == value_year) &(dataframe.cs_sexo == value_gender) & (dataframe.cs_raca==value_race)]\n",
    "    return data"
   ]
  },
  {
   "cell_type": "code",
   "execution_count": null,
   "metadata": {},
   "outputs": [],
   "source": [
    "data_female_white_2010 = filter_data(df,2010,'1',1)"
   ]
  },
  {
   "cell_type": "code",
   "execution_count": null,
   "metadata": {},
   "outputs": [],
   "source": [
    "data_female_white_2010.head()"
   ]
  },
  {
   "cell_type": "code",
   "execution_count": null,
   "metadata": {},
   "outputs": [],
   "source": []
  },
  {
   "cell_type": "code",
   "execution_count": null,
   "metadata": {},
   "outputs": [],
   "source": [
    "data_female_white_2010.groupby(['year','faixa'])['count'].sum().reset_index()"
   ]
  },
  {
   "cell_type": "code",
   "execution_count": null,
   "metadata": {},
   "outputs": [],
   "source": []
  },
  {
   "cell_type": "code",
   "execution_count": null,
   "metadata": {},
   "outputs": [],
   "source": []
  },
  {
   "cell_type": "code",
   "execution_count": null,
   "metadata": {},
   "outputs": [],
   "source": []
  },
  {
   "cell_type": "code",
   "execution_count": null,
   "metadata": {},
   "outputs": [],
   "source": []
  },
  {
   "cell_type": "code",
   "execution_count": null,
   "metadata": {},
   "outputs": [],
   "source": []
  },
  {
   "cell_type": "code",
   "execution_count": null,
   "metadata": {},
   "outputs": [],
   "source": []
  },
  {
   "cell_type": "code",
   "execution_count": null,
   "metadata": {},
   "outputs": [],
   "source": []
  },
  {
   "cell_type": "code",
   "execution_count": null,
   "metadata": {},
   "outputs": [],
   "source": []
  },
  {
   "cell_type": "code",
   "execution_count": null,
   "metadata": {},
   "outputs": [],
   "source": [
    "result = []\n",
    "for data in data_year:\n",
    "    df1 =pop.set_index('key1').join(data.set_index('key')) \n",
    "    result.append(df1)"
   ]
  },
  {
   "cell_type": "code",
   "execution_count": null,
   "metadata": {
    "scrolled": false
   },
   "outputs": [],
   "source": [
    "result[0]"
   ]
  },
  {
   "cell_type": "code",
   "execution_count": null,
   "metadata": {},
   "outputs": [],
   "source": [
    "result[0].cs_raca.unique()\n",
    "result[0].cor.unique()"
   ]
  },
  {
   "cell_type": "code",
   "execution_count": null,
   "metadata": {},
   "outputs": [],
   "source": [
    "result[0][result[0].cs_raca ==1]"
   ]
  },
  {
   "cell_type": "markdown",
   "metadata": {},
   "source": [
    "cs_sexo -> 'F'= 1\n",
    "cs_sexo -> 'M'= 2\n",
    "\n",
    "cs_raca -> 1- branca\n",
    "           2- preta\n",
    "           3- amarela\n",
    "           4- parda\n",
    "           5- indígena\n",
    "           9 Ignorado\n",
    "           \n",
    "           \n",
    "cor -> Branca- 1\n",
    "        Preta- 2 \n",
    "        Amarela- 3\n",
    "        Parda- 4 \n",
    "        Indigena- 5 \n",
    "        Sem declaraçao- 9\n",
    "                  \n",
    "Sexo -> 'Mulheres' = 1\n",
    "        'Homens' = 2 \n",
    "       \n",
    "Idade -> '0 a 4 anos': 4, \n",
    "         '5 a 9 anos': 509,\n",
    "         '10 a 14 anos': 1014,\n",
    "         '15 a 19 anos': 1519,\n",
    "         '20 a 24 anos': 2024, \n",
    "         '25 a 29 anos': 2529, \n",
    "         '30 a 34 anos': 3034, \n",
    "         '35 a 39 anos': 3539,\n",
    "         '40 a 44 anos': 4044, \n",
    "         '45 a 49 anos': 4549,\n",
    "         '50 a 54 anos': 5054, \n",
    "         '55 a 59 anos': 5559,\n",
    "         '60 a 64 anos': 6064, \n",
    "         '65 a 69 anos': 6569, \n",
    "         '70 a 74 anos': 7074, \n",
    "         '75 a 79 anos': 7579,\n",
    "         '80 a 89 anos': 8099, \n",
    "         '90 a 99 anos': 8099 "
   ]
  }
 ],
 "metadata": {
  "kernelspec": {
   "display_name": "Python 3",
   "language": "python",
   "name": "python3"
  },
  "language_info": {
   "codemirror_mode": {
    "name": "ipython",
    "version": 3
   },
   "file_extension": ".py",
   "mimetype": "text/x-python",
   "name": "python",
   "nbconvert_exporter": "python",
   "pygments_lexer": "ipython3",
   "version": "3.8.5"
  }
 },
 "nbformat": 4,
 "nbformat_minor": 2
}
