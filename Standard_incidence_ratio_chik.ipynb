{
 "cells": [
  {
   "cell_type": "code",
   "execution_count": 1,
   "metadata": {},
   "outputs": [],
   "source": [
    "import pandas as pd\n",
    "from pandas import DataFrame\n",
    "import numpy as np\n",
    "import datetime\n",
    "from datetime import datetime, timedelta\n",
    "#import plotly.graph_objs as go\n",
    "import matplotlib.pyplot as plt\n",
    "import csv\n",
    "import seaborn as sns\n",
    "%matplotlib inline\n",
    "sns.set()\n",
    "from PIL import Image"
   ]
  },
  {
   "cell_type": "markdown",
   "metadata": {},
   "source": [
    "# chik dataset:"
   ]
  },
  {
   "cell_type": "code",
   "execution_count": 2,
   "metadata": {},
   "outputs": [
    {
     "data": {
      "text/plain": [
       "['/media/juliane_oliveira/My Passport/Datalake/SINAN/Chikungunya/chik/CHIKNET 2014_16.02.2018.csv',\n",
       " '/media/juliane_oliveira/My Passport/Datalake/SINAN/Chikungunya/chik/CHIKNET 2015_04.05.2018.csv',\n",
       " '/media/juliane_oliveira/My Passport/Datalake/SINAN/Chikungunya/chik/CHIKON 2016_16.10.2018.csv',\n",
       " '/media/juliane_oliveira/My Passport/Datalake/SINAN/Chikungunya/chik/CHIKON 2017_18.07.2018.csv',\n",
       " '/media/juliane_oliveira/My Passport/Datalake/SINAN/Chikungunya/chik/CHIKON 2018_15.10.2018.csv']"
      ]
     },
     "execution_count": 2,
     "metadata": {},
     "output_type": "execute_result"
    }
   ],
   "source": [
    "import sys\n",
    "import glob\n",
    "\n",
    "path = r'/media/juliane_oliveira/My Passport/Datalake/SINAN/Chikungunya/chik'\n",
    "filenames = glob.glob(path + \"/*.csv\")\n",
    "filenames"
   ]
  },
  {
   "cell_type": "code",
   "execution_count": 3,
   "metadata": {},
   "outputs": [
    {
     "name": "stdout",
     "output_type": "stream",
     "text": [
      "/media/juliane_oliveira/My Passport/Datalake/SINAN/Chikungunya/chik/CHIKNET 2014_16.02.2018.csv\n",
      "/media/juliane_oliveira/My Passport/Datalake/SINAN/Chikungunya/chik/CHIKNET 2015_04.05.2018.csv\n",
      "/media/juliane_oliveira/My Passport/Datalake/SINAN/Chikungunya/chik/CHIKON 2016_16.10.2018.csv\n",
      "/media/juliane_oliveira/My Passport/Datalake/SINAN/Chikungunya/chik/CHIKON 2017_18.07.2018.csv\n",
      "/media/juliane_oliveira/My Passport/Datalake/SINAN/Chikungunya/chik/CHIKON 2018_15.10.2018.csv\n"
     ]
    }
   ],
   "source": [
    "lst_df = []\n",
    "for f in filenames:\n",
    "    print(f)\n",
    "    df = pd.read_csv(f, low_memory = False, encoding=\"iso-8859-1\")                    \n",
    "    lst_df.append(df)"
   ]
  },
  {
   "cell_type": "code",
   "execution_count": 4,
   "metadata": {},
   "outputs": [],
   "source": [
    "df = pd.concat(lst_df,sort=True)"
   ]
  },
  {
   "cell_type": "code",
   "execution_count": 5,
   "metadata": {
    "scrolled": true
   },
   "outputs": [
    {
     "data": {
      "text/plain": [
       "Index(['acido_pept', 'alrm_abdom', 'alrm_hemat', 'alrm_hepat', 'alrm_hipot',\n",
       "       'alrm_letar', 'alrm_liq', 'alrm_plaq', 'alrm_sang', 'alrm_vom',\n",
       "       ...\n",
       "       'sg_uf_not', 'sorotipo', 'soundex', 'tel_hosp', 'tp_not', 'tp_sistema',\n",
       "       'tpautocto', 'tpuninot', 'uf', 'vomito'],\n",
       "      dtype='object', length=160)"
      ]
     },
     "execution_count": 5,
     "metadata": {},
     "output_type": "execute_result"
    }
   ],
   "source": [
    "df.columns"
   ]
  },
  {
   "cell_type": "markdown",
   "metadata": {},
   "source": [
    "## We will create year and month from  variable 'dt_notific' in order to use in our work. (see dengue_case_file for the problematic relating to the variable tp extract the week)"
   ]
  },
  {
   "cell_type": "code",
   "execution_count": 5,
   "metadata": {},
   "outputs": [],
   "source": [
    "df['Mycol'] =  df['dt_notific'].apply(pd.to_datetime)"
   ]
  },
  {
   "cell_type": "code",
   "execution_count": 6,
   "metadata": {},
   "outputs": [],
   "source": [
    "df['year'] = pd.DatetimeIndex(df['Mycol']).year\n",
    "df['month'] = pd.DatetimeIndex(df['Mycol']).month"
   ]
  },
  {
   "cell_type": "code",
   "execution_count": 7,
   "metadata": {},
   "outputs": [
    {
     "data": {
      "text/plain": [
       "2016.0    316564\n",
       "2017.0    248719\n",
       "2018.0    102231\n",
       "2015.0     53271\n",
       "2014.0      4636\n",
       "Name: year, dtype: int64"
      ]
     },
     "execution_count": 7,
     "metadata": {},
     "output_type": "execute_result"
    }
   ],
   "source": [
    "df.year.value_counts() # number of cases per year"
   ]
  },
  {
   "cell_type": "code",
   "execution_count": 8,
   "metadata": {
    "scrolled": false
   },
   "outputs": [
    {
     "data": {
      "text/plain": [
       "13.0    317158\n",
       "5.0     128100\n",
       "1.0      91668\n",
       "8.0      55944\n",
       "2.0      47172\n",
       "10.0         1\n",
       "Name: classi_fin, dtype: int64"
      ]
     },
     "execution_count": 8,
     "metadata": {},
     "output_type": "execute_result"
    }
   ],
   "source": [
    "df.classi_fin.value_counts()"
   ]
  },
  {
   "cell_type": "code",
   "execution_count": null,
   "metadata": {},
   "outputs": [],
   "source": []
  },
  {
   "cell_type": "markdown",
   "metadata": {},
   "source": [
    "# Construct the dataset of chik with the desired variables"
   ]
  },
  {
   "cell_type": "code",
   "execution_count": 9,
   "metadata": {},
   "outputs": [],
   "source": [
    "df = df[(df.classi_fin == 13)]"
   ]
  },
  {
   "cell_type": "code",
   "execution_count": 10,
   "metadata": {
    "scrolled": false
   },
   "outputs": [],
   "source": [
    "data = df.filter(['id_mn_resi','year','cs_sexo','nu_idade_n'])"
   ]
  },
  {
   "cell_type": "markdown",
   "metadata": {},
   "source": [
    "## Process to clean age group and padronize following the age category given in population from IBGE"
   ]
  },
  {
   "cell_type": "code",
   "execution_count": 12,
   "metadata": {
    "scrolled": false
   },
   "outputs": [
    {
     "data": {
      "text/plain": [
       "array([4021.0, 4050.0, 4048.0, 4045.0, 4051.0, 4032.0, 4074.0, 4036.0,\n",
       "       4039.0, 4026.0, 4049.0, 4002.0, 4054.0, 2001.0, 4035.0, 4027.0,\n",
       "       4029.0, 4055.0, 4034.0, 4022.0, 4017.0, 4072.0, 4005.0, 4059.0,\n",
       "       4069.0, 3001.0, 4063.0, 4015.0, 4040.0, 4010.0, 4044.0, 4024.0,\n",
       "       4016.0, 3004.0, 4004.0, 4031.0, 4013.0, 4065.0, 4056.0, 4053.0,\n",
       "       4087.0, 4028.0, 4052.0, 4088.0, 4033.0, 4023.0, 4058.0, 4047.0,\n",
       "       4080.0, 4079.0, 4030.0, 4042.0, 4070.0, 4041.0, 4019.0, 4011.0,\n",
       "       4020.0, 4061.0, 4057.0, 3006.0, 4075.0, 4073.0, 4094.0, 4081.0,\n",
       "       4060.0, 4046.0, 4012.0, 4018.0, 4014.0, 4043.0, 4025.0, 4071.0,\n",
       "       4066.0, 4068.0, 4062.0, 4009.0, 3009.0, 3007.0, 4089.0, 3003.0,\n",
       "       4064.0, 4001.0, 2025.0, 4038.0, 4007.0, 2009.0, 4037.0, 4008.0,\n",
       "       4078.0, 4083.0, 4086.0, 3002.0, 4096.0, 2013.0, 4076.0, 4084.0,\n",
       "       3005.0, 2020.0, 4067.0, 4006.0, 4003.0, 4092.0, '4014', '4048',\n",
       "       '4036', '4051', '4071', '4034', '4023', '4031', '4015', '4030',\n",
       "       '4011', '4025', '4028', '4035', '4029', '4012', '4047', '4022',\n",
       "       '4016', '4027', '4013', '4085', '4038', '4046', '4033', '4021',\n",
       "       '4062', '4004', '4008', '4041', '3010', '4017', '4037', '4009',\n",
       "       '4019', '4055', '4063', '4042', '4053', '4005', '4045', '4056',\n",
       "       '4039', '4032', '4077', '4003', '4018', '4059', '4049', '4052',\n",
       "       '4007', '4070', '4066', '4020', '4044', '4006', '4043', '4024',\n",
       "       '2029', '4026', '2001', '4073', '4089', '4040', '4050', '4064',\n",
       "       '4065', '3006', '4067', '4075', '4068', '4061', '4081', '4054',\n",
       "       '4010', '4058', '4001', '4074', '2022', '4057', '3001', '4002',\n",
       "       '4060', '4076', '4069', '4078', '4083', '4090', '4072', '4082',\n",
       "       '4079', '3003', '3002', '3008', '4080', '4087', '3004', '4084',\n",
       "       '4098', '4093', '4095', '2013', '2008', '4086', '4096', '4094',\n",
       "       '57', '3009', '4088', '3005', '4091', '2023', '3011', '2017',\n",
       "       '2019', '2028', '2027', '3007', '2015', '2020', '2005', '2006',\n",
       "       '2016', '1029', '4099', '2010', '4092', '4100', '2024', '2014',\n",
       "       '2002', '2018', '2011', '2007', '4101', '2009', '2030', '2004',\n",
       "       '2025', '2003', '4097', '2012', '1020', '4111', '2026', '4106',\n",
       "       '4109', '4402', '4104', '4000', '1019', '30', '2021', '4103',\n",
       "       '1000', 4085.0, 4077.0, 2005.0, 2002.0, 3008.0, 3011.0, 4082.0,\n",
       "       2003.0, 3010.0, 4098.0, 4097.0, 4090.0, 2019.0, 4095.0, 4099.0,\n",
       "       4091.0, 4103.0, 4402.0, 2015.0, 2018.0, 4093.0, 2007.0, 2008.0,\n",
       "       2024.0, 2006.0, 4401.0, 2010.0, 2027.0, 2026.0, 4100.0, 2012.0,\n",
       "       2011.0, 4102.0, 2004.0, 4105.0, 2021.0, 2022.0, 2014.0, 2023.0,\n",
       "       4521.0, 2028.0, 2016.0, 2017.0, 4405.0, 2043.0, 3044.0, 2058.0,\n",
       "       4101.0, 4403.0, 1037.0, 2053.0, 4106.0, 3048.0, 4112.0, 1035.0,\n",
       "       4115.0, 4107.0, 3021.0, 1057.0, 31.0, 4108.0, 48.0, 3055.0, 4104.0,\n",
       "       2029.0, 4117.0, 4132.0, 4000.0, 3031.0, 2030.0, 2075.0, 2032.0,\n",
       "       1066.0], dtype=object)"
      ]
     },
     "execution_count": 12,
     "metadata": {},
     "output_type": "execute_result"
    }
   ],
   "source": [
    "data.nu_idade_n.unique()"
   ]
  },
  {
   "cell_type": "code",
   "execution_count": 13,
   "metadata": {},
   "outputs": [],
   "source": [
    "vector =[]\n",
    "for value in data.nu_idade_n.astype(int).astype(str):\n",
    "    if value == '1': value = 2001\n",
    "    elif value == '2': value = 2001\n",
    "    elif value == '3': value = 3001\n",
    "    elif 4<= int(value) < 10: value = '400'+value\n",
    "    elif len(value) == 2: value = '40' + value\n",
    "    vector.extend([value])"
   ]
  },
  {
   "cell_type": "code",
   "execution_count": 14,
   "metadata": {},
   "outputs": [
    {
     "data": {
      "text/plain": [
       "array(['1000', '1019', '1020', '1029', '1035', '1037', '1057', '1066',\n",
       "       '2001', '2002', '2003', '2004', '2005', '2006', '2007', '2008',\n",
       "       '2009', '2010', '2011', '2012', '2013', '2014', '2015', '2016',\n",
       "       '2017', '2018', '2019', '2020', '2021', '2022', '2023', '2024',\n",
       "       '2025', '2026', '2027', '2028', '2029', '2030', '2032', '2043',\n",
       "       '2053', '2058', '2075', '3001', '3002', '3003', '3004', '3005',\n",
       "       '3006', '3007', '3008', '3009', '3010', '3011', '3021', '3031',\n",
       "       '3044', '3048', '3055', '4000', '4001', '4002', '4003', '4004',\n",
       "       '4005', '4006', '4007', '4008', '4009', '4010', '4011', '4012',\n",
       "       '4013', '4014', '4015', '4016', '4017', '4018', '4019', '4020',\n",
       "       '4021', '4022', '4023', '4024', '4025', '4026', '4027', '4028',\n",
       "       '4029', '4030', '4031', '4032', '4033', '4034', '4035', '4036',\n",
       "       '4037', '4038', '4039', '4040', '4041', '4042', '4043', '4044',\n",
       "       '4045', '4046', '4047', '4048', '4049', '4050', '4051', '4052',\n",
       "       '4053', '4054', '4055', '4056', '4057', '4058', '4059', '4060',\n",
       "       '4061', '4062', '4063', '4064', '4065', '4066', '4067', '4068',\n",
       "       '4069', '4070', '4071', '4072', '4073', '4074', '4075', '4076',\n",
       "       '4077', '4078', '4079', '4080', '4081', '4082', '4083', '4084',\n",
       "       '4085', '4086', '4087', '4088', '4089', '4090', '4091', '4092',\n",
       "       '4093', '4094', '4095', '4096', '4097', '4098', '4099', '4100',\n",
       "       '4101', '4102', '4103', '4104', '4105', '4106', '4107', '4108',\n",
       "       '4109', '4111', '4112', '4115', '4117', '4132', '4401', '4402',\n",
       "       '4403', '4405', '4521'], dtype='<U4')"
      ]
     },
     "execution_count": 14,
     "metadata": {},
     "output_type": "execute_result"
    }
   ],
   "source": [
    "np.unique(vector)"
   ]
  },
  {
   "cell_type": "code",
   "execution_count": 15,
   "metadata": {
    "scrolled": true
   },
   "outputs": [],
   "source": [
    "data['nu_idade_n_cor'] = vector"
   ]
  },
  {
   "cell_type": "code",
   "execution_count": 16,
   "metadata": {},
   "outputs": [
    {
     "data": {
      "text/plain": [
       "Index(['id_mn_resi', 'year', 'cs_sexo', 'nu_idade_n', 'nu_idade_n_cor'], dtype='object')"
      ]
     },
     "execution_count": 16,
     "metadata": {},
     "output_type": "execute_result"
    }
   ],
   "source": [
    "data.columns"
   ]
  },
  {
   "cell_type": "code",
   "execution_count": 28,
   "metadata": {
    "scrolled": true
   },
   "outputs": [],
   "source": [
    "#data[data['nu_idade_n']==80]"
   ]
  },
  {
   "cell_type": "markdown",
   "metadata": {},
   "source": [
    "## Categorize age group\n",
    "### 0,  101,  202,  303,  404,  505,  606,  707,  808,  909, 1010,\n",
    "###       1111, 1212, 1313, 1414, 1515, 1616, 1717, 1818, 1919, 2024, 2529,\n",
    "###       3034, 3539, 4044, 4549, 5054, 5559, 6064, 6569, 7074, 7579, 8099],"
   ]
  },
  {
   "cell_type": "code",
   "execution_count": null,
   "metadata": {},
   "outputs": [],
   "source": []
  },
  {
   "cell_type": "code",
   "execution_count": 17,
   "metadata": {},
   "outputs": [],
   "source": [
    "fx = []\n",
    "for value in data.nu_idade_n:\n",
    "    if 1000 <= int(value) <4005: faixa = '4' \n",
    "    elif 4005 <=int(value)< 4010: faixa = '509'\n",
    "    elif 4010 <=int(value)< 4015: faixa = '1014'\n",
    "    elif 4015 <=int(value)< 4020: faixa = '1519'\n",
    "    elif 4020 <=int(value)< 4025: faixa = '2024'\n",
    "    elif 4025 <=int(value)< 4030: faixa = '2529'\n",
    "    elif 4030 <=int(value)< 4035: faixa = '3034'\n",
    "    elif 4035 <=int(value)< 4040: faixa = '3539' \n",
    "    elif 4040 <=int(value)< 4045: faixa = '4044'   \n",
    "    elif 4045 <=int(value)< 4050: faixa = '4549'\n",
    "    elif 4050 <=int(value)< 4055: faixa = '5054'\n",
    "    elif 4055 <=int(value)< 4060: faixa = '5559'\n",
    "    elif 4060 <=int(value)< 4065: faixa = '6064'\n",
    "    elif 4065 <=int(value)< 4070: faixa = '6569'\n",
    "    elif 4070 <=int(value)< 4075: faixa = '7074'\n",
    "    elif 4075 <=int(value)< 4080: faixa = '7579'\n",
    "    elif 4080 <=int(value)< 8100: faixa = '8099'\n",
    "    fx.extend([faixa])             "
   ]
  },
  {
   "cell_type": "code",
   "execution_count": 18,
   "metadata": {
    "scrolled": true
   },
   "outputs": [
    {
     "data": {
      "text/html": [
       "<div>\n",
       "<style scoped>\n",
       "    .dataframe tbody tr th:only-of-type {\n",
       "        vertical-align: middle;\n",
       "    }\n",
       "\n",
       "    .dataframe tbody tr th {\n",
       "        vertical-align: top;\n",
       "    }\n",
       "\n",
       "    .dataframe thead th {\n",
       "        text-align: right;\n",
       "    }\n",
       "</style>\n",
       "<table border=\"1\" class=\"dataframe\">\n",
       "  <thead>\n",
       "    <tr style=\"text-align: right;\">\n",
       "      <th></th>\n",
       "      <th>id_mn_resi</th>\n",
       "      <th>year</th>\n",
       "      <th>cs_sexo</th>\n",
       "      <th>nu_idade_n</th>\n",
       "      <th>nu_idade_n_cor</th>\n",
       "      <th>faixa</th>\n",
       "    </tr>\n",
       "  </thead>\n",
       "  <tbody>\n",
       "    <tr>\n",
       "      <th>10</th>\n",
       "      <td>230440.0</td>\n",
       "      <td>2014.0</td>\n",
       "      <td>M</td>\n",
       "      <td>4021</td>\n",
       "      <td>4021</td>\n",
       "      <td>2024</td>\n",
       "    </tr>\n",
       "    <tr>\n",
       "      <th>2161</th>\n",
       "      <td>291080.0</td>\n",
       "      <td>2014.0</td>\n",
       "      <td>F</td>\n",
       "      <td>4050</td>\n",
       "      <td>4050</td>\n",
       "      <td>5054</td>\n",
       "    </tr>\n",
       "    <tr>\n",
       "      <th>3989</th>\n",
       "      <td>510340.0</td>\n",
       "      <td>2014.0</td>\n",
       "      <td>F</td>\n",
       "      <td>4048</td>\n",
       "      <td>4048</td>\n",
       "      <td>4549</td>\n",
       "    </tr>\n",
       "    <tr>\n",
       "      <th>4239</th>\n",
       "      <td>260510.0</td>\n",
       "      <td>2014.0</td>\n",
       "      <td>F</td>\n",
       "      <td>4045</td>\n",
       "      <td>4045</td>\n",
       "      <td>4549</td>\n",
       "    </tr>\n",
       "    <tr>\n",
       "      <th>4240</th>\n",
       "      <td>261160.0</td>\n",
       "      <td>2014.0</td>\n",
       "      <td>F</td>\n",
       "      <td>4051</td>\n",
       "      <td>4051</td>\n",
       "      <td>5054</td>\n",
       "    </tr>\n",
       "    <tr>\n",
       "      <th>...</th>\n",
       "      <td>...</td>\n",
       "      <td>...</td>\n",
       "      <td>...</td>\n",
       "      <td>...</td>\n",
       "      <td>...</td>\n",
       "      <td>...</td>\n",
       "    </tr>\n",
       "    <tr>\n",
       "      <th>102201</th>\n",
       "      <td>172100.0</td>\n",
       "      <td>2018.0</td>\n",
       "      <td>F</td>\n",
       "      <td>4007</td>\n",
       "      <td>4007</td>\n",
       "      <td>509</td>\n",
       "    </tr>\n",
       "    <tr>\n",
       "      <th>102258</th>\n",
       "      <td>172100.0</td>\n",
       "      <td>2018.0</td>\n",
       "      <td>F</td>\n",
       "      <td>4006</td>\n",
       "      <td>4006</td>\n",
       "      <td>509</td>\n",
       "    </tr>\n",
       "    <tr>\n",
       "      <th>102304</th>\n",
       "      <td>170765.0</td>\n",
       "      <td>2018.0</td>\n",
       "      <td>F</td>\n",
       "      <td>4048</td>\n",
       "      <td>4048</td>\n",
       "      <td>4549</td>\n",
       "    </tr>\n",
       "    <tr>\n",
       "      <th>102326</th>\n",
       "      <td>170770.0</td>\n",
       "      <td>2018.0</td>\n",
       "      <td>F</td>\n",
       "      <td>4046</td>\n",
       "      <td>4046</td>\n",
       "      <td>4549</td>\n",
       "    </tr>\n",
       "    <tr>\n",
       "      <th>102336</th>\n",
       "      <td>172110.0</td>\n",
       "      <td>2018.0</td>\n",
       "      <td>F</td>\n",
       "      <td>4021</td>\n",
       "      <td>4021</td>\n",
       "      <td>2024</td>\n",
       "    </tr>\n",
       "  </tbody>\n",
       "</table>\n",
       "<p>317158 rows × 6 columns</p>\n",
       "</div>"
      ],
      "text/plain": [
       "        id_mn_resi    year cs_sexo nu_idade_n nu_idade_n_cor faixa\n",
       "10        230440.0  2014.0       M       4021           4021  2024\n",
       "2161      291080.0  2014.0       F       4050           4050  5054\n",
       "3989      510340.0  2014.0       F       4048           4048  4549\n",
       "4239      260510.0  2014.0       F       4045           4045  4549\n",
       "4240      261160.0  2014.0       F       4051           4051  5054\n",
       "...            ...     ...     ...        ...            ...   ...\n",
       "102201    172100.0  2018.0       F       4007           4007   509\n",
       "102258    172100.0  2018.0       F       4006           4006   509\n",
       "102304    170765.0  2018.0       F       4048           4048  4549\n",
       "102326    170770.0  2018.0       F       4046           4046  4549\n",
       "102336    172110.0  2018.0       F       4021           4021  2024\n",
       "\n",
       "[317158 rows x 6 columns]"
      ]
     },
     "execution_count": 18,
     "metadata": {},
     "output_type": "execute_result"
    }
   ],
   "source": [
    "data['faixa'] = fx\n",
    "data"
   ]
  },
  {
   "cell_type": "code",
   "execution_count": 19,
   "metadata": {
    "scrolled": true
   },
   "outputs": [
    {
     "data": {
      "text/plain": [
       "F    197689\n",
       "M    119247\n",
       "I       222\n",
       "Name: cs_sexo, dtype: int64"
      ]
     },
     "execution_count": 19,
     "metadata": {},
     "output_type": "execute_result"
    }
   ],
   "source": [
    "data.cs_sexo.value_counts()"
   ]
  },
  {
   "cell_type": "code",
   "execution_count": 20,
   "metadata": {},
   "outputs": [],
   "source": [
    "data['count'] = 1"
   ]
  },
  {
   "cell_type": "code",
   "execution_count": 21,
   "metadata": {},
   "outputs": [],
   "source": [
    "data= data.rename(columns={\"id_mn_resi\": \"codmunres\"})"
   ]
  },
  {
   "cell_type": "code",
   "execution_count": 22,
   "metadata": {},
   "outputs": [],
   "source": [
    "dados = data.groupby(['codmunres','year','cs_sexo','faixa'])['count'].sum().reset_index()"
   ]
  },
  {
   "cell_type": "code",
   "execution_count": 23,
   "metadata": {},
   "outputs": [],
   "source": [
    "dados.cs_sexo = dados.cs_sexo.replace('F', 1)\n",
    "dados.cs_sexo= dados.cs_sexo.replace('M', 2)"
   ]
  },
  {
   "cell_type": "code",
   "execution_count": 24,
   "metadata": {
    "scrolled": false
   },
   "outputs": [
    {
     "data": {
      "text/html": [
       "<div>\n",
       "<style scoped>\n",
       "    .dataframe tbody tr th:only-of-type {\n",
       "        vertical-align: middle;\n",
       "    }\n",
       "\n",
       "    .dataframe tbody tr th {\n",
       "        vertical-align: top;\n",
       "    }\n",
       "\n",
       "    .dataframe thead th {\n",
       "        text-align: right;\n",
       "    }\n",
       "</style>\n",
       "<table border=\"1\" class=\"dataframe\">\n",
       "  <thead>\n",
       "    <tr style=\"text-align: right;\">\n",
       "      <th></th>\n",
       "      <th>codmunres</th>\n",
       "      <th>year</th>\n",
       "      <th>cs_sexo</th>\n",
       "      <th>faixa</th>\n",
       "      <th>count</th>\n",
       "    </tr>\n",
       "  </thead>\n",
       "  <tbody>\n",
       "    <tr>\n",
       "      <th>0</th>\n",
       "      <td>110002.0</td>\n",
       "      <td>2017.0</td>\n",
       "      <td>1</td>\n",
       "      <td>4</td>\n",
       "      <td>2</td>\n",
       "    </tr>\n",
       "    <tr>\n",
       "      <th>1</th>\n",
       "      <td>110002.0</td>\n",
       "      <td>2017.0</td>\n",
       "      <td>1</td>\n",
       "      <td>4549</td>\n",
       "      <td>1</td>\n",
       "    </tr>\n",
       "    <tr>\n",
       "      <th>2</th>\n",
       "      <td>110002.0</td>\n",
       "      <td>2017.0</td>\n",
       "      <td>2</td>\n",
       "      <td>7579</td>\n",
       "      <td>1</td>\n",
       "    </tr>\n",
       "    <tr>\n",
       "      <th>3</th>\n",
       "      <td>110002.0</td>\n",
       "      <td>2018.0</td>\n",
       "      <td>1</td>\n",
       "      <td>1519</td>\n",
       "      <td>1</td>\n",
       "    </tr>\n",
       "    <tr>\n",
       "      <th>4</th>\n",
       "      <td>110002.0</td>\n",
       "      <td>2018.0</td>\n",
       "      <td>1</td>\n",
       "      <td>2529</td>\n",
       "      <td>1</td>\n",
       "    </tr>\n",
       "  </tbody>\n",
       "</table>\n",
       "</div>"
      ],
      "text/plain": [
       "   codmunres    year cs_sexo faixa  count\n",
       "0   110002.0  2017.0       1     4      2\n",
       "1   110002.0  2017.0       1  4549      1\n",
       "2   110002.0  2017.0       2  7579      1\n",
       "3   110002.0  2018.0       1  1519      1\n",
       "4   110002.0  2018.0       1  2529      1"
      ]
     },
     "execution_count": 24,
     "metadata": {},
     "output_type": "execute_result"
    }
   ],
   "source": [
    "dados.head()"
   ]
  },
  {
   "cell_type": "code",
   "execution_count": 25,
   "metadata": {
    "scrolled": false
   },
   "outputs": [
    {
     "data": {
      "text/plain": [
       "year\n",
       "2014.0        10\n",
       "2015.0       670\n",
       "2016.0     89530\n",
       "2017.0    166344\n",
       "2018.0     60587\n",
       "Name: count, dtype: int64"
      ]
     },
     "execution_count": 25,
     "metadata": {},
     "output_type": "execute_result"
    }
   ],
   "source": [
    "dados.groupby(['year'])['count'].sum()"
   ]
  },
  {
   "cell_type": "code",
   "execution_count": 26,
   "metadata": {},
   "outputs": [
    {
     "data": {
      "text/plain": [
       "2017.0    166345\n",
       "2016.0     89531\n",
       "2018.0     60587\n",
       "2015.0       670\n",
       "2014.0        10\n",
       "Name: year, dtype: int64"
      ]
     },
     "execution_count": 26,
     "metadata": {},
     "output_type": "execute_result"
    }
   ],
   "source": [
    "df.year.value_counts()"
   ]
  },
  {
   "cell_type": "markdown",
   "metadata": {},
   "source": [
    "# Population"
   ]
  },
  {
   "cell_type": "code",
   "execution_count": 23,
   "metadata": {},
   "outputs": [],
   "source": [
    "#pop = pd.read_csv('G:\\Datalake\\POPULACAO\\csv\\POPBR12.csv')   #'G:\\Datalake\\POPULACAO\\pop_race_sex_age.csv')"
   ]
  },
  {
   "cell_type": "code",
   "execution_count": 27,
   "metadata": {},
   "outputs": [],
   "source": [
    "pop = pd.read_csv('/media/juliane_oliveira/My Passport/Datalake/POPULACAO/estimativas_pop_sex_age_muni_cidacs/pop_2000_2017_SFA.csv')\n",
    "pop = pop.drop(columns=['Unnamed: 0'])"
   ]
  },
  {
   "cell_type": "code",
   "execution_count": 28,
   "metadata": {},
   "outputs": [
    {
     "data": {
      "text/plain": [
       "Index(['MUNIC_RES', 'ANO', 'SEXO', 'FXETARIA', 'POPULACAO'], dtype='object')"
      ]
     },
     "execution_count": 28,
     "metadata": {},
     "output_type": "execute_result"
    }
   ],
   "source": [
    "pop.columns"
   ]
  },
  {
   "cell_type": "code",
   "execution_count": 29,
   "metadata": {},
   "outputs": [
    {
     "data": {
      "text/plain": [
       "array([   0,  101,  202,  303,  404,  505,  606,  707,  808,  909, 1010,\n",
       "       1111, 1212, 1313, 1414, 1515, 1616, 1717, 1818, 1919, 2024, 2529,\n",
       "       3034, 3539, 4044, 4549, 5054, 5559, 6064, 6569, 7074, 7579, 8099])"
      ]
     },
     "execution_count": 29,
     "metadata": {},
     "output_type": "execute_result"
    }
   ],
   "source": [
    "pop.FXETARIA.unique()"
   ]
  },
  {
   "cell_type": "code",
   "execution_count": 30,
   "metadata": {},
   "outputs": [],
   "source": [
    "pop = pop.replace({'FXETARIA': {0: 4, 101:4, 202:4,  303:4,  404:4,\n",
    "                                505: 509, 606: 509,  707: 509,  808: 509,  909: 509,\n",
    "                                1010: 1014, 1111: 1014, 1212: 1014, 1313: 1014, 1414: 1014,\n",
    "                                1515: 1519, 1616: 1519, 1717: 1519, 1818: 1519, 1919: 1519}})"
   ]
  },
  {
   "cell_type": "code",
   "execution_count": 31,
   "metadata": {},
   "outputs": [
    {
     "data": {
      "text/html": [
       "<div>\n",
       "<style scoped>\n",
       "    .dataframe tbody tr th:only-of-type {\n",
       "        vertical-align: middle;\n",
       "    }\n",
       "\n",
       "    .dataframe tbody tr th {\n",
       "        vertical-align: top;\n",
       "    }\n",
       "\n",
       "    .dataframe thead th {\n",
       "        text-align: right;\n",
       "    }\n",
       "</style>\n",
       "<table border=\"1\" class=\"dataframe\">\n",
       "  <thead>\n",
       "    <tr style=\"text-align: right;\">\n",
       "      <th></th>\n",
       "      <th>MUNIC_RES</th>\n",
       "      <th>ANO</th>\n",
       "      <th>SEXO</th>\n",
       "      <th>FXETARIA</th>\n",
       "      <th>POPULACAO</th>\n",
       "    </tr>\n",
       "  </thead>\n",
       "  <tbody>\n",
       "    <tr>\n",
       "      <th>0</th>\n",
       "      <td>110001</td>\n",
       "      <td>2000</td>\n",
       "      <td>1</td>\n",
       "      <td>4</td>\n",
       "      <td>118</td>\n",
       "    </tr>\n",
       "    <tr>\n",
       "      <th>1</th>\n",
       "      <td>110001</td>\n",
       "      <td>2000</td>\n",
       "      <td>1</td>\n",
       "      <td>4</td>\n",
       "      <td>110</td>\n",
       "    </tr>\n",
       "    <tr>\n",
       "      <th>2</th>\n",
       "      <td>110001</td>\n",
       "      <td>2000</td>\n",
       "      <td>1</td>\n",
       "      <td>4</td>\n",
       "      <td>127</td>\n",
       "    </tr>\n",
       "    <tr>\n",
       "      <th>3</th>\n",
       "      <td>110001</td>\n",
       "      <td>2000</td>\n",
       "      <td>1</td>\n",
       "      <td>4</td>\n",
       "      <td>149</td>\n",
       "    </tr>\n",
       "    <tr>\n",
       "      <th>4</th>\n",
       "      <td>110001</td>\n",
       "      <td>2000</td>\n",
       "      <td>1</td>\n",
       "      <td>4</td>\n",
       "      <td>140</td>\n",
       "    </tr>\n",
       "  </tbody>\n",
       "</table>\n",
       "</div>"
      ],
      "text/plain": [
       "   MUNIC_RES   ANO  SEXO  FXETARIA  POPULACAO\n",
       "0     110001  2000     1         4        118\n",
       "1     110001  2000     1         4        110\n",
       "2     110001  2000     1         4        127\n",
       "3     110001  2000     1         4        149\n",
       "4     110001  2000     1         4        140"
      ]
     },
     "execution_count": 31,
     "metadata": {},
     "output_type": "execute_result"
    }
   ],
   "source": [
    "pop.head()"
   ]
  },
  {
   "cell_type": "markdown",
   "metadata": {},
   "source": [
    "# Creating tables to map the standard incidence ratio of chik per year"
   ]
  },
  {
   "cell_type": "markdown",
   "metadata": {},
   "source": [
    "## expected number of cases per year and cummulated"
   ]
  },
  {
   "cell_type": "code",
   "execution_count": 32,
   "metadata": {},
   "outputs": [],
   "source": [
    "teste = dados"
   ]
  },
  {
   "cell_type": "code",
   "execution_count": 33,
   "metadata": {},
   "outputs": [],
   "source": [
    "teste = teste[(2014 <= teste.year) & (teste.year <= 2018) & (teste.cs_sexo != 'f')&(teste.cs_sexo != 'I')]"
   ]
  },
  {
   "cell_type": "code",
   "execution_count": 34,
   "metadata": {},
   "outputs": [
    {
     "data": {
      "text/plain": [
       "array([1, 2], dtype=object)"
      ]
     },
     "execution_count": 34,
     "metadata": {},
     "output_type": "execute_result"
    }
   ],
   "source": [
    "teste.cs_sexo.unique()"
   ]
  },
  {
   "cell_type": "code",
   "execution_count": 35,
   "metadata": {
    "scrolled": true
   },
   "outputs": [
    {
     "data": {
      "text/plain": [
       "array([2017., 2018., 2016., 2015., 2014.])"
      ]
     },
     "execution_count": 35,
     "metadata": {},
     "output_type": "execute_result"
    }
   ],
   "source": [
    "teste.year.unique()"
   ]
  },
  {
   "cell_type": "code",
   "execution_count": 36,
   "metadata": {
    "scrolled": false
   },
   "outputs": [
    {
     "name": "stderr",
     "output_type": "stream",
     "text": [
      "/home/juliane_oliveira/anaconda3/lib/python3.6/site-packages/ipykernel_launcher.py:1: SettingWithCopyWarning: \n",
      "A value is trying to be set on a copy of a slice from a DataFrame.\n",
      "Try using .loc[row_indexer,col_indexer] = value instead\n",
      "\n",
      "See the caveats in the documentation: http://pandas.pydata.org/pandas-docs/stable/user_guide/indexing.html#returning-a-view-versus-a-copy\n",
      "  \"\"\"Entry point for launching an IPython kernel.\n"
     ]
    }
   ],
   "source": [
    "teste['faixa'] = teste['faixa'].astype(int)"
   ]
  },
  {
   "cell_type": "code",
   "execution_count": 37,
   "metadata": {},
   "outputs": [
    {
     "name": "stdout",
     "output_type": "stream",
     "text": [
      "<class 'pandas.core.frame.DataFrame'>\n",
      "Int64Index: 28237 entries, 0 to 28417\n",
      "Data columns (total 5 columns):\n",
      "codmunres    28237 non-null float64\n",
      "year         28237 non-null float64\n",
      "cs_sexo      28237 non-null object\n",
      "faixa        28237 non-null int64\n",
      "count        28237 non-null int64\n",
      "dtypes: float64(2), int64(2), object(1)\n",
      "memory usage: 1.3+ MB\n"
     ]
    }
   ],
   "source": [
    "teste.info()"
   ]
  },
  {
   "cell_type": "code",
   "execution_count": null,
   "metadata": {},
   "outputs": [],
   "source": []
  },
  {
   "cell_type": "code",
   "execution_count": 38,
   "metadata": {},
   "outputs": [],
   "source": [
    "sum_observed_gender_age_year = []\n",
    "for year in [2014,2015,2016,2017,2018]:\n",
    "    df_year = teste[teste.year == year]\n",
    "    table_year = pd.pivot_table(df_year, values='count', index=['codmunres'], columns=['cs_sexo','faixa'])\n",
    "    table_year=table_year.fillna(0)\n",
    "    resulted_dataframe = table_year.sum().reset_index()\n",
    "    sum_observed_gender_age_year.append(resulted_dataframe)"
   ]
  },
  {
   "cell_type": "code",
   "execution_count": 40,
   "metadata": {
    "scrolled": false
   },
   "outputs": [
    {
     "data": {
      "text/html": [
       "<div>\n",
       "<style scoped>\n",
       "    .dataframe tbody tr th:only-of-type {\n",
       "        vertical-align: middle;\n",
       "    }\n",
       "\n",
       "    .dataframe tbody tr th {\n",
       "        vertical-align: top;\n",
       "    }\n",
       "\n",
       "    .dataframe thead th {\n",
       "        text-align: right;\n",
       "    }\n",
       "</style>\n",
       "<table border=\"1\" class=\"dataframe\">\n",
       "  <thead>\n",
       "    <tr style=\"text-align: right;\">\n",
       "      <th></th>\n",
       "      <th>cs_sexo</th>\n",
       "      <th>faixa</th>\n",
       "      <th>0</th>\n",
       "    </tr>\n",
       "  </thead>\n",
       "  <tbody>\n",
       "    <tr>\n",
       "      <th>0</th>\n",
       "      <td>1</td>\n",
       "      <td>2529</td>\n",
       "      <td>1.0</td>\n",
       "    </tr>\n",
       "    <tr>\n",
       "      <th>1</th>\n",
       "      <td>1</td>\n",
       "      <td>3539</td>\n",
       "      <td>2.0</td>\n",
       "    </tr>\n",
       "    <tr>\n",
       "      <th>2</th>\n",
       "      <td>1</td>\n",
       "      <td>4549</td>\n",
       "      <td>2.0</td>\n",
       "    </tr>\n",
       "    <tr>\n",
       "      <th>3</th>\n",
       "      <td>1</td>\n",
       "      <td>5054</td>\n",
       "      <td>2.0</td>\n",
       "    </tr>\n",
       "    <tr>\n",
       "      <th>4</th>\n",
       "      <td>1</td>\n",
       "      <td>7074</td>\n",
       "      <td>1.0</td>\n",
       "    </tr>\n",
       "    <tr>\n",
       "      <th>5</th>\n",
       "      <td>2</td>\n",
       "      <td>2024</td>\n",
       "      <td>1.0</td>\n",
       "    </tr>\n",
       "    <tr>\n",
       "      <th>6</th>\n",
       "      <td>2</td>\n",
       "      <td>3034</td>\n",
       "      <td>1.0</td>\n",
       "    </tr>\n",
       "  </tbody>\n",
       "</table>\n",
       "</div>"
      ],
      "text/plain": [
       "   cs_sexo  faixa    0\n",
       "0        1   2529  1.0\n",
       "1        1   3539  2.0\n",
       "2        1   4549  2.0\n",
       "3        1   5054  2.0\n",
       "4        1   7074  1.0\n",
       "5        2   2024  1.0\n",
       "6        2   3034  1.0"
      ]
     },
     "execution_count": 40,
     "metadata": {},
     "output_type": "execute_result"
    }
   ],
   "source": [
    "sum_observed_gender_age_year[0]"
   ]
  },
  {
   "cell_type": "code",
   "execution_count": 41,
   "metadata": {
    "scrolled": true
   },
   "outputs": [
    {
     "data": {
      "text/html": [
       "<div>\n",
       "<style scoped>\n",
       "    .dataframe tbody tr th:only-of-type {\n",
       "        vertical-align: middle;\n",
       "    }\n",
       "\n",
       "    .dataframe tbody tr th {\n",
       "        vertical-align: top;\n",
       "    }\n",
       "\n",
       "    .dataframe thead th {\n",
       "        text-align: right;\n",
       "    }\n",
       "</style>\n",
       "<table border=\"1\" class=\"dataframe\">\n",
       "  <thead>\n",
       "    <tr style=\"text-align: right;\">\n",
       "      <th></th>\n",
       "      <th>MUNIC_RES</th>\n",
       "      <th>ANO</th>\n",
       "      <th>SEXO</th>\n",
       "      <th>FXETARIA</th>\n",
       "      <th>POPULACAO</th>\n",
       "    </tr>\n",
       "  </thead>\n",
       "  <tbody>\n",
       "    <tr>\n",
       "      <th>0</th>\n",
       "      <td>110001</td>\n",
       "      <td>2000</td>\n",
       "      <td>1</td>\n",
       "      <td>4</td>\n",
       "      <td>118</td>\n",
       "    </tr>\n",
       "    <tr>\n",
       "      <th>1</th>\n",
       "      <td>110001</td>\n",
       "      <td>2000</td>\n",
       "      <td>1</td>\n",
       "      <td>4</td>\n",
       "      <td>110</td>\n",
       "    </tr>\n",
       "    <tr>\n",
       "      <th>2</th>\n",
       "      <td>110001</td>\n",
       "      <td>2000</td>\n",
       "      <td>1</td>\n",
       "      <td>4</td>\n",
       "      <td>127</td>\n",
       "    </tr>\n",
       "    <tr>\n",
       "      <th>3</th>\n",
       "      <td>110001</td>\n",
       "      <td>2000</td>\n",
       "      <td>1</td>\n",
       "      <td>4</td>\n",
       "      <td>149</td>\n",
       "    </tr>\n",
       "    <tr>\n",
       "      <th>4</th>\n",
       "      <td>110001</td>\n",
       "      <td>2000</td>\n",
       "      <td>1</td>\n",
       "      <td>4</td>\n",
       "      <td>140</td>\n",
       "    </tr>\n",
       "  </tbody>\n",
       "</table>\n",
       "</div>"
      ],
      "text/plain": [
       "   MUNIC_RES   ANO  SEXO  FXETARIA  POPULACAO\n",
       "0     110001  2000     1         4        118\n",
       "1     110001  2000     1         4        110\n",
       "2     110001  2000     1         4        127\n",
       "3     110001  2000     1         4        149\n",
       "4     110001  2000     1         4        140"
      ]
     },
     "execution_count": 41,
     "metadata": {},
     "output_type": "execute_result"
    }
   ],
   "source": [
    "pop.head()"
   ]
  },
  {
   "cell_type": "markdown",
   "metadata": {},
   "source": [
    "# Population "
   ]
  },
  {
   "cell_type": "code",
   "execution_count": 42,
   "metadata": {},
   "outputs": [],
   "source": [
    "pop = pop.astype(int)"
   ]
  },
  {
   "cell_type": "code",
   "execution_count": 43,
   "metadata": {
    "scrolled": true
   },
   "outputs": [
    {
     "data": {
      "text/html": [
       "<div>\n",
       "<style scoped>\n",
       "    .dataframe tbody tr th:only-of-type {\n",
       "        vertical-align: middle;\n",
       "    }\n",
       "\n",
       "    .dataframe tbody tr th {\n",
       "        vertical-align: top;\n",
       "    }\n",
       "\n",
       "    .dataframe thead th {\n",
       "        text-align: right;\n",
       "    }\n",
       "</style>\n",
       "<table border=\"1\" class=\"dataframe\">\n",
       "  <thead>\n",
       "    <tr style=\"text-align: right;\">\n",
       "      <th></th>\n",
       "      <th>MUNIC_RES</th>\n",
       "      <th>ANO</th>\n",
       "      <th>SEXO</th>\n",
       "      <th>FXETARIA</th>\n",
       "      <th>POPULACAO</th>\n",
       "    </tr>\n",
       "  </thead>\n",
       "  <tbody>\n",
       "    <tr>\n",
       "      <th>0</th>\n",
       "      <td>110001</td>\n",
       "      <td>2000</td>\n",
       "      <td>1</td>\n",
       "      <td>4</td>\n",
       "      <td>1496</td>\n",
       "    </tr>\n",
       "    <tr>\n",
       "      <th>1</th>\n",
       "      <td>110001</td>\n",
       "      <td>2000</td>\n",
       "      <td>1</td>\n",
       "      <td>509</td>\n",
       "      <td>1677</td>\n",
       "    </tr>\n",
       "    <tr>\n",
       "      <th>2</th>\n",
       "      <td>110001</td>\n",
       "      <td>2000</td>\n",
       "      <td>1</td>\n",
       "      <td>1014</td>\n",
       "      <td>1570</td>\n",
       "    </tr>\n",
       "    <tr>\n",
       "      <th>3</th>\n",
       "      <td>110001</td>\n",
       "      <td>2000</td>\n",
       "      <td>1</td>\n",
       "      <td>1519</td>\n",
       "      <td>1522</td>\n",
       "    </tr>\n",
       "    <tr>\n",
       "      <th>4</th>\n",
       "      <td>110001</td>\n",
       "      <td>2000</td>\n",
       "      <td>1</td>\n",
       "      <td>2024</td>\n",
       "      <td>1292</td>\n",
       "    </tr>\n",
       "  </tbody>\n",
       "</table>\n",
       "</div>"
      ],
      "text/plain": [
       "   MUNIC_RES   ANO  SEXO  FXETARIA  POPULACAO\n",
       "0     110001  2000     1         4       1496\n",
       "1     110001  2000     1       509       1677\n",
       "2     110001  2000     1      1014       1570\n",
       "3     110001  2000     1      1519       1522\n",
       "4     110001  2000     1      2024       1292"
      ]
     },
     "execution_count": 43,
     "metadata": {},
     "output_type": "execute_result"
    }
   ],
   "source": [
    "teste_pop = pop.groupby(['MUNIC_RES','ANO','SEXO','FXETARIA'])['POPULACAO'].sum().reset_index()\n",
    "teste_pop.head()"
   ]
  },
  {
   "cell_type": "code",
   "execution_count": 44,
   "metadata": {},
   "outputs": [],
   "source": [
    "sum_pop_gender_age_year = []\n",
    "for year in [2014,2015,2016,2017,2018]:\n",
    "    df_year = teste_pop[teste_pop.ANO == year]\n",
    "    table_year = pd.pivot_table(df_year, values='POPULACAO', index=['MUNIC_RES'], columns=['SEXO','FXETARIA'])\n",
    "    table_year=table_year.fillna(0)\n",
    "    resulted_dataframe = table_year.sum().reset_index()\n",
    "    sum_pop_gender_age_year.append(resulted_dataframe)"
   ]
  },
  {
   "cell_type": "code",
   "execution_count": 45,
   "metadata": {},
   "outputs": [
    {
     "data": {
      "text/html": [
       "<div>\n",
       "<style scoped>\n",
       "    .dataframe tbody tr th:only-of-type {\n",
       "        vertical-align: middle;\n",
       "    }\n",
       "\n",
       "    .dataframe tbody tr th {\n",
       "        vertical-align: top;\n",
       "    }\n",
       "\n",
       "    .dataframe thead th {\n",
       "        text-align: right;\n",
       "    }\n",
       "</style>\n",
       "<table border=\"1\" class=\"dataframe\">\n",
       "  <thead>\n",
       "    <tr style=\"text-align: right;\">\n",
       "      <th></th>\n",
       "      <th>SEXO</th>\n",
       "      <th>FXETARIA</th>\n",
       "      <th>0</th>\n",
       "    </tr>\n",
       "  </thead>\n",
       "  <tbody>\n",
       "    <tr>\n",
       "      <th>0</th>\n",
       "      <td>1</td>\n",
       "      <td>4</td>\n",
       "      <td>7008543</td>\n",
       "    </tr>\n",
       "    <tr>\n",
       "      <th>1</th>\n",
       "      <td>1</td>\n",
       "      <td>509</td>\n",
       "      <td>6964499</td>\n",
       "    </tr>\n",
       "    <tr>\n",
       "      <th>2</th>\n",
       "      <td>1</td>\n",
       "      <td>1014</td>\n",
       "      <td>8368109</td>\n",
       "    </tr>\n",
       "    <tr>\n",
       "      <th>3</th>\n",
       "      <td>1</td>\n",
       "      <td>1519</td>\n",
       "      <td>8512092</td>\n",
       "    </tr>\n",
       "    <tr>\n",
       "      <th>4</th>\n",
       "      <td>1</td>\n",
       "      <td>2024</td>\n",
       "      <td>8059415</td>\n",
       "    </tr>\n",
       "    <tr>\n",
       "      <th>5</th>\n",
       "      <td>1</td>\n",
       "      <td>2529</td>\n",
       "      <td>8578537</td>\n",
       "    </tr>\n",
       "    <tr>\n",
       "      <th>6</th>\n",
       "      <td>1</td>\n",
       "      <td>3034</td>\n",
       "      <td>9096835</td>\n",
       "    </tr>\n",
       "    <tr>\n",
       "      <th>7</th>\n",
       "      <td>1</td>\n",
       "      <td>3539</td>\n",
       "      <td>7882850</td>\n",
       "    </tr>\n",
       "    <tr>\n",
       "      <th>8</th>\n",
       "      <td>1</td>\n",
       "      <td>4044</td>\n",
       "      <td>6748580</td>\n",
       "    </tr>\n",
       "    <tr>\n",
       "      <th>9</th>\n",
       "      <td>1</td>\n",
       "      <td>4549</td>\n",
       "      <td>6476075</td>\n",
       "    </tr>\n",
       "    <tr>\n",
       "      <th>10</th>\n",
       "      <td>1</td>\n",
       "      <td>5054</td>\n",
       "      <td>6016769</td>\n",
       "    </tr>\n",
       "    <tr>\n",
       "      <th>11</th>\n",
       "      <td>1</td>\n",
       "      <td>5559</td>\n",
       "      <td>5039815</td>\n",
       "    </tr>\n",
       "    <tr>\n",
       "      <th>12</th>\n",
       "      <td>1</td>\n",
       "      <td>6064</td>\n",
       "      <td>4151292</td>\n",
       "    </tr>\n",
       "    <tr>\n",
       "      <th>13</th>\n",
       "      <td>1</td>\n",
       "      <td>6569</td>\n",
       "      <td>3014573</td>\n",
       "    </tr>\n",
       "    <tr>\n",
       "      <th>14</th>\n",
       "      <td>1</td>\n",
       "      <td>7074</td>\n",
       "      <td>2253058</td>\n",
       "    </tr>\n",
       "    <tr>\n",
       "      <th>15</th>\n",
       "      <td>1</td>\n",
       "      <td>7579</td>\n",
       "      <td>1646061</td>\n",
       "    </tr>\n",
       "    <tr>\n",
       "      <th>16</th>\n",
       "      <td>1</td>\n",
       "      <td>8099</td>\n",
       "      <td>2026788</td>\n",
       "    </tr>\n",
       "    <tr>\n",
       "      <th>17</th>\n",
       "      <td>2</td>\n",
       "      <td>4</td>\n",
       "      <td>7008543</td>\n",
       "    </tr>\n",
       "    <tr>\n",
       "      <th>18</th>\n",
       "      <td>2</td>\n",
       "      <td>509</td>\n",
       "      <td>6964499</td>\n",
       "    </tr>\n",
       "    <tr>\n",
       "      <th>19</th>\n",
       "      <td>2</td>\n",
       "      <td>1014</td>\n",
       "      <td>8368109</td>\n",
       "    </tr>\n",
       "    <tr>\n",
       "      <th>20</th>\n",
       "      <td>2</td>\n",
       "      <td>1519</td>\n",
       "      <td>8512092</td>\n",
       "    </tr>\n",
       "    <tr>\n",
       "      <th>21</th>\n",
       "      <td>2</td>\n",
       "      <td>2024</td>\n",
       "      <td>8059415</td>\n",
       "    </tr>\n",
       "    <tr>\n",
       "      <th>22</th>\n",
       "      <td>2</td>\n",
       "      <td>2529</td>\n",
       "      <td>8578537</td>\n",
       "    </tr>\n",
       "    <tr>\n",
       "      <th>23</th>\n",
       "      <td>2</td>\n",
       "      <td>3034</td>\n",
       "      <td>9096835</td>\n",
       "    </tr>\n",
       "    <tr>\n",
       "      <th>24</th>\n",
       "      <td>2</td>\n",
       "      <td>3539</td>\n",
       "      <td>7882850</td>\n",
       "    </tr>\n",
       "    <tr>\n",
       "      <th>25</th>\n",
       "      <td>2</td>\n",
       "      <td>4044</td>\n",
       "      <td>6748580</td>\n",
       "    </tr>\n",
       "    <tr>\n",
       "      <th>26</th>\n",
       "      <td>2</td>\n",
       "      <td>4549</td>\n",
       "      <td>6476075</td>\n",
       "    </tr>\n",
       "    <tr>\n",
       "      <th>27</th>\n",
       "      <td>2</td>\n",
       "      <td>5054</td>\n",
       "      <td>6016769</td>\n",
       "    </tr>\n",
       "    <tr>\n",
       "      <th>28</th>\n",
       "      <td>2</td>\n",
       "      <td>5559</td>\n",
       "      <td>5039815</td>\n",
       "    </tr>\n",
       "    <tr>\n",
       "      <th>29</th>\n",
       "      <td>2</td>\n",
       "      <td>6064</td>\n",
       "      <td>4151292</td>\n",
       "    </tr>\n",
       "    <tr>\n",
       "      <th>30</th>\n",
       "      <td>2</td>\n",
       "      <td>6569</td>\n",
       "      <td>3014573</td>\n",
       "    </tr>\n",
       "    <tr>\n",
       "      <th>31</th>\n",
       "      <td>2</td>\n",
       "      <td>7074</td>\n",
       "      <td>2253058</td>\n",
       "    </tr>\n",
       "    <tr>\n",
       "      <th>32</th>\n",
       "      <td>2</td>\n",
       "      <td>7579</td>\n",
       "      <td>1646061</td>\n",
       "    </tr>\n",
       "    <tr>\n",
       "      <th>33</th>\n",
       "      <td>2</td>\n",
       "      <td>8099</td>\n",
       "      <td>2026788</td>\n",
       "    </tr>\n",
       "  </tbody>\n",
       "</table>\n",
       "</div>"
      ],
      "text/plain": [
       "    SEXO  FXETARIA        0\n",
       "0      1         4  7008543\n",
       "1      1       509  6964499\n",
       "2      1      1014  8368109\n",
       "3      1      1519  8512092\n",
       "4      1      2024  8059415\n",
       "5      1      2529  8578537\n",
       "6      1      3034  9096835\n",
       "7      1      3539  7882850\n",
       "8      1      4044  6748580\n",
       "9      1      4549  6476075\n",
       "10     1      5054  6016769\n",
       "11     1      5559  5039815\n",
       "12     1      6064  4151292\n",
       "13     1      6569  3014573\n",
       "14     1      7074  2253058\n",
       "15     1      7579  1646061\n",
       "16     1      8099  2026788\n",
       "17     2         4  7008543\n",
       "18     2       509  6964499\n",
       "19     2      1014  8368109\n",
       "20     2      1519  8512092\n",
       "21     2      2024  8059415\n",
       "22     2      2529  8578537\n",
       "23     2      3034  9096835\n",
       "24     2      3539  7882850\n",
       "25     2      4044  6748580\n",
       "26     2      4549  6476075\n",
       "27     2      5054  6016769\n",
       "28     2      5559  5039815\n",
       "29     2      6064  4151292\n",
       "30     2      6569  3014573\n",
       "31     2      7074  2253058\n",
       "32     2      7579  1646061\n",
       "33     2      8099  2026788"
      ]
     },
     "execution_count": 45,
     "metadata": {},
     "output_type": "execute_result"
    }
   ],
   "source": [
    "sum_pop_gender_age_year[0]"
   ]
  },
  {
   "cell_type": "markdown",
   "metadata": {},
   "source": [
    "# calculating r_ j (for each year)"
   ]
  },
  {
   "cell_type": "code",
   "execution_count": 46,
   "metadata": {},
   "outputs": [],
   "source": [
    "r_j = []\n",
    "for df1,df2 in zip(sum_observed_gender_age_year,sum_pop_gender_age_year):\n",
    "    #df2.rename(columns={0:'pop'}, inplace=True)\n",
    "    risco_relativo = df1[0]/df2[0]\n",
    "    risco_relativo = risco_relativo.fillna(0)\n",
    "    r_j.append(risco_relativo)"
   ]
  },
  {
   "cell_type": "code",
   "execution_count": 47,
   "metadata": {},
   "outputs": [
    {
     "data": {
      "text/plain": [
       "0     1.426830e-07\n",
       "1     2.871707e-07\n",
       "2     2.390026e-07\n",
       "3     2.349599e-07\n",
       "4     1.240785e-07\n",
       "5     1.165700e-07\n",
       "6     1.099283e-07\n",
       "7     0.000000e+00\n",
       "8     0.000000e+00\n",
       "9     0.000000e+00\n",
       "10    0.000000e+00\n",
       "11    0.000000e+00\n",
       "12    0.000000e+00\n",
       "13    0.000000e+00\n",
       "14    0.000000e+00\n",
       "15    0.000000e+00\n",
       "16    0.000000e+00\n",
       "17    0.000000e+00\n",
       "18    0.000000e+00\n",
       "19    0.000000e+00\n",
       "20    0.000000e+00\n",
       "21    0.000000e+00\n",
       "22    0.000000e+00\n",
       "23    0.000000e+00\n",
       "24    0.000000e+00\n",
       "25    0.000000e+00\n",
       "26    0.000000e+00\n",
       "27    0.000000e+00\n",
       "28    0.000000e+00\n",
       "29    0.000000e+00\n",
       "30    0.000000e+00\n",
       "31    0.000000e+00\n",
       "32    0.000000e+00\n",
       "33    0.000000e+00\n",
       "Name: 0, dtype: float64"
      ]
     },
     "execution_count": 47,
     "metadata": {},
     "output_type": "execute_result"
    }
   ],
   "source": [
    "r_j[0]"
   ]
  },
  {
   "cell_type": "markdown",
   "metadata": {},
   "source": [
    "# calculating E_i for each municipality"
   ]
  },
  {
   "cell_type": "markdown",
   "metadata": {},
   "source": [
    "# 2014"
   ]
  },
  {
   "cell_type": "code",
   "execution_count": 48,
   "metadata": {},
   "outputs": [],
   "source": [
    "filter_2014 = teste_pop[teste_pop.ANO == 2014]"
   ]
  },
  {
   "cell_type": "code",
   "execution_count": 49,
   "metadata": {},
   "outputs": [],
   "source": [
    "P_2014 = pd.pivot_table(filter_2014, values='POPULACAO', index=['MUNIC_RES'], columns=['SEXO','FXETARIA'])\n",
    "P_2014;"
   ]
  },
  {
   "cell_type": "code",
   "execution_count": 50,
   "metadata": {
    "scrolled": false
   },
   "outputs": [],
   "source": [
    "E_2014 =[]\n",
    "for i in range(len(P_2014)):\n",
    "    E_i = sum(np.array(P_2014.iloc[i])*np.array(r_j[0]))\n",
    "    E_2014.append([P_2014.index.values[i],E_i])"
   ]
  },
  {
   "cell_type": "code",
   "execution_count": 51,
   "metadata": {},
   "outputs": [],
   "source": [
    "Expected_2014 = pd.DataFrame(E_2014,\n",
    "                 columns=['codmunres', 'expected_2014'])"
   ]
  },
  {
   "cell_type": "code",
   "execution_count": 52,
   "metadata": {
    "scrolled": false
   },
   "outputs": [
    {
     "data": {
      "text/html": [
       "<div>\n",
       "<style scoped>\n",
       "    .dataframe tbody tr th:only-of-type {\n",
       "        vertical-align: middle;\n",
       "    }\n",
       "\n",
       "    .dataframe tbody tr th {\n",
       "        vertical-align: top;\n",
       "    }\n",
       "\n",
       "    .dataframe thead th {\n",
       "        text-align: right;\n",
       "    }\n",
       "</style>\n",
       "<table border=\"1\" class=\"dataframe\">\n",
       "  <thead>\n",
       "    <tr style=\"text-align: right;\">\n",
       "      <th></th>\n",
       "      <th>codmunres</th>\n",
       "      <th>expected_2014</th>\n",
       "    </tr>\n",
       "  </thead>\n",
       "  <tbody>\n",
       "    <tr>\n",
       "      <th>0</th>\n",
       "      <td>110001</td>\n",
       "      <td>0.001214</td>\n",
       "    </tr>\n",
       "    <tr>\n",
       "      <th>1</th>\n",
       "      <td>110002</td>\n",
       "      <td>0.005375</td>\n",
       "    </tr>\n",
       "    <tr>\n",
       "      <th>2</th>\n",
       "      <td>110003</td>\n",
       "      <td>0.000302</td>\n",
       "    </tr>\n",
       "    <tr>\n",
       "      <th>3</th>\n",
       "      <td>110004</td>\n",
       "      <td>0.004208</td>\n",
       "    </tr>\n",
       "    <tr>\n",
       "      <th>4</th>\n",
       "      <td>110005</td>\n",
       "      <td>0.000839</td>\n",
       "    </tr>\n",
       "  </tbody>\n",
       "</table>\n",
       "</div>"
      ],
      "text/plain": [
       "   codmunres  expected_2014\n",
       "0     110001       0.001214\n",
       "1     110002       0.005375\n",
       "2     110003       0.000302\n",
       "3     110004       0.004208\n",
       "4     110005       0.000839"
      ]
     },
     "execution_count": 52,
     "metadata": {},
     "output_type": "execute_result"
    }
   ],
   "source": [
    "Expected_2014.head()"
   ]
  },
  {
   "cell_type": "code",
   "execution_count": null,
   "metadata": {},
   "outputs": [],
   "source": []
  },
  {
   "cell_type": "markdown",
   "metadata": {},
   "source": [
    "# 2015"
   ]
  },
  {
   "cell_type": "code",
   "execution_count": 53,
   "metadata": {},
   "outputs": [],
   "source": [
    "filter_2015 = teste_pop[teste_pop.ANO == 2015]"
   ]
  },
  {
   "cell_type": "code",
   "execution_count": 54,
   "metadata": {},
   "outputs": [],
   "source": [
    "P_2015 = pd.pivot_table(filter_2015, values='POPULACAO', index=['MUNIC_RES'], columns=['SEXO','FXETARIA'])\n",
    "P_2015;"
   ]
  },
  {
   "cell_type": "code",
   "execution_count": 55,
   "metadata": {
    "scrolled": false
   },
   "outputs": [],
   "source": [
    "E_2015 =[]\n",
    "for i in range(len(P_2015)):\n",
    "    E_i = sum(np.array(P_2015.iloc[i])*np.array(r_j[1]))\n",
    "    E_2015.append([P_2015.index.values[i],E_i])"
   ]
  },
  {
   "cell_type": "code",
   "execution_count": 56,
   "metadata": {},
   "outputs": [],
   "source": [
    "Expected_2015 = pd.DataFrame(E_2015,\n",
    "                 columns=['codmunres', 'expected_2015'])"
   ]
  },
  {
   "cell_type": "code",
   "execution_count": 57,
   "metadata": {
    "scrolled": false
   },
   "outputs": [
    {
     "data": {
      "text/html": [
       "<div>\n",
       "<style scoped>\n",
       "    .dataframe tbody tr th:only-of-type {\n",
       "        vertical-align: middle;\n",
       "    }\n",
       "\n",
       "    .dataframe tbody tr th {\n",
       "        vertical-align: top;\n",
       "    }\n",
       "\n",
       "    .dataframe thead th {\n",
       "        text-align: right;\n",
       "    }\n",
       "</style>\n",
       "<table border=\"1\" class=\"dataframe\">\n",
       "  <thead>\n",
       "    <tr style=\"text-align: right;\">\n",
       "      <th></th>\n",
       "      <th>codmunres</th>\n",
       "      <th>expected_2015</th>\n",
       "    </tr>\n",
       "  </thead>\n",
       "  <tbody>\n",
       "    <tr>\n",
       "      <th>0</th>\n",
       "      <td>110001</td>\n",
       "      <td>0.071153</td>\n",
       "    </tr>\n",
       "    <tr>\n",
       "      <th>1</th>\n",
       "      <td>110002</td>\n",
       "      <td>0.314569</td>\n",
       "    </tr>\n",
       "    <tr>\n",
       "      <th>2</th>\n",
       "      <td>110003</td>\n",
       "      <td>0.018497</td>\n",
       "    </tr>\n",
       "    <tr>\n",
       "      <th>3</th>\n",
       "      <td>110004</td>\n",
       "      <td>0.265629</td>\n",
       "    </tr>\n",
       "    <tr>\n",
       "      <th>4</th>\n",
       "      <td>110005</td>\n",
       "      <td>0.053260</td>\n",
       "    </tr>\n",
       "  </tbody>\n",
       "</table>\n",
       "</div>"
      ],
      "text/plain": [
       "   codmunres  expected_2015\n",
       "0     110001       0.071153\n",
       "1     110002       0.314569\n",
       "2     110003       0.018497\n",
       "3     110004       0.265629\n",
       "4     110005       0.053260"
      ]
     },
     "execution_count": 57,
     "metadata": {},
     "output_type": "execute_result"
    }
   ],
   "source": [
    "Expected_2015.head()"
   ]
  },
  {
   "cell_type": "markdown",
   "metadata": {},
   "source": [
    "# 2016"
   ]
  },
  {
   "cell_type": "code",
   "execution_count": 58,
   "metadata": {},
   "outputs": [],
   "source": [
    "filter_2016 = teste_pop[teste_pop.ANO == 2016]"
   ]
  },
  {
   "cell_type": "code",
   "execution_count": 59,
   "metadata": {},
   "outputs": [],
   "source": [
    "P_2016 = pd.pivot_table(filter_2016, values='POPULACAO', index=['MUNIC_RES'], columns=['SEXO','FXETARIA'])\n",
    "P_2016;"
   ]
  },
  {
   "cell_type": "code",
   "execution_count": 60,
   "metadata": {
    "scrolled": false
   },
   "outputs": [],
   "source": [
    "E_2016 =[]\n",
    "for i in range(len(P_2016)):\n",
    "    E_i = sum(np.array(P_2016.iloc[i])*np.array(r_j[2]))\n",
    "    E_2016.append([P_2016.index.values[i],E_i])"
   ]
  },
  {
   "cell_type": "code",
   "execution_count": 61,
   "metadata": {},
   "outputs": [],
   "source": [
    "Expected_2016 = pd.DataFrame(E_2016,\n",
    "                 columns=['codmunres', 'expected_2016'])"
   ]
  },
  {
   "cell_type": "code",
   "execution_count": 62,
   "metadata": {
    "scrolled": false
   },
   "outputs": [
    {
     "data": {
      "text/html": [
       "<div>\n",
       "<style scoped>\n",
       "    .dataframe tbody tr th:only-of-type {\n",
       "        vertical-align: middle;\n",
       "    }\n",
       "\n",
       "    .dataframe tbody tr th {\n",
       "        vertical-align: top;\n",
       "    }\n",
       "\n",
       "    .dataframe thead th {\n",
       "        text-align: right;\n",
       "    }\n",
       "</style>\n",
       "<table border=\"1\" class=\"dataframe\">\n",
       "  <thead>\n",
       "    <tr style=\"text-align: right;\">\n",
       "      <th></th>\n",
       "      <th>codmunres</th>\n",
       "      <th>expected_2016</th>\n",
       "    </tr>\n",
       "  </thead>\n",
       "  <tbody>\n",
       "    <tr>\n",
       "      <th>0</th>\n",
       "      <td>110001</td>\n",
       "      <td>9.106730</td>\n",
       "    </tr>\n",
       "    <tr>\n",
       "      <th>1</th>\n",
       "      <td>110002</td>\n",
       "      <td>40.907790</td>\n",
       "    </tr>\n",
       "    <tr>\n",
       "      <th>2</th>\n",
       "      <td>110003</td>\n",
       "      <td>2.365789</td>\n",
       "    </tr>\n",
       "    <tr>\n",
       "      <th>3</th>\n",
       "      <td>110004</td>\n",
       "      <td>34.850897</td>\n",
       "    </tr>\n",
       "    <tr>\n",
       "      <th>4</th>\n",
       "      <td>110005</td>\n",
       "      <td>6.932576</td>\n",
       "    </tr>\n",
       "  </tbody>\n",
       "</table>\n",
       "</div>"
      ],
      "text/plain": [
       "   codmunres  expected_2016\n",
       "0     110001       9.106730\n",
       "1     110002      40.907790\n",
       "2     110003       2.365789\n",
       "3     110004      34.850897\n",
       "4     110005       6.932576"
      ]
     },
     "execution_count": 62,
     "metadata": {},
     "output_type": "execute_result"
    }
   ],
   "source": [
    "Expected_2016.head()"
   ]
  },
  {
   "cell_type": "markdown",
   "metadata": {},
   "source": [
    "# 2017"
   ]
  },
  {
   "cell_type": "code",
   "execution_count": 63,
   "metadata": {},
   "outputs": [],
   "source": [
    "filter_2017 = teste_pop[teste_pop.ANO == 2017]"
   ]
  },
  {
   "cell_type": "code",
   "execution_count": 64,
   "metadata": {},
   "outputs": [],
   "source": [
    "P_2017 = pd.pivot_table(filter_2017, values='POPULACAO', index=['MUNIC_RES'], columns=['SEXO','FXETARIA'])\n",
    "P_2017;"
   ]
  },
  {
   "cell_type": "code",
   "execution_count": 65,
   "metadata": {
    "scrolled": false
   },
   "outputs": [],
   "source": [
    "E_2017 =[]\n",
    "for i in range(len(P_2017)):\n",
    "    E_i = sum(np.array(P_2017.iloc[i])*np.array(r_j[3]))\n",
    "    E_2017.append([P_2017.index.values[i],E_i])"
   ]
  },
  {
   "cell_type": "code",
   "execution_count": 66,
   "metadata": {},
   "outputs": [],
   "source": [
    "Expected_2017 = pd.DataFrame(E_2017,\n",
    "                 columns=['codmunres', 'expected_2017'])"
   ]
  },
  {
   "cell_type": "code",
   "execution_count": 67,
   "metadata": {
    "scrolled": false
   },
   "outputs": [
    {
     "data": {
      "text/html": [
       "<div>\n",
       "<style scoped>\n",
       "    .dataframe tbody tr th:only-of-type {\n",
       "        vertical-align: middle;\n",
       "    }\n",
       "\n",
       "    .dataframe tbody tr th {\n",
       "        vertical-align: top;\n",
       "    }\n",
       "\n",
       "    .dataframe thead th {\n",
       "        text-align: right;\n",
       "    }\n",
       "</style>\n",
       "<table border=\"1\" class=\"dataframe\">\n",
       "  <thead>\n",
       "    <tr style=\"text-align: right;\">\n",
       "      <th></th>\n",
       "      <th>codmunres</th>\n",
       "      <th>expected_2017</th>\n",
       "    </tr>\n",
       "  </thead>\n",
       "  <tbody>\n",
       "    <tr>\n",
       "      <th>0</th>\n",
       "      <td>110001</td>\n",
       "      <td>16.533718</td>\n",
       "    </tr>\n",
       "    <tr>\n",
       "      <th>1</th>\n",
       "      <td>110002</td>\n",
       "      <td>77.330662</td>\n",
       "    </tr>\n",
       "    <tr>\n",
       "      <th>2</th>\n",
       "      <td>110003</td>\n",
       "      <td>4.308194</td>\n",
       "    </tr>\n",
       "    <tr>\n",
       "      <th>3</th>\n",
       "      <td>110004</td>\n",
       "      <td>64.700460</td>\n",
       "    </tr>\n",
       "    <tr>\n",
       "      <th>4</th>\n",
       "      <td>110005</td>\n",
       "      <td>12.663672</td>\n",
       "    </tr>\n",
       "  </tbody>\n",
       "</table>\n",
       "</div>"
      ],
      "text/plain": [
       "   codmunres  expected_2017\n",
       "0     110001      16.533718\n",
       "1     110002      77.330662\n",
       "2     110003       4.308194\n",
       "3     110004      64.700460\n",
       "4     110005      12.663672"
      ]
     },
     "execution_count": 67,
     "metadata": {},
     "output_type": "execute_result"
    }
   ],
   "source": [
    "Expected_2017.head()"
   ]
  },
  {
   "cell_type": "markdown",
   "metadata": {},
   "source": [
    "# Observed number of cases per municipality and year"
   ]
  },
  {
   "cell_type": "code",
   "execution_count": 71,
   "metadata": {},
   "outputs": [],
   "source": [
    "teste = teste.astype(int)"
   ]
  },
  {
   "cell_type": "code",
   "execution_count": 72,
   "metadata": {
    "scrolled": false
   },
   "outputs": [
    {
     "data": {
      "text/html": [
       "<div>\n",
       "<style scoped>\n",
       "    .dataframe tbody tr th:only-of-type {\n",
       "        vertical-align: middle;\n",
       "    }\n",
       "\n",
       "    .dataframe tbody tr th {\n",
       "        vertical-align: top;\n",
       "    }\n",
       "\n",
       "    .dataframe thead th {\n",
       "        text-align: right;\n",
       "    }\n",
       "</style>\n",
       "<table border=\"1\" class=\"dataframe\">\n",
       "  <thead>\n",
       "    <tr style=\"text-align: right;\">\n",
       "      <th></th>\n",
       "      <th>codmunres</th>\n",
       "      <th>year</th>\n",
       "      <th>count</th>\n",
       "    </tr>\n",
       "  </thead>\n",
       "  <tbody>\n",
       "    <tr>\n",
       "      <th>0</th>\n",
       "      <td>110002</td>\n",
       "      <td>2017</td>\n",
       "      <td>4</td>\n",
       "    </tr>\n",
       "    <tr>\n",
       "      <th>1</th>\n",
       "      <td>110002</td>\n",
       "      <td>2018</td>\n",
       "      <td>5</td>\n",
       "    </tr>\n",
       "    <tr>\n",
       "      <th>2</th>\n",
       "      <td>110004</td>\n",
       "      <td>2016</td>\n",
       "      <td>4</td>\n",
       "    </tr>\n",
       "    <tr>\n",
       "      <th>3</th>\n",
       "      <td>110004</td>\n",
       "      <td>2017</td>\n",
       "      <td>4</td>\n",
       "    </tr>\n",
       "    <tr>\n",
       "      <th>4</th>\n",
       "      <td>110004</td>\n",
       "      <td>2018</td>\n",
       "      <td>8</td>\n",
       "    </tr>\n",
       "  </tbody>\n",
       "</table>\n",
       "</div>"
      ],
      "text/plain": [
       "   codmunres  year  count\n",
       "0     110002  2017      4\n",
       "1     110002  2018      5\n",
       "2     110004  2016      4\n",
       "3     110004  2017      4\n",
       "4     110004  2018      8"
      ]
     },
     "execution_count": 72,
     "metadata": {},
     "output_type": "execute_result"
    }
   ],
   "source": [
    "observed = teste.groupby(['codmunres','year'])['count'].sum().reset_index()\n",
    "observed.head()"
   ]
  },
  {
   "cell_type": "code",
   "execution_count": 73,
   "metadata": {},
   "outputs": [
    {
     "name": "stdout",
     "output_type": "stream",
     "text": [
      "<class 'pandas.core.frame.DataFrame'>\n",
      "RangeIndex: 3765 entries, 0 to 3764\n",
      "Data columns (total 3 columns):\n",
      "codmunres    3765 non-null int64\n",
      "year         3765 non-null int64\n",
      "count        3765 non-null int64\n",
      "dtypes: int64(3)\n",
      "memory usage: 88.4 KB\n"
     ]
    }
   ],
   "source": [
    "#observed = observed.astype(int)\n",
    "observed.info()"
   ]
  },
  {
   "cell_type": "code",
   "execution_count": 74,
   "metadata": {
    "scrolled": true
   },
   "outputs": [
    {
     "data": {
      "text/html": [
       "<div>\n",
       "<style scoped>\n",
       "    .dataframe tbody tr th:only-of-type {\n",
       "        vertical-align: middle;\n",
       "    }\n",
       "\n",
       "    .dataframe tbody tr th {\n",
       "        vertical-align: top;\n",
       "    }\n",
       "\n",
       "    .dataframe thead th {\n",
       "        text-align: right;\n",
       "    }\n",
       "</style>\n",
       "<table border=\"1\" class=\"dataframe\">\n",
       "  <thead>\n",
       "    <tr style=\"text-align: right;\">\n",
       "      <th></th>\n",
       "      <th>codmunres</th>\n",
       "      <th>year</th>\n",
       "      <th>count</th>\n",
       "    </tr>\n",
       "  </thead>\n",
       "  <tbody>\n",
       "    <tr>\n",
       "      <th>count</th>\n",
       "      <td>3765.000000</td>\n",
       "      <td>3765.000000</td>\n",
       "      <td>3765.000000</td>\n",
       "    </tr>\n",
       "    <tr>\n",
       "      <th>mean</th>\n",
       "      <td>281220.942098</td>\n",
       "      <td>2016.853386</td>\n",
       "      <td>84.175033</td>\n",
       "    </tr>\n",
       "    <tr>\n",
       "      <th>std</th>\n",
       "      <td>86732.137424</td>\n",
       "      <td>0.833521</td>\n",
       "      <td>1118.050657</td>\n",
       "    </tr>\n",
       "    <tr>\n",
       "      <th>min</th>\n",
       "      <td>110002.000000</td>\n",
       "      <td>2014.000000</td>\n",
       "      <td>1.000000</td>\n",
       "    </tr>\n",
       "    <tr>\n",
       "      <th>25%</th>\n",
       "      <td>230565.000000</td>\n",
       "      <td>2016.000000</td>\n",
       "      <td>1.000000</td>\n",
       "    </tr>\n",
       "    <tr>\n",
       "      <th>50%</th>\n",
       "      <td>261320.000000</td>\n",
       "      <td>2017.000000</td>\n",
       "      <td>2.000000</td>\n",
       "    </tr>\n",
       "    <tr>\n",
       "      <th>75%</th>\n",
       "      <td>320465.000000</td>\n",
       "      <td>2018.000000</td>\n",
       "      <td>11.000000</td>\n",
       "    </tr>\n",
       "    <tr>\n",
       "      <th>max</th>\n",
       "      <td>530010.000000</td>\n",
       "      <td>2018.000000</td>\n",
       "      <td>62197.000000</td>\n",
       "    </tr>\n",
       "  </tbody>\n",
       "</table>\n",
       "</div>"
      ],
      "text/plain": [
       "           codmunres         year         count\n",
       "count    3765.000000  3765.000000   3765.000000\n",
       "mean   281220.942098  2016.853386     84.175033\n",
       "std     86732.137424     0.833521   1118.050657\n",
       "min    110002.000000  2014.000000      1.000000\n",
       "25%    230565.000000  2016.000000      1.000000\n",
       "50%    261320.000000  2017.000000      2.000000\n",
       "75%    320465.000000  2018.000000     11.000000\n",
       "max    530010.000000  2018.000000  62197.000000"
      ]
     },
     "execution_count": 74,
     "metadata": {},
     "output_type": "execute_result"
    }
   ],
   "source": [
    "observed.describe()"
   ]
  },
  {
   "cell_type": "code",
   "execution_count": 75,
   "metadata": {},
   "outputs": [
    {
     "data": {
      "text/html": [
       "<div>\n",
       "<style scoped>\n",
       "    .dataframe tbody tr th:only-of-type {\n",
       "        vertical-align: middle;\n",
       "    }\n",
       "\n",
       "    .dataframe tbody tr th {\n",
       "        vertical-align: top;\n",
       "    }\n",
       "\n",
       "    .dataframe thead th {\n",
       "        text-align: right;\n",
       "    }\n",
       "</style>\n",
       "<table border=\"1\" class=\"dataframe\">\n",
       "  <thead>\n",
       "    <tr style=\"text-align: right;\">\n",
       "      <th></th>\n",
       "      <th>codmunres</th>\n",
       "      <th>year</th>\n",
       "      <th>count</th>\n",
       "    </tr>\n",
       "  </thead>\n",
       "  <tbody>\n",
       "    <tr>\n",
       "      <th>17</th>\n",
       "      <td>110020</td>\n",
       "      <td>2015</td>\n",
       "      <td>1</td>\n",
       "    </tr>\n",
       "    <tr>\n",
       "      <th>138</th>\n",
       "      <td>150140</td>\n",
       "      <td>2015</td>\n",
       "      <td>1</td>\n",
       "    </tr>\n",
       "    <tr>\n",
       "      <th>262</th>\n",
       "      <td>150715</td>\n",
       "      <td>2015</td>\n",
       "      <td>1</td>\n",
       "    </tr>\n",
       "    <tr>\n",
       "      <th>414</th>\n",
       "      <td>172120</td>\n",
       "      <td>2015</td>\n",
       "      <td>1</td>\n",
       "    </tr>\n",
       "    <tr>\n",
       "      <th>447</th>\n",
       "      <td>210140</td>\n",
       "      <td>2015</td>\n",
       "      <td>1</td>\n",
       "    </tr>\n",
       "    <tr>\n",
       "      <th>...</th>\n",
       "      <td>...</td>\n",
       "      <td>...</td>\n",
       "      <td>...</td>\n",
       "    </tr>\n",
       "    <tr>\n",
       "      <th>3557</th>\n",
       "      <td>500270</td>\n",
       "      <td>2015</td>\n",
       "      <td>36</td>\n",
       "    </tr>\n",
       "    <tr>\n",
       "      <th>3635</th>\n",
       "      <td>510340</td>\n",
       "      <td>2015</td>\n",
       "      <td>1</td>\n",
       "    </tr>\n",
       "    <tr>\n",
       "      <th>3709</th>\n",
       "      <td>510840</td>\n",
       "      <td>2015</td>\n",
       "      <td>1</td>\n",
       "    </tr>\n",
       "    <tr>\n",
       "      <th>3716</th>\n",
       "      <td>520140</td>\n",
       "      <td>2015</td>\n",
       "      <td>2</td>\n",
       "    </tr>\n",
       "    <tr>\n",
       "      <th>3739</th>\n",
       "      <td>521380</td>\n",
       "      <td>2015</td>\n",
       "      <td>1</td>\n",
       "    </tr>\n",
       "  </tbody>\n",
       "</table>\n",
       "<p>86 rows × 3 columns</p>\n",
       "</div>"
      ],
      "text/plain": [
       "      codmunres  year  count\n",
       "17       110020  2015      1\n",
       "138      150140  2015      1\n",
       "262      150715  2015      1\n",
       "414      172120  2015      1\n",
       "447      210140  2015      1\n",
       "...         ...   ...    ...\n",
       "3557     500270  2015     36\n",
       "3635     510340  2015      1\n",
       "3709     510840  2015      1\n",
       "3716     520140  2015      2\n",
       "3739     521380  2015      1\n",
       "\n",
       "[86 rows x 3 columns]"
      ]
     },
     "execution_count": 75,
     "metadata": {},
     "output_type": "execute_result"
    }
   ],
   "source": [
    "observed[observed.year == 2015]"
   ]
  },
  {
   "cell_type": "code",
   "execution_count": 76,
   "metadata": {},
   "outputs": [],
   "source": [
    "observed = observed[(2014 <= observed.year) & (observed.year <= 2018)]"
   ]
  },
  {
   "cell_type": "code",
   "execution_count": 77,
   "metadata": {
    "scrolled": true
   },
   "outputs": [],
   "source": [
    "observed = pd.pivot_table(observed, values='count', index=['codmunres'], columns=['year'])"
   ]
  },
  {
   "cell_type": "code",
   "execution_count": 78,
   "metadata": {
    "scrolled": true
   },
   "outputs": [
    {
     "data": {
      "text/html": [
       "<div>\n",
       "<style scoped>\n",
       "    .dataframe tbody tr th:only-of-type {\n",
       "        vertical-align: middle;\n",
       "    }\n",
       "\n",
       "    .dataframe tbody tr th {\n",
       "        vertical-align: top;\n",
       "    }\n",
       "\n",
       "    .dataframe thead th {\n",
       "        text-align: right;\n",
       "    }\n",
       "</style>\n",
       "<table border=\"1\" class=\"dataframe\">\n",
       "  <thead>\n",
       "    <tr style=\"text-align: right;\">\n",
       "      <th>year</th>\n",
       "      <th>2014</th>\n",
       "      <th>2015</th>\n",
       "      <th>2016</th>\n",
       "      <th>2017</th>\n",
       "      <th>2018</th>\n",
       "    </tr>\n",
       "    <tr>\n",
       "      <th>codmunres</th>\n",
       "      <th></th>\n",
       "      <th></th>\n",
       "      <th></th>\n",
       "      <th></th>\n",
       "      <th></th>\n",
       "    </tr>\n",
       "  </thead>\n",
       "  <tbody>\n",
       "    <tr>\n",
       "      <th>110002</th>\n",
       "      <td>0.0</td>\n",
       "      <td>0.0</td>\n",
       "      <td>0.0</td>\n",
       "      <td>4.0</td>\n",
       "      <td>5.0</td>\n",
       "    </tr>\n",
       "    <tr>\n",
       "      <th>110004</th>\n",
       "      <td>0.0</td>\n",
       "      <td>0.0</td>\n",
       "      <td>4.0</td>\n",
       "      <td>4.0</td>\n",
       "      <td>8.0</td>\n",
       "    </tr>\n",
       "    <tr>\n",
       "      <th>110005</th>\n",
       "      <td>0.0</td>\n",
       "      <td>0.0</td>\n",
       "      <td>0.0</td>\n",
       "      <td>2.0</td>\n",
       "      <td>1.0</td>\n",
       "    </tr>\n",
       "    <tr>\n",
       "      <th>110006</th>\n",
       "      <td>0.0</td>\n",
       "      <td>0.0</td>\n",
       "      <td>0.0</td>\n",
       "      <td>0.0</td>\n",
       "      <td>1.0</td>\n",
       "    </tr>\n",
       "    <tr>\n",
       "      <th>110010</th>\n",
       "      <td>0.0</td>\n",
       "      <td>0.0</td>\n",
       "      <td>0.0</td>\n",
       "      <td>1.0</td>\n",
       "      <td>2.0</td>\n",
       "    </tr>\n",
       "    <tr>\n",
       "      <th>...</th>\n",
       "      <td>...</td>\n",
       "      <td>...</td>\n",
       "      <td>...</td>\n",
       "      <td>...</td>\n",
       "      <td>...</td>\n",
       "    </tr>\n",
       "    <tr>\n",
       "      <th>522010</th>\n",
       "      <td>0.0</td>\n",
       "      <td>0.0</td>\n",
       "      <td>0.0</td>\n",
       "      <td>2.0</td>\n",
       "      <td>1.0</td>\n",
       "    </tr>\n",
       "    <tr>\n",
       "      <th>522140</th>\n",
       "      <td>0.0</td>\n",
       "      <td>0.0</td>\n",
       "      <td>1.0</td>\n",
       "      <td>2.0</td>\n",
       "      <td>0.0</td>\n",
       "    </tr>\n",
       "    <tr>\n",
       "      <th>522160</th>\n",
       "      <td>0.0</td>\n",
       "      <td>0.0</td>\n",
       "      <td>0.0</td>\n",
       "      <td>2.0</td>\n",
       "      <td>0.0</td>\n",
       "    </tr>\n",
       "    <tr>\n",
       "      <th>522185</th>\n",
       "      <td>0.0</td>\n",
       "      <td>0.0</td>\n",
       "      <td>1.0</td>\n",
       "      <td>0.0</td>\n",
       "      <td>2.0</td>\n",
       "    </tr>\n",
       "    <tr>\n",
       "      <th>530010</th>\n",
       "      <td>0.0</td>\n",
       "      <td>0.0</td>\n",
       "      <td>63.0</td>\n",
       "      <td>44.0</td>\n",
       "      <td>8.0</td>\n",
       "    </tr>\n",
       "  </tbody>\n",
       "</table>\n",
       "<p>2214 rows × 5 columns</p>\n",
       "</div>"
      ],
      "text/plain": [
       "year       2014  2015  2016  2017  2018\n",
       "codmunres                              \n",
       "110002      0.0   0.0   0.0   4.0   5.0\n",
       "110004      0.0   0.0   4.0   4.0   8.0\n",
       "110005      0.0   0.0   0.0   2.0   1.0\n",
       "110006      0.0   0.0   0.0   0.0   1.0\n",
       "110010      0.0   0.0   0.0   1.0   2.0\n",
       "...         ...   ...   ...   ...   ...\n",
       "522010      0.0   0.0   0.0   2.0   1.0\n",
       "522140      0.0   0.0   1.0   2.0   0.0\n",
       "522160      0.0   0.0   0.0   2.0   0.0\n",
       "522185      0.0   0.0   1.0   0.0   2.0\n",
       "530010      0.0   0.0  63.0  44.0   8.0\n",
       "\n",
       "[2214 rows x 5 columns]"
      ]
     },
     "execution_count": 78,
     "metadata": {},
     "output_type": "execute_result"
    }
   ],
   "source": [
    "observed = observed.fillna(0) \n",
    "observed"
   ]
  },
  {
   "cell_type": "code",
   "execution_count": 82,
   "metadata": {},
   "outputs": [
    {
     "data": {
      "text/plain": [
       "166235.0"
      ]
     },
     "execution_count": 82,
     "metadata": {},
     "output_type": "execute_result"
    }
   ],
   "source": [
    "observed[2017].sum()"
   ]
  },
  {
   "cell_type": "code",
   "execution_count": 91,
   "metadata": {},
   "outputs": [
    {
     "data": {
      "text/plain": [
       "2017.0    166345\n",
       "2016.0     89531\n",
       "2018.0     60587\n",
       "2015.0       670\n",
       "2014.0        10\n",
       "Name: year, dtype: int64"
      ]
     },
     "execution_count": 91,
     "metadata": {},
     "output_type": "execute_result"
    }
   ],
   "source": [
    "df.year.value_counts()"
   ]
  },
  {
   "cell_type": "markdown",
   "metadata": {},
   "source": [
    "# calculate the standard incidence ratio"
   ]
  },
  {
   "cell_type": "code",
   "execution_count": 83,
   "metadata": {},
   "outputs": [],
   "source": [
    "codigo_muni = pd.read_excel('/media/juliane_oliveira/My Passport/Datalake/POPULACAO/População/POP_python/DTB_BRASIL_MUNICIPIO.xls')"
   ]
  },
  {
   "cell_type": "code",
   "execution_count": 84,
   "metadata": {
    "scrolled": false
   },
   "outputs": [
    {
     "data": {
      "text/html": [
       "<div>\n",
       "<style scoped>\n",
       "    .dataframe tbody tr th:only-of-type {\n",
       "        vertical-align: middle;\n",
       "    }\n",
       "\n",
       "    .dataframe tbody tr th {\n",
       "        vertical-align: top;\n",
       "    }\n",
       "\n",
       "    .dataframe thead th {\n",
       "        text-align: right;\n",
       "    }\n",
       "</style>\n",
       "<table border=\"1\" class=\"dataframe\">\n",
       "  <thead>\n",
       "    <tr style=\"text-align: right;\">\n",
       "      <th></th>\n",
       "      <th>UF</th>\n",
       "      <th>Nome_UF</th>\n",
       "      <th>Mesorregião Geográfica</th>\n",
       "      <th>Nome_Mesorregião</th>\n",
       "      <th>Microrregião Geográfica</th>\n",
       "      <th>Nome_Microrregião</th>\n",
       "      <th>Município</th>\n",
       "      <th>Código Município Completo</th>\n",
       "      <th>Nome_Município</th>\n",
       "    </tr>\n",
       "  </thead>\n",
       "  <tbody>\n",
       "    <tr>\n",
       "      <th>0</th>\n",
       "      <td>11</td>\n",
       "      <td>Rondônia</td>\n",
       "      <td>2</td>\n",
       "      <td>Leste Rondoniense</td>\n",
       "      <td>6</td>\n",
       "      <td>Cacoal</td>\n",
       "      <td>15</td>\n",
       "      <td>1100015</td>\n",
       "      <td>Alta Floresta D'Oeste</td>\n",
       "    </tr>\n",
       "    <tr>\n",
       "      <th>1</th>\n",
       "      <td>11</td>\n",
       "      <td>Rondônia</td>\n",
       "      <td>2</td>\n",
       "      <td>Leste Rondoniense</td>\n",
       "      <td>6</td>\n",
       "      <td>Cacoal</td>\n",
       "      <td>379</td>\n",
       "      <td>1100379</td>\n",
       "      <td>Alto Alegre dos Parecis</td>\n",
       "    </tr>\n",
       "    <tr>\n",
       "      <th>2</th>\n",
       "      <td>11</td>\n",
       "      <td>Rondônia</td>\n",
       "      <td>2</td>\n",
       "      <td>Leste Rondoniense</td>\n",
       "      <td>3</td>\n",
       "      <td>Ariquemes</td>\n",
       "      <td>403</td>\n",
       "      <td>1100403</td>\n",
       "      <td>Alto Paraíso</td>\n",
       "    </tr>\n",
       "    <tr>\n",
       "      <th>3</th>\n",
       "      <td>11</td>\n",
       "      <td>Rondônia</td>\n",
       "      <td>2</td>\n",
       "      <td>Leste Rondoniense</td>\n",
       "      <td>5</td>\n",
       "      <td>Alvorada D'Oeste</td>\n",
       "      <td>346</td>\n",
       "      <td>1100346</td>\n",
       "      <td>Alvorada D'Oeste</td>\n",
       "    </tr>\n",
       "    <tr>\n",
       "      <th>4</th>\n",
       "      <td>11</td>\n",
       "      <td>Rondônia</td>\n",
       "      <td>2</td>\n",
       "      <td>Leste Rondoniense</td>\n",
       "      <td>3</td>\n",
       "      <td>Ariquemes</td>\n",
       "      <td>23</td>\n",
       "      <td>1100023</td>\n",
       "      <td>Ariquemes</td>\n",
       "    </tr>\n",
       "  </tbody>\n",
       "</table>\n",
       "</div>"
      ],
      "text/plain": [
       "   UF   Nome_UF  Mesorregião Geográfica   Nome_Mesorregião  \\\n",
       "0  11  Rondônia                       2  Leste Rondoniense   \n",
       "1  11  Rondônia                       2  Leste Rondoniense   \n",
       "2  11  Rondônia                       2  Leste Rondoniense   \n",
       "3  11  Rondônia                       2  Leste Rondoniense   \n",
       "4  11  Rondônia                       2  Leste Rondoniense   \n",
       "\n",
       "   Microrregião Geográfica Nome_Microrregião  Município  \\\n",
       "0                        6            Cacoal         15   \n",
       "1                        6            Cacoal        379   \n",
       "2                        3         Ariquemes        403   \n",
       "3                        5  Alvorada D'Oeste        346   \n",
       "4                        3         Ariquemes         23   \n",
       "\n",
       "   Código Município Completo           Nome_Município  \n",
       "0                    1100015    Alta Floresta D'Oeste  \n",
       "1                    1100379  Alto Alegre dos Parecis  \n",
       "2                    1100403             Alto Paraíso  \n",
       "3                    1100346         Alvorada D'Oeste  \n",
       "4                    1100023                Ariquemes  "
      ]
     },
     "execution_count": 84,
     "metadata": {},
     "output_type": "execute_result"
    }
   ],
   "source": [
    "codigo_muni.head()"
   ]
  },
  {
   "cell_type": "code",
   "execution_count": 85,
   "metadata": {},
   "outputs": [
    {
     "data": {
      "text/plain": [
       "Index(['UF', 'Nome_UF', 'Mesorregião Geográfica', 'Nome_Mesorregião',\n",
       "       'Microrregião Geográfica', 'Nome_Microrregião', 'Município',\n",
       "       'Código Município Completo', 'Nome_Município'],\n",
       "      dtype='object')"
      ]
     },
     "execution_count": 85,
     "metadata": {},
     "output_type": "execute_result"
    }
   ],
   "source": [
    "codigo_muni.columns"
   ]
  },
  {
   "cell_type": "code",
   "execution_count": 86,
   "metadata": {
    "scrolled": true
   },
   "outputs": [],
   "source": [
    "codigo_muni.rename(columns={'Código Município Completo':'codmuni_full'}, \n",
    "                 inplace=True);"
   ]
  },
  {
   "cell_type": "code",
   "execution_count": 87,
   "metadata": {},
   "outputs": [],
   "source": [
    "codigo_muni['codmuni'] = codigo_muni.codmuni_full.floordiv(10)"
   ]
  },
  {
   "cell_type": "code",
   "execution_count": 88,
   "metadata": {},
   "outputs": [
    {
     "data": {
      "text/html": [
       "<div>\n",
       "<style scoped>\n",
       "    .dataframe tbody tr th:only-of-type {\n",
       "        vertical-align: middle;\n",
       "    }\n",
       "\n",
       "    .dataframe tbody tr th {\n",
       "        vertical-align: top;\n",
       "    }\n",
       "\n",
       "    .dataframe thead th {\n",
       "        text-align: right;\n",
       "    }\n",
       "</style>\n",
       "<table border=\"1\" class=\"dataframe\">\n",
       "  <thead>\n",
       "    <tr style=\"text-align: right;\">\n",
       "      <th></th>\n",
       "      <th>UF</th>\n",
       "      <th>Nome_UF</th>\n",
       "      <th>Mesorregião Geográfica</th>\n",
       "      <th>Nome_Mesorregião</th>\n",
       "      <th>Microrregião Geográfica</th>\n",
       "      <th>Nome_Microrregião</th>\n",
       "      <th>Município</th>\n",
       "      <th>codmuni_full</th>\n",
       "      <th>Nome_Município</th>\n",
       "      <th>codmuni</th>\n",
       "    </tr>\n",
       "  </thead>\n",
       "  <tbody>\n",
       "    <tr>\n",
       "      <th>0</th>\n",
       "      <td>11</td>\n",
       "      <td>Rondônia</td>\n",
       "      <td>2</td>\n",
       "      <td>Leste Rondoniense</td>\n",
       "      <td>6</td>\n",
       "      <td>Cacoal</td>\n",
       "      <td>15</td>\n",
       "      <td>1100015</td>\n",
       "      <td>Alta Floresta D'Oeste</td>\n",
       "      <td>110001</td>\n",
       "    </tr>\n",
       "    <tr>\n",
       "      <th>1</th>\n",
       "      <td>11</td>\n",
       "      <td>Rondônia</td>\n",
       "      <td>2</td>\n",
       "      <td>Leste Rondoniense</td>\n",
       "      <td>6</td>\n",
       "      <td>Cacoal</td>\n",
       "      <td>379</td>\n",
       "      <td>1100379</td>\n",
       "      <td>Alto Alegre dos Parecis</td>\n",
       "      <td>110037</td>\n",
       "    </tr>\n",
       "    <tr>\n",
       "      <th>2</th>\n",
       "      <td>11</td>\n",
       "      <td>Rondônia</td>\n",
       "      <td>2</td>\n",
       "      <td>Leste Rondoniense</td>\n",
       "      <td>3</td>\n",
       "      <td>Ariquemes</td>\n",
       "      <td>403</td>\n",
       "      <td>1100403</td>\n",
       "      <td>Alto Paraíso</td>\n",
       "      <td>110040</td>\n",
       "    </tr>\n",
       "    <tr>\n",
       "      <th>3</th>\n",
       "      <td>11</td>\n",
       "      <td>Rondônia</td>\n",
       "      <td>2</td>\n",
       "      <td>Leste Rondoniense</td>\n",
       "      <td>5</td>\n",
       "      <td>Alvorada D'Oeste</td>\n",
       "      <td>346</td>\n",
       "      <td>1100346</td>\n",
       "      <td>Alvorada D'Oeste</td>\n",
       "      <td>110034</td>\n",
       "    </tr>\n",
       "    <tr>\n",
       "      <th>4</th>\n",
       "      <td>11</td>\n",
       "      <td>Rondônia</td>\n",
       "      <td>2</td>\n",
       "      <td>Leste Rondoniense</td>\n",
       "      <td>3</td>\n",
       "      <td>Ariquemes</td>\n",
       "      <td>23</td>\n",
       "      <td>1100023</td>\n",
       "      <td>Ariquemes</td>\n",
       "      <td>110002</td>\n",
       "    </tr>\n",
       "  </tbody>\n",
       "</table>\n",
       "</div>"
      ],
      "text/plain": [
       "   UF   Nome_UF  Mesorregião Geográfica   Nome_Mesorregião  \\\n",
       "0  11  Rondônia                       2  Leste Rondoniense   \n",
       "1  11  Rondônia                       2  Leste Rondoniense   \n",
       "2  11  Rondônia                       2  Leste Rondoniense   \n",
       "3  11  Rondônia                       2  Leste Rondoniense   \n",
       "4  11  Rondônia                       2  Leste Rondoniense   \n",
       "\n",
       "   Microrregião Geográfica Nome_Microrregião  Município  codmuni_full  \\\n",
       "0                        6            Cacoal         15       1100015   \n",
       "1                        6            Cacoal        379       1100379   \n",
       "2                        3         Ariquemes        403       1100403   \n",
       "3                        5  Alvorada D'Oeste        346       1100346   \n",
       "4                        3         Ariquemes         23       1100023   \n",
       "\n",
       "            Nome_Município  codmuni  \n",
       "0    Alta Floresta D'Oeste   110001  \n",
       "1  Alto Alegre dos Parecis   110037  \n",
       "2             Alto Paraíso   110040  \n",
       "3         Alvorada D'Oeste   110034  \n",
       "4                Ariquemes   110002  "
      ]
     },
     "execution_count": 88,
     "metadata": {},
     "output_type": "execute_result"
    }
   ],
   "source": [
    "codigo_muni.head()"
   ]
  },
  {
   "cell_type": "code",
   "execution_count": 90,
   "metadata": {
    "scrolled": true
   },
   "outputs": [
    {
     "name": "stdout",
     "output_type": "stream",
     "text": [
      "<class 'pandas.core.frame.DataFrame'>\n",
      "Int64Index: 2214 entries, 110002 to 530010\n",
      "Data columns (total 5 columns):\n",
      "2014    2214 non-null int64\n",
      "2015    2214 non-null int64\n",
      "2016    2214 non-null int64\n",
      "2017    2214 non-null int64\n",
      "2018    2214 non-null int64\n",
      "dtypes: int64(5)\n",
      "memory usage: 103.8 KB\n"
     ]
    }
   ],
   "source": [
    "observed = observed.astype(int)\n",
    "observed.info()"
   ]
  },
  {
   "cell_type": "code",
   "execution_count": null,
   "metadata": {},
   "outputs": [],
   "source": []
  },
  {
   "cell_type": "code",
   "execution_count": 91,
   "metadata": {},
   "outputs": [],
   "source": [
    "final = codigo_muni.set_index('codmuni').join(observed) "
   ]
  },
  {
   "cell_type": "code",
   "execution_count": 92,
   "metadata": {
    "scrolled": true
   },
   "outputs": [
    {
     "data": {
      "text/html": [
       "<div>\n",
       "<style scoped>\n",
       "    .dataframe tbody tr th:only-of-type {\n",
       "        vertical-align: middle;\n",
       "    }\n",
       "\n",
       "    .dataframe tbody tr th {\n",
       "        vertical-align: top;\n",
       "    }\n",
       "\n",
       "    .dataframe thead th {\n",
       "        text-align: right;\n",
       "    }\n",
       "</style>\n",
       "<table border=\"1\" class=\"dataframe\">\n",
       "  <thead>\n",
       "    <tr style=\"text-align: right;\">\n",
       "      <th></th>\n",
       "      <th>UF</th>\n",
       "      <th>Nome_UF</th>\n",
       "      <th>Mesorregião Geográfica</th>\n",
       "      <th>Nome_Mesorregião</th>\n",
       "      <th>Microrregião Geográfica</th>\n",
       "      <th>Nome_Microrregião</th>\n",
       "      <th>Município</th>\n",
       "      <th>codmuni_full</th>\n",
       "      <th>Nome_Município</th>\n",
       "      <th>2014</th>\n",
       "      <th>2015</th>\n",
       "      <th>2016</th>\n",
       "      <th>2017</th>\n",
       "      <th>2018</th>\n",
       "    </tr>\n",
       "    <tr>\n",
       "      <th>codmuni</th>\n",
       "      <th></th>\n",
       "      <th></th>\n",
       "      <th></th>\n",
       "      <th></th>\n",
       "      <th></th>\n",
       "      <th></th>\n",
       "      <th></th>\n",
       "      <th></th>\n",
       "      <th></th>\n",
       "      <th></th>\n",
       "      <th></th>\n",
       "      <th></th>\n",
       "      <th></th>\n",
       "      <th></th>\n",
       "    </tr>\n",
       "  </thead>\n",
       "  <tbody>\n",
       "    <tr>\n",
       "      <th>110001</th>\n",
       "      <td>11</td>\n",
       "      <td>Rondônia</td>\n",
       "      <td>2</td>\n",
       "      <td>Leste Rondoniense</td>\n",
       "      <td>6</td>\n",
       "      <td>Cacoal</td>\n",
       "      <td>15</td>\n",
       "      <td>1100015</td>\n",
       "      <td>Alta Floresta D'Oeste</td>\n",
       "      <td>NaN</td>\n",
       "      <td>NaN</td>\n",
       "      <td>NaN</td>\n",
       "      <td>NaN</td>\n",
       "      <td>NaN</td>\n",
       "    </tr>\n",
       "    <tr>\n",
       "      <th>110037</th>\n",
       "      <td>11</td>\n",
       "      <td>Rondônia</td>\n",
       "      <td>2</td>\n",
       "      <td>Leste Rondoniense</td>\n",
       "      <td>6</td>\n",
       "      <td>Cacoal</td>\n",
       "      <td>379</td>\n",
       "      <td>1100379</td>\n",
       "      <td>Alto Alegre dos Parecis</td>\n",
       "      <td>0.0</td>\n",
       "      <td>0.0</td>\n",
       "      <td>1.0</td>\n",
       "      <td>0.0</td>\n",
       "      <td>2.0</td>\n",
       "    </tr>\n",
       "    <tr>\n",
       "      <th>110040</th>\n",
       "      <td>11</td>\n",
       "      <td>Rondônia</td>\n",
       "      <td>2</td>\n",
       "      <td>Leste Rondoniense</td>\n",
       "      <td>3</td>\n",
       "      <td>Ariquemes</td>\n",
       "      <td>403</td>\n",
       "      <td>1100403</td>\n",
       "      <td>Alto Paraíso</td>\n",
       "      <td>0.0</td>\n",
       "      <td>0.0</td>\n",
       "      <td>1.0</td>\n",
       "      <td>1.0</td>\n",
       "      <td>1.0</td>\n",
       "    </tr>\n",
       "    <tr>\n",
       "      <th>110034</th>\n",
       "      <td>11</td>\n",
       "      <td>Rondônia</td>\n",
       "      <td>2</td>\n",
       "      <td>Leste Rondoniense</td>\n",
       "      <td>5</td>\n",
       "      <td>Alvorada D'Oeste</td>\n",
       "      <td>346</td>\n",
       "      <td>1100346</td>\n",
       "      <td>Alvorada D'Oeste</td>\n",
       "      <td>NaN</td>\n",
       "      <td>NaN</td>\n",
       "      <td>NaN</td>\n",
       "      <td>NaN</td>\n",
       "      <td>NaN</td>\n",
       "    </tr>\n",
       "    <tr>\n",
       "      <th>110002</th>\n",
       "      <td>11</td>\n",
       "      <td>Rondônia</td>\n",
       "      <td>2</td>\n",
       "      <td>Leste Rondoniense</td>\n",
       "      <td>3</td>\n",
       "      <td>Ariquemes</td>\n",
       "      <td>23</td>\n",
       "      <td>1100023</td>\n",
       "      <td>Ariquemes</td>\n",
       "      <td>0.0</td>\n",
       "      <td>0.0</td>\n",
       "      <td>0.0</td>\n",
       "      <td>4.0</td>\n",
       "      <td>5.0</td>\n",
       "    </tr>\n",
       "    <tr>\n",
       "      <th>...</th>\n",
       "      <td>...</td>\n",
       "      <td>...</td>\n",
       "      <td>...</td>\n",
       "      <td>...</td>\n",
       "      <td>...</td>\n",
       "      <td>...</td>\n",
       "      <td>...</td>\n",
       "      <td>...</td>\n",
       "      <td>...</td>\n",
       "      <td>...</td>\n",
       "      <td>...</td>\n",
       "      <td>...</td>\n",
       "      <td>...</td>\n",
       "      <td>...</td>\n",
       "    </tr>\n",
       "    <tr>\n",
       "      <th>522200</th>\n",
       "      <td>52</td>\n",
       "      <td>Goiás</td>\n",
       "      <td>5</td>\n",
       "      <td>Sul Goiano</td>\n",
       "      <td>16</td>\n",
       "      <td>Pires do Rio</td>\n",
       "      <td>22005</td>\n",
       "      <td>5222005</td>\n",
       "      <td>Vianópolis</td>\n",
       "      <td>NaN</td>\n",
       "      <td>NaN</td>\n",
       "      <td>NaN</td>\n",
       "      <td>NaN</td>\n",
       "      <td>NaN</td>\n",
       "    </tr>\n",
       "    <tr>\n",
       "      <th>522205</th>\n",
       "      <td>52</td>\n",
       "      <td>Goiás</td>\n",
       "      <td>5</td>\n",
       "      <td>Sul Goiano</td>\n",
       "      <td>15</td>\n",
       "      <td>Meia Ponte</td>\n",
       "      <td>22054</td>\n",
       "      <td>5222054</td>\n",
       "      <td>Vicentinópolis</td>\n",
       "      <td>NaN</td>\n",
       "      <td>NaN</td>\n",
       "      <td>NaN</td>\n",
       "      <td>NaN</td>\n",
       "      <td>NaN</td>\n",
       "    </tr>\n",
       "    <tr>\n",
       "      <th>522220</th>\n",
       "      <td>52</td>\n",
       "      <td>Goiás</td>\n",
       "      <td>4</td>\n",
       "      <td>Leste Goiano</td>\n",
       "      <td>12</td>\n",
       "      <td>Entorno de Brasília</td>\n",
       "      <td>22203</td>\n",
       "      <td>5222203</td>\n",
       "      <td>Vila Boa</td>\n",
       "      <td>NaN</td>\n",
       "      <td>NaN</td>\n",
       "      <td>NaN</td>\n",
       "      <td>NaN</td>\n",
       "      <td>NaN</td>\n",
       "    </tr>\n",
       "    <tr>\n",
       "      <th>522230</th>\n",
       "      <td>52</td>\n",
       "      <td>Goiás</td>\n",
       "      <td>4</td>\n",
       "      <td>Leste Goiano</td>\n",
       "      <td>12</td>\n",
       "      <td>Entorno de Brasília</td>\n",
       "      <td>22302</td>\n",
       "      <td>5222302</td>\n",
       "      <td>Vila Propício</td>\n",
       "      <td>NaN</td>\n",
       "      <td>NaN</td>\n",
       "      <td>NaN</td>\n",
       "      <td>NaN</td>\n",
       "      <td>NaN</td>\n",
       "    </tr>\n",
       "    <tr>\n",
       "      <th>530010</th>\n",
       "      <td>53</td>\n",
       "      <td>Distrito Federal</td>\n",
       "      <td>1</td>\n",
       "      <td>Distrito Federal</td>\n",
       "      <td>1</td>\n",
       "      <td>Brasília</td>\n",
       "      <td>108</td>\n",
       "      <td>5300108</td>\n",
       "      <td>Brasília</td>\n",
       "      <td>0.0</td>\n",
       "      <td>0.0</td>\n",
       "      <td>63.0</td>\n",
       "      <td>44.0</td>\n",
       "      <td>8.0</td>\n",
       "    </tr>\n",
       "  </tbody>\n",
       "</table>\n",
       "<p>5570 rows × 14 columns</p>\n",
       "</div>"
      ],
      "text/plain": [
       "         UF           Nome_UF  Mesorregião Geográfica   Nome_Mesorregião  \\\n",
       "codmuni                                                                    \n",
       "110001   11          Rondônia                       2  Leste Rondoniense   \n",
       "110037   11          Rondônia                       2  Leste Rondoniense   \n",
       "110040   11          Rondônia                       2  Leste Rondoniense   \n",
       "110034   11          Rondônia                       2  Leste Rondoniense   \n",
       "110002   11          Rondônia                       2  Leste Rondoniense   \n",
       "...      ..               ...                     ...                ...   \n",
       "522200   52             Goiás                       5         Sul Goiano   \n",
       "522205   52             Goiás                       5         Sul Goiano   \n",
       "522220   52             Goiás                       4       Leste Goiano   \n",
       "522230   52             Goiás                       4       Leste Goiano   \n",
       "530010   53  Distrito Federal                       1   Distrito Federal   \n",
       "\n",
       "         Microrregião Geográfica    Nome_Microrregião  Município  \\\n",
       "codmuni                                                            \n",
       "110001                         6               Cacoal         15   \n",
       "110037                         6               Cacoal        379   \n",
       "110040                         3            Ariquemes        403   \n",
       "110034                         5     Alvorada D'Oeste        346   \n",
       "110002                         3            Ariquemes         23   \n",
       "...                          ...                  ...        ...   \n",
       "522200                        16         Pires do Rio      22005   \n",
       "522205                        15           Meia Ponte      22054   \n",
       "522220                        12  Entorno de Brasília      22203   \n",
       "522230                        12  Entorno de Brasília      22302   \n",
       "530010                         1             Brasília        108   \n",
       "\n",
       "         codmuni_full           Nome_Município  2014  2015  2016  2017  2018  \n",
       "codmuni                                                                       \n",
       "110001        1100015    Alta Floresta D'Oeste   NaN   NaN   NaN   NaN   NaN  \n",
       "110037        1100379  Alto Alegre dos Parecis   0.0   0.0   1.0   0.0   2.0  \n",
       "110040        1100403             Alto Paraíso   0.0   0.0   1.0   1.0   1.0  \n",
       "110034        1100346         Alvorada D'Oeste   NaN   NaN   NaN   NaN   NaN  \n",
       "110002        1100023                Ariquemes   0.0   0.0   0.0   4.0   5.0  \n",
       "...               ...                      ...   ...   ...   ...   ...   ...  \n",
       "522200        5222005               Vianópolis   NaN   NaN   NaN   NaN   NaN  \n",
       "522205        5222054           Vicentinópolis   NaN   NaN   NaN   NaN   NaN  \n",
       "522220        5222203                 Vila Boa   NaN   NaN   NaN   NaN   NaN  \n",
       "522230        5222302            Vila Propício   NaN   NaN   NaN   NaN   NaN  \n",
       "530010        5300108                 Brasília   0.0   0.0  63.0  44.0   8.0  \n",
       "\n",
       "[5570 rows x 14 columns]"
      ]
     },
     "execution_count": 92,
     "metadata": {},
     "output_type": "execute_result"
    }
   ],
   "source": [
    "final"
   ]
  },
  {
   "cell_type": "code",
   "execution_count": 93,
   "metadata": {},
   "outputs": [],
   "source": [
    "final = final.join(Expected_2014.set_index('codmunres')).join(Expected_2015.set_index('codmunres')).join(Expected_2016.set_index('codmunres')).join(Expected_2017.set_index('codmunres'))"
   ]
  },
  {
   "cell_type": "code",
   "execution_count": 94,
   "metadata": {
    "scrolled": true
   },
   "outputs": [
    {
     "data": {
      "text/plain": [
       "Index([                     'UF',                 'Nome_UF',\n",
       "        'Mesorregião Geográfica',        'Nome_Mesorregião',\n",
       "       'Microrregião Geográfica',       'Nome_Microrregião',\n",
       "                     'Município',            'codmuni_full',\n",
       "                'Nome_Município',                      2014,\n",
       "                            2015,                      2016,\n",
       "                            2017,                      2018,\n",
       "                 'expected_2014',           'expected_2015',\n",
       "                 'expected_2016',           'expected_2017'],\n",
       "      dtype='object')"
      ]
     },
     "execution_count": 94,
     "metadata": {},
     "output_type": "execute_result"
    }
   ],
   "source": [
    "final.columns"
   ]
  },
  {
   "cell_type": "code",
   "execution_count": 95,
   "metadata": {},
   "outputs": [],
   "source": [
    "final['SIR_2014'] = final[2014]/final['expected_2014']\n",
    "final['SIR_2015'] = final[2015]/final['expected_2015']\n",
    "final['SIR_2016'] = final[2016]/final['expected_2016']\n",
    "final['SIR_2017'] = final[2017]/final['expected_2017']"
   ]
  },
  {
   "cell_type": "code",
   "execution_count": 96,
   "metadata": {},
   "outputs": [],
   "source": [
    "final = final.fillna(0)"
   ]
  },
  {
   "cell_type": "code",
   "execution_count": 97,
   "metadata": {},
   "outputs": [
    {
     "data": {
      "text/html": [
       "<div>\n",
       "<style scoped>\n",
       "    .dataframe tbody tr th:only-of-type {\n",
       "        vertical-align: middle;\n",
       "    }\n",
       "\n",
       "    .dataframe tbody tr th {\n",
       "        vertical-align: top;\n",
       "    }\n",
       "\n",
       "    .dataframe thead th {\n",
       "        text-align: right;\n",
       "    }\n",
       "</style>\n",
       "<table border=\"1\" class=\"dataframe\">\n",
       "  <thead>\n",
       "    <tr style=\"text-align: right;\">\n",
       "      <th></th>\n",
       "      <th>UF</th>\n",
       "      <th>Mesorregião Geográfica</th>\n",
       "      <th>Microrregião Geográfica</th>\n",
       "      <th>Município</th>\n",
       "      <th>codmuni_full</th>\n",
       "      <th>2014</th>\n",
       "      <th>2015</th>\n",
       "      <th>2016</th>\n",
       "      <th>2017</th>\n",
       "      <th>2018</th>\n",
       "      <th>expected_2014</th>\n",
       "      <th>expected_2015</th>\n",
       "      <th>expected_2016</th>\n",
       "      <th>expected_2017</th>\n",
       "      <th>SIR_2014</th>\n",
       "      <th>SIR_2015</th>\n",
       "      <th>SIR_2016</th>\n",
       "      <th>SIR_2017</th>\n",
       "    </tr>\n",
       "  </thead>\n",
       "  <tbody>\n",
       "    <tr>\n",
       "      <th>count</th>\n",
       "      <td>5570.000000</td>\n",
       "      <td>5570.000000</td>\n",
       "      <td>5570.000000</td>\n",
       "      <td>5570.000000</td>\n",
       "      <td>5.570000e+03</td>\n",
       "      <td>5570.000000</td>\n",
       "      <td>5570.000000</td>\n",
       "      <td>5570.000000</td>\n",
       "      <td>5570.000000</td>\n",
       "      <td>5570.000000</td>\n",
       "      <td>5570.000000</td>\n",
       "      <td>5570.000000</td>\n",
       "      <td>5570.000000</td>\n",
       "      <td>5570.000000</td>\n",
       "      <td>5570.000000</td>\n",
       "      <td>5570.000000</td>\n",
       "      <td>5570.000000</td>\n",
       "      <td>5570.000000</td>\n",
       "    </tr>\n",
       "    <tr>\n",
       "      <th>mean</th>\n",
       "      <td>32.377738</td>\n",
       "      <td>4.264991</td>\n",
       "      <td>17.633573</td>\n",
       "      <td>15816.982585</td>\n",
       "      <td>3.253591e+06</td>\n",
       "      <td>0.001795</td>\n",
       "      <td>0.120287</td>\n",
       "      <td>16.063016</td>\n",
       "      <td>29.844704</td>\n",
       "      <td>10.867684</td>\n",
       "      <td>0.001795</td>\n",
       "      <td>0.120287</td>\n",
       "      <td>16.063016</td>\n",
       "      <td>29.844704</td>\n",
       "      <td>0.122889</td>\n",
       "      <td>0.448445</td>\n",
       "      <td>0.672283</td>\n",
       "      <td>0.501092</td>\n",
       "    </tr>\n",
       "    <tr>\n",
       "      <th>std</th>\n",
       "      <td>9.833862</td>\n",
       "      <td>3.206175</td>\n",
       "      <td>15.514306</td>\n",
       "      <td>15997.299780</td>\n",
       "      <td>9.849103e+05</td>\n",
       "      <td>0.084731</td>\n",
       "      <td>2.409333</td>\n",
       "      <td>262.224073</td>\n",
       "      <td>854.390073</td>\n",
       "      <td>222.831997</td>\n",
       "      <td>0.009750</td>\n",
       "      <td>0.730320</td>\n",
       "      <td>99.282464</td>\n",
       "      <td>183.785184</td>\n",
       "      <td>7.222447</td>\n",
       "      <td>11.678499</td>\n",
       "      <td>4.323560</td>\n",
       "      <td>3.024867</td>\n",
       "    </tr>\n",
       "    <tr>\n",
       "      <th>min</th>\n",
       "      <td>11.000000</td>\n",
       "      <td>1.000000</td>\n",
       "      <td>1.000000</td>\n",
       "      <td>13.000000</td>\n",
       "      <td>1.100015e+06</td>\n",
       "      <td>0.000000</td>\n",
       "      <td>0.000000</td>\n",
       "      <td>0.000000</td>\n",
       "      <td>0.000000</td>\n",
       "      <td>0.000000</td>\n",
       "      <td>0.000000</td>\n",
       "      <td>0.000000</td>\n",
       "      <td>0.000000</td>\n",
       "      <td>0.000000</td>\n",
       "      <td>0.000000</td>\n",
       "      <td>0.000000</td>\n",
       "      <td>0.000000</td>\n",
       "      <td>0.000000</td>\n",
       "    </tr>\n",
       "    <tr>\n",
       "      <th>25%</th>\n",
       "      <td>25.000000</td>\n",
       "      <td>2.000000</td>\n",
       "      <td>6.000000</td>\n",
       "      <td>4507.250000</td>\n",
       "      <td>2.512126e+06</td>\n",
       "      <td>0.000000</td>\n",
       "      <td>0.000000</td>\n",
       "      <td>0.000000</td>\n",
       "      <td>0.000000</td>\n",
       "      <td>0.000000</td>\n",
       "      <td>0.000251</td>\n",
       "      <td>0.016652</td>\n",
       "      <td>2.194194</td>\n",
       "      <td>4.012585</td>\n",
       "      <td>0.000000</td>\n",
       "      <td>0.000000</td>\n",
       "      <td>0.000000</td>\n",
       "      <td>0.000000</td>\n",
       "    </tr>\n",
       "    <tr>\n",
       "      <th>50%</th>\n",
       "      <td>31.000000</td>\n",
       "      <td>3.000000</td>\n",
       "      <td>13.000000</td>\n",
       "      <td>10400.500000</td>\n",
       "      <td>3.146280e+06</td>\n",
       "      <td>0.000000</td>\n",
       "      <td>0.000000</td>\n",
       "      <td>0.000000</td>\n",
       "      <td>0.000000</td>\n",
       "      <td>0.000000</td>\n",
       "      <td>0.000570</td>\n",
       "      <td>0.035817</td>\n",
       "      <td>4.703660</td>\n",
       "      <td>8.688193</td>\n",
       "      <td>0.000000</td>\n",
       "      <td>0.000000</td>\n",
       "      <td>0.000000</td>\n",
       "      <td>0.000000</td>\n",
       "    </tr>\n",
       "    <tr>\n",
       "      <th>75%</th>\n",
       "      <td>41.000000</td>\n",
       "      <td>6.000000</td>\n",
       "      <td>24.000000</td>\n",
       "      <td>20853.000000</td>\n",
       "      <td>4.119190e+06</td>\n",
       "      <td>0.000000</td>\n",
       "      <td>0.000000</td>\n",
       "      <td>0.000000</td>\n",
       "      <td>0.000000</td>\n",
       "      <td>0.000000</td>\n",
       "      <td>0.001275</td>\n",
       "      <td>0.078991</td>\n",
       "      <td>10.367468</td>\n",
       "      <td>19.248216</td>\n",
       "      <td>0.000000</td>\n",
       "      <td>0.000000</td>\n",
       "      <td>0.000000</td>\n",
       "      <td>0.000000</td>\n",
       "    </tr>\n",
       "    <tr>\n",
       "      <th>max</th>\n",
       "      <td>53.000000</td>\n",
       "      <td>15.000000</td>\n",
       "      <td>66.000000</td>\n",
       "      <td>72202.000000</td>\n",
       "      <td>5.300108e+06</td>\n",
       "      <td>6.000000</td>\n",
       "      <td>110.000000</td>\n",
       "      <td>16616.000000</td>\n",
       "      <td>62197.000000</td>\n",
       "      <td>9800.000000</td>\n",
       "      <td>0.528039</td>\n",
       "      <td>40.082186</td>\n",
       "      <td>5450.075620</td>\n",
       "      <td>10079.782575</td>\n",
       "      <td>530.992945</td>\n",
       "      <td>797.562732</td>\n",
       "      <td>113.336640</td>\n",
       "      <td>85.039948</td>\n",
       "    </tr>\n",
       "  </tbody>\n",
       "</table>\n",
       "</div>"
      ],
      "text/plain": [
       "                UF  Mesorregião Geográfica  Microrregião Geográfica  \\\n",
       "count  5570.000000             5570.000000              5570.000000   \n",
       "mean     32.377738                4.264991                17.633573   \n",
       "std       9.833862                3.206175                15.514306   \n",
       "min      11.000000                1.000000                 1.000000   \n",
       "25%      25.000000                2.000000                 6.000000   \n",
       "50%      31.000000                3.000000                13.000000   \n",
       "75%      41.000000                6.000000                24.000000   \n",
       "max      53.000000               15.000000                66.000000   \n",
       "\n",
       "          Município  codmuni_full         2014         2015          2016  \\\n",
       "count   5570.000000  5.570000e+03  5570.000000  5570.000000   5570.000000   \n",
       "mean   15816.982585  3.253591e+06     0.001795     0.120287     16.063016   \n",
       "std    15997.299780  9.849103e+05     0.084731     2.409333    262.224073   \n",
       "min       13.000000  1.100015e+06     0.000000     0.000000      0.000000   \n",
       "25%     4507.250000  2.512126e+06     0.000000     0.000000      0.000000   \n",
       "50%    10400.500000  3.146280e+06     0.000000     0.000000      0.000000   \n",
       "75%    20853.000000  4.119190e+06     0.000000     0.000000      0.000000   \n",
       "max    72202.000000  5.300108e+06     6.000000   110.000000  16616.000000   \n",
       "\n",
       "               2017         2018  expected_2014  expected_2015  expected_2016  \\\n",
       "count   5570.000000  5570.000000    5570.000000    5570.000000    5570.000000   \n",
       "mean      29.844704    10.867684       0.001795       0.120287      16.063016   \n",
       "std      854.390073   222.831997       0.009750       0.730320      99.282464   \n",
       "min        0.000000     0.000000       0.000000       0.000000       0.000000   \n",
       "25%        0.000000     0.000000       0.000251       0.016652       2.194194   \n",
       "50%        0.000000     0.000000       0.000570       0.035817       4.703660   \n",
       "75%        0.000000     0.000000       0.001275       0.078991      10.367468   \n",
       "max    62197.000000  9800.000000       0.528039      40.082186    5450.075620   \n",
       "\n",
       "       expected_2017     SIR_2014     SIR_2015     SIR_2016     SIR_2017  \n",
       "count    5570.000000  5570.000000  5570.000000  5570.000000  5570.000000  \n",
       "mean       29.844704     0.122889     0.448445     0.672283     0.501092  \n",
       "std       183.785184     7.222447    11.678499     4.323560     3.024867  \n",
       "min         0.000000     0.000000     0.000000     0.000000     0.000000  \n",
       "25%         4.012585     0.000000     0.000000     0.000000     0.000000  \n",
       "50%         8.688193     0.000000     0.000000     0.000000     0.000000  \n",
       "75%        19.248216     0.000000     0.000000     0.000000     0.000000  \n",
       "max     10079.782575   530.992945   797.562732   113.336640    85.039948  "
      ]
     },
     "execution_count": 97,
     "metadata": {},
     "output_type": "execute_result"
    }
   ],
   "source": [
    "final.describe()"
   ]
  },
  {
   "cell_type": "code",
   "execution_count": 98,
   "metadata": {
    "scrolled": true
   },
   "outputs": [
    {
     "data": {
      "text/html": [
       "<div>\n",
       "<style scoped>\n",
       "    .dataframe tbody tr th:only-of-type {\n",
       "        vertical-align: middle;\n",
       "    }\n",
       "\n",
       "    .dataframe tbody tr th {\n",
       "        vertical-align: top;\n",
       "    }\n",
       "\n",
       "    .dataframe thead th {\n",
       "        text-align: right;\n",
       "    }\n",
       "</style>\n",
       "<table border=\"1\" class=\"dataframe\">\n",
       "  <thead>\n",
       "    <tr style=\"text-align: right;\">\n",
       "      <th></th>\n",
       "      <th>UF</th>\n",
       "      <th>Nome_UF</th>\n",
       "      <th>Mesorregião Geográfica</th>\n",
       "      <th>Nome_Mesorregião</th>\n",
       "      <th>Microrregião Geográfica</th>\n",
       "      <th>Nome_Microrregião</th>\n",
       "      <th>Município</th>\n",
       "      <th>codmuni_full</th>\n",
       "      <th>Nome_Município</th>\n",
       "      <th>2014</th>\n",
       "      <th>...</th>\n",
       "      <th>2017</th>\n",
       "      <th>2018</th>\n",
       "      <th>expected_2014</th>\n",
       "      <th>expected_2015</th>\n",
       "      <th>expected_2016</th>\n",
       "      <th>expected_2017</th>\n",
       "      <th>SIR_2014</th>\n",
       "      <th>SIR_2015</th>\n",
       "      <th>SIR_2016</th>\n",
       "      <th>SIR_2017</th>\n",
       "    </tr>\n",
       "    <tr>\n",
       "      <th>codmuni</th>\n",
       "      <th></th>\n",
       "      <th></th>\n",
       "      <th></th>\n",
       "      <th></th>\n",
       "      <th></th>\n",
       "      <th></th>\n",
       "      <th></th>\n",
       "      <th></th>\n",
       "      <th></th>\n",
       "      <th></th>\n",
       "      <th></th>\n",
       "      <th></th>\n",
       "      <th></th>\n",
       "      <th></th>\n",
       "      <th></th>\n",
       "      <th></th>\n",
       "      <th></th>\n",
       "      <th></th>\n",
       "      <th></th>\n",
       "      <th></th>\n",
       "      <th></th>\n",
       "    </tr>\n",
       "  </thead>\n",
       "  <tbody>\n",
       "    <tr>\n",
       "      <th>110001</th>\n",
       "      <td>11</td>\n",
       "      <td>Rondônia</td>\n",
       "      <td>2</td>\n",
       "      <td>Leste Rondoniense</td>\n",
       "      <td>6</td>\n",
       "      <td>Cacoal</td>\n",
       "      <td>15</td>\n",
       "      <td>1100015</td>\n",
       "      <td>Alta Floresta D'Oeste</td>\n",
       "      <td>0.0</td>\n",
       "      <td>...</td>\n",
       "      <td>0.0</td>\n",
       "      <td>0.0</td>\n",
       "      <td>0.001214</td>\n",
       "      <td>0.071153</td>\n",
       "      <td>9.106730</td>\n",
       "      <td>16.533718</td>\n",
       "      <td>0.0</td>\n",
       "      <td>0.0</td>\n",
       "      <td>0.000000</td>\n",
       "      <td>0.000000</td>\n",
       "    </tr>\n",
       "    <tr>\n",
       "      <th>110037</th>\n",
       "      <td>11</td>\n",
       "      <td>Rondônia</td>\n",
       "      <td>2</td>\n",
       "      <td>Leste Rondoniense</td>\n",
       "      <td>6</td>\n",
       "      <td>Cacoal</td>\n",
       "      <td>379</td>\n",
       "      <td>1100379</td>\n",
       "      <td>Alto Alegre dos Parecis</td>\n",
       "      <td>0.0</td>\n",
       "      <td>...</td>\n",
       "      <td>0.0</td>\n",
       "      <td>2.0</td>\n",
       "      <td>0.000721</td>\n",
       "      <td>0.039890</td>\n",
       "      <td>5.084187</td>\n",
       "      <td>9.491535</td>\n",
       "      <td>0.0</td>\n",
       "      <td>0.0</td>\n",
       "      <td>0.196688</td>\n",
       "      <td>0.000000</td>\n",
       "    </tr>\n",
       "    <tr>\n",
       "      <th>110040</th>\n",
       "      <td>11</td>\n",
       "      <td>Rondônia</td>\n",
       "      <td>2</td>\n",
       "      <td>Leste Rondoniense</td>\n",
       "      <td>3</td>\n",
       "      <td>Ariquemes</td>\n",
       "      <td>403</td>\n",
       "      <td>1100403</td>\n",
       "      <td>Alto Paraíso</td>\n",
       "      <td>0.0</td>\n",
       "      <td>...</td>\n",
       "      <td>1.0</td>\n",
       "      <td>1.0</td>\n",
       "      <td>0.001036</td>\n",
       "      <td>0.058324</td>\n",
       "      <td>7.603357</td>\n",
       "      <td>14.416333</td>\n",
       "      <td>0.0</td>\n",
       "      <td>0.0</td>\n",
       "      <td>0.131521</td>\n",
       "      <td>0.069366</td>\n",
       "    </tr>\n",
       "    <tr>\n",
       "      <th>110034</th>\n",
       "      <td>11</td>\n",
       "      <td>Rondônia</td>\n",
       "      <td>2</td>\n",
       "      <td>Leste Rondoniense</td>\n",
       "      <td>5</td>\n",
       "      <td>Alvorada D'Oeste</td>\n",
       "      <td>346</td>\n",
       "      <td>1100346</td>\n",
       "      <td>Alvorada D'Oeste</td>\n",
       "      <td>0.0</td>\n",
       "      <td>...</td>\n",
       "      <td>0.0</td>\n",
       "      <td>0.0</td>\n",
       "      <td>0.000858</td>\n",
       "      <td>0.050043</td>\n",
       "      <td>6.350453</td>\n",
       "      <td>11.544949</td>\n",
       "      <td>0.0</td>\n",
       "      <td>0.0</td>\n",
       "      <td>0.000000</td>\n",
       "      <td>0.000000</td>\n",
       "    </tr>\n",
       "    <tr>\n",
       "      <th>110002</th>\n",
       "      <td>11</td>\n",
       "      <td>Rondônia</td>\n",
       "      <td>2</td>\n",
       "      <td>Leste Rondoniense</td>\n",
       "      <td>3</td>\n",
       "      <td>Ariquemes</td>\n",
       "      <td>23</td>\n",
       "      <td>1100023</td>\n",
       "      <td>Ariquemes</td>\n",
       "      <td>0.0</td>\n",
       "      <td>...</td>\n",
       "      <td>4.0</td>\n",
       "      <td>5.0</td>\n",
       "      <td>0.005375</td>\n",
       "      <td>0.314569</td>\n",
       "      <td>40.907790</td>\n",
       "      <td>77.330662</td>\n",
       "      <td>0.0</td>\n",
       "      <td>0.0</td>\n",
       "      <td>0.000000</td>\n",
       "      <td>0.051726</td>\n",
       "    </tr>\n",
       "    <tr>\n",
       "      <th>...</th>\n",
       "      <td>...</td>\n",
       "      <td>...</td>\n",
       "      <td>...</td>\n",
       "      <td>...</td>\n",
       "      <td>...</td>\n",
       "      <td>...</td>\n",
       "      <td>...</td>\n",
       "      <td>...</td>\n",
       "      <td>...</td>\n",
       "      <td>...</td>\n",
       "      <td>...</td>\n",
       "      <td>...</td>\n",
       "      <td>...</td>\n",
       "      <td>...</td>\n",
       "      <td>...</td>\n",
       "      <td>...</td>\n",
       "      <td>...</td>\n",
       "      <td>...</td>\n",
       "      <td>...</td>\n",
       "      <td>...</td>\n",
       "      <td>...</td>\n",
       "    </tr>\n",
       "    <tr>\n",
       "      <th>522200</th>\n",
       "      <td>52</td>\n",
       "      <td>Goiás</td>\n",
       "      <td>5</td>\n",
       "      <td>Sul Goiano</td>\n",
       "      <td>16</td>\n",
       "      <td>Pires do Rio</td>\n",
       "      <td>22005</td>\n",
       "      <td>5222005</td>\n",
       "      <td>Vianópolis</td>\n",
       "      <td>0.0</td>\n",
       "      <td>...</td>\n",
       "      <td>0.0</td>\n",
       "      <td>0.0</td>\n",
       "      <td>0.000661</td>\n",
       "      <td>0.043447</td>\n",
       "      <td>5.787762</td>\n",
       "      <td>10.751671</td>\n",
       "      <td>0.0</td>\n",
       "      <td>0.0</td>\n",
       "      <td>0.000000</td>\n",
       "      <td>0.000000</td>\n",
       "    </tr>\n",
       "    <tr>\n",
       "      <th>522205</th>\n",
       "      <td>52</td>\n",
       "      <td>Goiás</td>\n",
       "      <td>5</td>\n",
       "      <td>Sul Goiano</td>\n",
       "      <td>15</td>\n",
       "      <td>Meia Ponte</td>\n",
       "      <td>22054</td>\n",
       "      <td>5222054</td>\n",
       "      <td>Vicentinópolis</td>\n",
       "      <td>0.0</td>\n",
       "      <td>...</td>\n",
       "      <td>0.0</td>\n",
       "      <td>0.0</td>\n",
       "      <td>0.000361</td>\n",
       "      <td>0.023737</td>\n",
       "      <td>3.136566</td>\n",
       "      <td>5.863074</td>\n",
       "      <td>0.0</td>\n",
       "      <td>0.0</td>\n",
       "      <td>0.000000</td>\n",
       "      <td>0.000000</td>\n",
       "    </tr>\n",
       "    <tr>\n",
       "      <th>522220</th>\n",
       "      <td>52</td>\n",
       "      <td>Goiás</td>\n",
       "      <td>4</td>\n",
       "      <td>Leste Goiano</td>\n",
       "      <td>12</td>\n",
       "      <td>Entorno de Brasília</td>\n",
       "      <td>22203</td>\n",
       "      <td>5222203</td>\n",
       "      <td>Vila Boa</td>\n",
       "      <td>0.0</td>\n",
       "      <td>...</td>\n",
       "      <td>0.0</td>\n",
       "      <td>0.0</td>\n",
       "      <td>0.000292</td>\n",
       "      <td>0.015697</td>\n",
       "      <td>2.042299</td>\n",
       "      <td>3.829118</td>\n",
       "      <td>0.0</td>\n",
       "      <td>0.0</td>\n",
       "      <td>0.000000</td>\n",
       "      <td>0.000000</td>\n",
       "    </tr>\n",
       "    <tr>\n",
       "      <th>522230</th>\n",
       "      <td>52</td>\n",
       "      <td>Goiás</td>\n",
       "      <td>4</td>\n",
       "      <td>Leste Goiano</td>\n",
       "      <td>12</td>\n",
       "      <td>Entorno de Brasília</td>\n",
       "      <td>22302</td>\n",
       "      <td>5222302</td>\n",
       "      <td>Vila Propício</td>\n",
       "      <td>0.0</td>\n",
       "      <td>...</td>\n",
       "      <td>0.0</td>\n",
       "      <td>0.0</td>\n",
       "      <td>0.000289</td>\n",
       "      <td>0.017359</td>\n",
       "      <td>2.266557</td>\n",
       "      <td>4.194758</td>\n",
       "      <td>0.0</td>\n",
       "      <td>0.0</td>\n",
       "      <td>0.000000</td>\n",
       "      <td>0.000000</td>\n",
       "    </tr>\n",
       "    <tr>\n",
       "      <th>530010</th>\n",
       "      <td>53</td>\n",
       "      <td>Distrito Federal</td>\n",
       "      <td>1</td>\n",
       "      <td>Distrito Federal</td>\n",
       "      <td>1</td>\n",
       "      <td>Brasília</td>\n",
       "      <td>108</td>\n",
       "      <td>5300108</td>\n",
       "      <td>Brasília</td>\n",
       "      <td>0.0</td>\n",
       "      <td>...</td>\n",
       "      <td>44.0</td>\n",
       "      <td>8.0</td>\n",
       "      <td>0.142937</td>\n",
       "      <td>9.705781</td>\n",
       "      <td>1305.244111</td>\n",
       "      <td>2459.423122</td>\n",
       "      <td>0.0</td>\n",
       "      <td>0.0</td>\n",
       "      <td>0.048267</td>\n",
       "      <td>0.017890</td>\n",
       "    </tr>\n",
       "  </tbody>\n",
       "</table>\n",
       "<p>5570 rows × 22 columns</p>\n",
       "</div>"
      ],
      "text/plain": [
       "         UF           Nome_UF  Mesorregião Geográfica   Nome_Mesorregião  \\\n",
       "codmuni                                                                    \n",
       "110001   11          Rondônia                       2  Leste Rondoniense   \n",
       "110037   11          Rondônia                       2  Leste Rondoniense   \n",
       "110040   11          Rondônia                       2  Leste Rondoniense   \n",
       "110034   11          Rondônia                       2  Leste Rondoniense   \n",
       "110002   11          Rondônia                       2  Leste Rondoniense   \n",
       "...      ..               ...                     ...                ...   \n",
       "522200   52             Goiás                       5         Sul Goiano   \n",
       "522205   52             Goiás                       5         Sul Goiano   \n",
       "522220   52             Goiás                       4       Leste Goiano   \n",
       "522230   52             Goiás                       4       Leste Goiano   \n",
       "530010   53  Distrito Federal                       1   Distrito Federal   \n",
       "\n",
       "         Microrregião Geográfica    Nome_Microrregião  Município  \\\n",
       "codmuni                                                            \n",
       "110001                         6               Cacoal         15   \n",
       "110037                         6               Cacoal        379   \n",
       "110040                         3            Ariquemes        403   \n",
       "110034                         5     Alvorada D'Oeste        346   \n",
       "110002                         3            Ariquemes         23   \n",
       "...                          ...                  ...        ...   \n",
       "522200                        16         Pires do Rio      22005   \n",
       "522205                        15           Meia Ponte      22054   \n",
       "522220                        12  Entorno de Brasília      22203   \n",
       "522230                        12  Entorno de Brasília      22302   \n",
       "530010                         1             Brasília        108   \n",
       "\n",
       "         codmuni_full           Nome_Município  2014  ...  2017  2018  \\\n",
       "codmuni                                               ...               \n",
       "110001        1100015    Alta Floresta D'Oeste   0.0  ...   0.0   0.0   \n",
       "110037        1100379  Alto Alegre dos Parecis   0.0  ...   0.0   2.0   \n",
       "110040        1100403             Alto Paraíso   0.0  ...   1.0   1.0   \n",
       "110034        1100346         Alvorada D'Oeste   0.0  ...   0.0   0.0   \n",
       "110002        1100023                Ariquemes   0.0  ...   4.0   5.0   \n",
       "...               ...                      ...   ...  ...   ...   ...   \n",
       "522200        5222005               Vianópolis   0.0  ...   0.0   0.0   \n",
       "522205        5222054           Vicentinópolis   0.0  ...   0.0   0.0   \n",
       "522220        5222203                 Vila Boa   0.0  ...   0.0   0.0   \n",
       "522230        5222302            Vila Propício   0.0  ...   0.0   0.0   \n",
       "530010        5300108                 Brasília   0.0  ...  44.0   8.0   \n",
       "\n",
       "         expected_2014  expected_2015  expected_2016  expected_2017  SIR_2014  \\\n",
       "codmuni                                                                         \n",
       "110001        0.001214       0.071153       9.106730      16.533718       0.0   \n",
       "110037        0.000721       0.039890       5.084187       9.491535       0.0   \n",
       "110040        0.001036       0.058324       7.603357      14.416333       0.0   \n",
       "110034        0.000858       0.050043       6.350453      11.544949       0.0   \n",
       "110002        0.005375       0.314569      40.907790      77.330662       0.0   \n",
       "...                ...            ...            ...            ...       ...   \n",
       "522200        0.000661       0.043447       5.787762      10.751671       0.0   \n",
       "522205        0.000361       0.023737       3.136566       5.863074       0.0   \n",
       "522220        0.000292       0.015697       2.042299       3.829118       0.0   \n",
       "522230        0.000289       0.017359       2.266557       4.194758       0.0   \n",
       "530010        0.142937       9.705781    1305.244111    2459.423122       0.0   \n",
       "\n",
       "         SIR_2015  SIR_2016  SIR_2017  \n",
       "codmuni                                \n",
       "110001        0.0  0.000000  0.000000  \n",
       "110037        0.0  0.196688  0.000000  \n",
       "110040        0.0  0.131521  0.069366  \n",
       "110034        0.0  0.000000  0.000000  \n",
       "110002        0.0  0.000000  0.051726  \n",
       "...           ...       ...       ...  \n",
       "522200        0.0  0.000000  0.000000  \n",
       "522205        0.0  0.000000  0.000000  \n",
       "522220        0.0  0.000000  0.000000  \n",
       "522230        0.0  0.000000  0.000000  \n",
       "530010        0.0  0.048267  0.017890  \n",
       "\n",
       "[5570 rows x 22 columns]"
      ]
     },
     "execution_count": 98,
     "metadata": {},
     "output_type": "execute_result"
    }
   ],
   "source": [
    "final"
   ]
  },
  {
   "cell_type": "code",
   "execution_count": 102,
   "metadata": {
    "scrolled": true
   },
   "outputs": [
    {
     "data": {
      "text/plain": [
       "166235.0"
      ]
     },
     "execution_count": 102,
     "metadata": {},
     "output_type": "execute_result"
    }
   ],
   "source": [
    "final[2017].sum()"
   ]
  },
  {
   "cell_type": "code",
   "execution_count": 108,
   "metadata": {
    "scrolled": true
   },
   "outputs": [
    {
     "data": {
      "text/plain": [
       "2017.0    166345\n",
       "2016.0     89531\n",
       "2018.0     60587\n",
       "2015.0       670\n",
       "2014.0        10\n",
       "Name: year, dtype: int64"
      ]
     },
     "execution_count": 108,
     "metadata": {},
     "output_type": "execute_result"
    }
   ],
   "source": [
    "data.year.value_counts()"
   ]
  },
  {
   "cell_type": "code",
   "execution_count": 103,
   "metadata": {},
   "outputs": [],
   "source": [
    "final.to_excel('standard_incidence_ratio_chik.xls')"
   ]
  },
  {
   "cell_type": "code",
   "execution_count": null,
   "metadata": {},
   "outputs": [],
   "source": []
  },
  {
   "cell_type": "code",
   "execution_count": null,
   "metadata": {},
   "outputs": [],
   "source": []
  }
 ],
 "metadata": {
  "kernelspec": {
   "display_name": "Python 3",
   "language": "python",
   "name": "python3"
  },
  "language_info": {
   "codemirror_mode": {
    "name": "ipython",
    "version": 3
   },
   "file_extension": ".py",
   "mimetype": "text/x-python",
   "name": "python",
   "nbconvert_exporter": "python",
   "pygments_lexer": "ipython3",
   "version": "3.6.5"
  }
 },
 "nbformat": 4,
 "nbformat_minor": 2
}
